{
 "cells": [
  {
   "cell_type": "markdown",
   "metadata": {},
   "source": [
    "# Development of Map Reduce APIs\n",
    "Let us develop our own Map Reduce APIs to understand how they work internally. We need to be comfortable with passing the functions as arguments.\n",
    "\n",
    "We will provide the code and walk you through to make you understand how the Map Reduce APIs are internally implemented.\n",
    "\n",
    "* Develop myFilter\n",
    "* Validate myFilter Function\n",
    "* Develop myMap\n",
    "* Validate myMap Function\n",
    "* Develop myReduce\n",
    "* Develop myReduceByKey\n",
    "* Exercises"
   ]
  },
  {
   "cell_type": "markdown",
   "metadata": {},
   "source": [
    "## Develop myFilter\n",
    "\n",
    "Develop a function by name myFilter which takes a collection and a function as arguments. Function should do the following:\n",
    "* Iterate through elements\n",
    "* Apply the condition using the argument passed. We might pass named function or lambda function.\n",
    "* Return the collection with all the elements satisfying the condition."
   ]
  },
  {
   "cell_type": "markdown",
   "metadata": {},
   "source": [
    "## Validate myFilter function\n",
    "\n",
    "Use the same examples which were used before as part of Processing Collections using loops.\n",
    "\n",
    "* Read orders data"
   ]
  },
  {
   "cell_type": "markdown",
   "metadata": {},
   "source": [
    "* Get orders placed by customer id 12431\n"
   ]
  },
  {
   "cell_type": "markdown",
   "metadata": {},
   "source": [
    "* Get orders placed by customer id 12431 in the month of 2014 January"
   ]
  },
  {
   "cell_type": "markdown",
   "metadata": {},
   "source": [
    "* Get orders placed by customer id 12431 in processing or pending_payment for the month of 2014 January"
   ]
  },
  {
   "cell_type": "markdown",
   "metadata": {},
   "source": [
    "## Develop myMap\n",
    "\n",
    "Develop a function by name myMap which takes a collection and a function as arguments. Function should do the following:\n",
    "* Iterate through elements\n",
    "* Apply the transformation logic using the argument passed.\n",
    "* Return the collection with all the elements which are transformed based on the logic passed."
   ]
  },
  {
   "cell_type": "markdown",
   "metadata": {},
   "source": [
    "### Validate myMap function\n",
    "* Create list for range between 1 to 9 and return square of each number."
   ]
  },
  {
   "cell_type": "markdown",
   "metadata": {},
   "source": [
    "* Use orders and extract order_dates. Also apply set and get only unique dates."
   ]
  },
  {
   "cell_type": "markdown",
   "metadata": {},
   "source": [
    "* Use orders and extract order_id as well as order_date from each element in the form of a tuple. Make sure that order_id is of type int."
   ]
  },
  {
   "cell_type": "markdown",
   "metadata": {},
   "source": [
    "## Develop myReduce\n",
    "Develop a function by name myReduce which takes a collection and a function as arguments. Function should do the following:\n",
    "* Iterate through elements\n",
    "* Perform aggregation operation using the argument passed. Argument should have necessary arithmetic logic.\n",
    "* Return the aggregated result."
   ]
  },
  {
   "cell_type": "markdown",
   "metadata": {},
   "source": [
    "## Develop myReduceByKey\n",
    "Develop a function by name myReduceByKey which takes a collection of tuples and a function as arguments. Each element in the collection should have exactly 2 attributes. Function should do the following:\n",
    "* Iterate through the collection of tuples.\n",
    "* Group the data by first element in the collection of tuples and apply the function using the argument passed. Argument should have necessary arithmetic logic. \n",
    "* Return a collection of tuples, where first element is unique and second element is aggregated result."
   ]
  },
  {
   "cell_type": "markdown",
   "metadata": {},
   "source": [
    "* Use the function to get the count by date from orders."
   ]
  },
  {
   "cell_type": "markdown",
   "metadata": {},
   "source": [
    "* Use the function to get the revenue for each order id."
   ]
  },
  {
   "cell_type": "markdown",
   "metadata": {},
   "source": [
    "## Exercises\n",
    "Here are the same exercises which you have solved before. Try to solve these using mapReduce APIs.\n",
    "* We will provide you a python script which will have all the above map reduce APIs. Use it as package and solve the below mentioned problems.\n",
    "  * Create a file with name `mymapreduce.py`\n",
    "  * Import and use it `from mymapreduce import *`."
   ]
  },
  {
   "cell_type": "code",
   "execution_count": null,
   "metadata": {},
   "outputs": [],
   "source": [
    "def myFilter(c, f):\n",
    "   c_f = []\n",
    "   for e in c:\n",
    "       if(f(e)):\n",
    "           c_f.append(e)\n",
    "   return c_f\n",
    "\n",
    "def myMap(c, f):\n",
    "   c_f = []\n",
    "   for e in c:\n",
    "       c_f.append(f(e))\n",
    "   return c_f\n",
    "\n",
    "def myReduce(c, f):\n",
    "   t = c[0]\n",
    "   for e in c[1:]:\n",
    "       t = f(t, e)\n",
    "   return t\n",
    "\n",
    "def myReduceByKey(p, f):\n",
    "   p_f = {}\n",
    "   for e in p:\n",
    "       if(e[0] in p_f):\n",
    "           p_f[e[0]] = f(p_f[e[0]], e[1])\n",
    "       else:\n",
    "           p_f[e[0]] = e[1]\n",
    "   return list(p_f.items())"
   ]
  },
  {
   "cell_type": "markdown",
   "metadata": {},
   "source": [
    "* Get number of COMPLETE orders placed by each customer\n",
    "* Get total number of PENDING or PENDING_PAYMENT orders for the month of 2014 January.\n",
    "* Get outstanding amount for each month considering orders with status PAYMENT_REVIEW, PENDING, PENDING_PAYMENT and PROCESSING."
   ]
  }
 ],
 "metadata": {
  "kernelspec": {
   "display_name": "Python 3",
   "language": "python",
   "name": "python3"
  },
  "language_info": {
   "codemirror_mode": {
    "name": "ipython",
    "version": 3
   },
   "file_extension": ".py",
   "mimetype": "text/x-python",
   "name": "python",
   "nbconvert_exporter": "python",
   "pygments_lexer": "ipython3",
   "version": "3.7.4"
  }
 },
 "nbformat": 4,
 "nbformat_minor": 4
}
