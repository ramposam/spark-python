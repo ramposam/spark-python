{
 "cells": [
  {
   "cell_type": "markdown",
   "metadata": {},
   "source": [
    "# Processing Collections using loops\n",
    "As part of this module we will see how to manipulate collections using loops. We typically don’t use loops but this module will help in improving our programming skills.\n",
    "\n",
    "* Reading files into collections\n",
    "* Standard Transformations\n",
    "* Filtering Data\n",
    "* Performing Aggregations\n",
    "* Joining Data Sets\n",
    "* Exercises\n",
    "* Limitations of using Loops"
   ]
  },
  {
   "cell_type": "markdown",
   "metadata": {},
   "source": [
    "## Reading files into collections\n",
    "\n",
    "Let us understand how to read data from files into collections. \n",
    "* Python have simple and yet rich APIs to perform file I/O\n",
    "* We can create a file object with `open` in different modes (by default read only mode)\n",
    "* To read the contents from the file into memory, we have APIs on top of file object such as `read()`\n",
    "* `read()` will create large string using contents of the files\n",
    "* If the data have multiple records with new line character as delimiter, we can apply `splitlines()` on the output of read\n",
    "* `splitlines()` will convert the string into list with new line character as delimiter"
   ]
  },
  {
   "cell_type": "code",
   "execution_count": 9,
   "metadata": {},
   "outputs": [],
   "source": [
    "path = '/Users/itversity/Research/data/retail_db/orders/part-00000.csv'\n",
    "# C:\\\\users\\\\itversity\\\\Research\n",
    "orders_file = open(path)"
   ]
  },
  {
   "cell_type": "code",
   "execution_count": 10,
   "metadata": {},
   "outputs": [],
   "source": [
    "orders_raw = orders_file.read()"
   ]
  },
  {
   "cell_type": "code",
   "execution_count": 11,
   "metadata": {},
   "outputs": [],
   "source": [
    "orders = orders_raw.splitlines()"
   ]
  },
  {
   "cell_type": "code",
   "execution_count": 12,
   "metadata": {},
   "outputs": [
    {
     "data": {
      "text/plain": [
       "['1,2013-07-25 00:00:00.0,11599,CLOSED',\n",
       " '2,2013-07-25 00:00:00.0,256,PENDING_PAYMENT',\n",
       " '3,2013-07-25 00:00:00.0,12111,COMPLETE',\n",
       " '4,2013-07-25 00:00:00.0,8827,CLOSED',\n",
       " '5,2013-07-25 00:00:00.0,11318,COMPLETE',\n",
       " '6,2013-07-25 00:00:00.0,7130,COMPLETE',\n",
       " '7,2013-07-25 00:00:00.0,4530,COMPLETE',\n",
       " '8,2013-07-25 00:00:00.0,2911,PROCESSING',\n",
       " '9,2013-07-25 00:00:00.0,5657,PENDING_PAYMENT',\n",
       " '10,2013-07-25 00:00:00.0,5648,PENDING_PAYMENT']"
      ]
     },
     "execution_count": 12,
     "metadata": {},
     "output_type": "execute_result"
    }
   ],
   "source": [
    "orders[:10]"
   ]
  },
  {
   "cell_type": "markdown",
   "metadata": {},
   "source": [
    "## Standard Transformations\n",
    "\n",
    "Let us understand standard transformations we perform on top of data in collections.\n",
    "* Filtering\n",
    "* Row level transformations such as standardization, cleansing etc.\n",
    "* Aggregations\n",
    "* Grouped Aggregations\n",
    "* Sorting and Ranking\n",
    "\n",
    "Typically we use external libraries such as Pandas, Pyspark etc to perform these standard transformations. However, we will try to develop using conventional loops to understand how they are implemented and also to get better with respect to programming.\n"
   ]
  },
  {
   "cell_type": "markdown",
   "metadata": {},
   "source": [
    "## Filtering Data\n",
    "Let us perform few tasks to understand how to filter the data in collections using loops and conditionals.\n",
    "\n",
    "* Here are the details about orders.\n",
    "  * Data is in text file format\n",
    "  * Each line in the file contains one record.\n",
    "  * Each record contains 4 attributes which are separated by “,”\n",
    "    * order_id\n",
    "    * order_date\n",
    "    * order_customer_id\n",
    "    * order_status\n",
    "  * Create a function by name **get_customer_orders** which take **orders list** and **customer_id** as arguments and **return all the orders placed by customer_id**\n"
   ]
  },
  {
   "cell_type": "code",
   "execution_count": 13,
   "metadata": {},
   "outputs": [
    {
     "data": {
      "text/plain": [
       "['1,2013-07-25 00:00:00.0,11599,CLOSED',\n",
       " '2,2013-07-25 00:00:00.0,256,PENDING_PAYMENT',\n",
       " '3,2013-07-25 00:00:00.0,12111,COMPLETE',\n",
       " '4,2013-07-25 00:00:00.0,8827,CLOSED',\n",
       " '5,2013-07-25 00:00:00.0,11318,COMPLETE',\n",
       " '6,2013-07-25 00:00:00.0,7130,COMPLETE',\n",
       " '7,2013-07-25 00:00:00.0,4530,COMPLETE',\n",
       " '8,2013-07-25 00:00:00.0,2911,PROCESSING',\n",
       " '9,2013-07-25 00:00:00.0,5657,PENDING_PAYMENT',\n",
       " '10,2013-07-25 00:00:00.0,5648,PENDING_PAYMENT']"
      ]
     },
     "execution_count": 13,
     "metadata": {},
     "output_type": "execute_result"
    }
   ],
   "source": [
    "orders[:10]"
   ]
  },
  {
   "cell_type": "code",
   "execution_count": 14,
   "metadata": {},
   "outputs": [],
   "source": [
    "order = '3,2013-07-25 00:00:00.0,12111,COMPLETE'"
   ]
  },
  {
   "cell_type": "code",
   "execution_count": 19,
   "metadata": {},
   "outputs": [
    {
     "data": {
      "text/plain": [
       "True"
      ]
     },
     "execution_count": 19,
     "metadata": {},
     "output_type": "execute_result"
    }
   ],
   "source": [
    "int(order.split(',')[2]) == 12111"
   ]
  },
  {
   "cell_type": "code",
   "execution_count": 20,
   "metadata": {},
   "outputs": [],
   "source": [
    "def get_customer_orders(orders, customer_id):\n",
    "    orders_filtered = []\n",
    "    for order in orders:\n",
    "        if int(order.split(',')[2]) == customer_id:\n",
    "            orders_filtered.append(order)\n",
    "    return orders_filtered"
   ]
  },
  {
   "cell_type": "markdown",
   "metadata": {},
   "source": [
    "* Use the function and get all the orders which are placed by customer with id 12431"
   ]
  },
  {
   "cell_type": "code",
   "execution_count": 21,
   "metadata": {},
   "outputs": [
    {
     "data": {
      "text/plain": [
       "['3774,2013-08-16 00:00:00.0,12431,CANCELED',\n",
       " '3870,2013-08-17 00:00:00.0,12431,PENDING_PAYMENT',\n",
       " '4032,2013-08-17 00:00:00.0,12431,ON_HOLD',\n",
       " '22812,2013-12-12 00:00:00.0,12431,PENDING',\n",
       " '22927,2013-12-13 00:00:00.0,12431,CLOSED',\n",
       " '25614,2013-12-30 00:00:00.0,12431,CLOSED',\n",
       " '27585,2014-01-12 00:00:00.0,12431,PROCESSING',\n",
       " '28244,2014-01-15 00:00:00.0,12431,PENDING_PAYMENT',\n",
       " '29109,2014-01-21 00:00:00.0,12431,ON_HOLD',\n",
       " '29232,2014-01-21 00:00:00.0,12431,ON_HOLD',\n",
       " '45894,2014-05-06 00:00:00.0,12431,CLOSED',\n",
       " '46217,2014-05-07 00:00:00.0,12431,CLOSED',\n",
       " '49678,2014-05-31 00:00:00.0,12431,PENDING',\n",
       " '51865,2014-06-15 00:00:00.0,12431,PROCESSING',\n",
       " '63146,2014-02-13 00:00:00.0,12431,PENDING_PAYMENT',\n",
       " '67110,2014-07-14 00:00:00.0,12431,PENDING']"
      ]
     },
     "execution_count": 21,
     "metadata": {},
     "output_type": "execute_result"
    }
   ],
   "source": [
    "get_customer_orders(orders, 12431)"
   ]
  },
  {
   "cell_type": "markdown",
   "metadata": {},
   "source": [
    "* Create a function by name get_customer_orders_for_month which take orders list, customer_id and month in the format YYYY-MM as arguments and return all the orders placed by customer_id for a given month."
   ]
  },
  {
   "cell_type": "code",
   "execution_count": 24,
   "metadata": {},
   "outputs": [],
   "source": [
    "order = '3,2013-07-25 00:00:00.0,12111,COMPLETE'"
   ]
  },
  {
   "cell_type": "code",
   "execution_count": 25,
   "metadata": {},
   "outputs": [
    {
     "data": {
      "text/plain": [
       "True"
      ]
     },
     "execution_count": 25,
     "metadata": {},
     "output_type": "execute_result"
    }
   ],
   "source": [
    "int(order.split(',')[2]) == 12111"
   ]
  },
  {
   "cell_type": "code",
   "execution_count": 23,
   "metadata": {},
   "outputs": [
    {
     "data": {
      "text/plain": [
       "True"
      ]
     },
     "execution_count": 23,
     "metadata": {},
     "output_type": "execute_result"
    }
   ],
   "source": [
    "order.split(',')[1].startswith('2013-07')"
   ]
  },
  {
   "cell_type": "code",
   "execution_count": 26,
   "metadata": {},
   "outputs": [
    {
     "data": {
      "text/plain": [
       "True"
      ]
     },
     "execution_count": 26,
     "metadata": {},
     "output_type": "execute_result"
    }
   ],
   "source": [
    "int(order.split(',')[2]) == 12111 and order.split(',')[1].startswith('2013-07')"
   ]
  },
  {
   "cell_type": "code",
   "execution_count": 29,
   "metadata": {},
   "outputs": [],
   "source": [
    "def get_customer_orders_for_month(orders, customer_id, order_month):\n",
    "    orders_filtered = []\n",
    "    for order in orders:\n",
    "        order_elements = order.split(',')\n",
    "        if int(order_elements[2]) == customer_id and order_elements[1].startswith(order_month):\n",
    "            orders_filtered.append(order)\n",
    "    return orders_filtered"
   ]
  },
  {
   "cell_type": "markdown",
   "metadata": {},
   "source": [
    "* Use the function and get all the orders which are placed by customer with id 12431 in January 2014"
   ]
  },
  {
   "cell_type": "code",
   "execution_count": 30,
   "metadata": {},
   "outputs": [
    {
     "data": {
      "text/plain": [
       "['27585,2014-01-12 00:00:00.0,12431,PROCESSING',\n",
       " '28244,2014-01-15 00:00:00.0,12431,PENDING_PAYMENT',\n",
       " '29109,2014-01-21 00:00:00.0,12431,ON_HOLD',\n",
       " '29232,2014-01-21 00:00:00.0,12431,ON_HOLD']"
      ]
     },
     "execution_count": 30,
     "metadata": {},
     "output_type": "execute_result"
    }
   ],
   "source": [
    "get_customer_orders_for_month(orders, 12431, '2014-01')"
   ]
  },
  {
   "cell_type": "markdown",
   "metadata": {},
   "source": [
    "* Write ad hoc code to get all the orders which are placed by customer with id 12431 in January 2014 and status is in PENDING_PAYMENT or PROCESSING"
   ]
  },
  {
   "cell_type": "code",
   "execution_count": 36,
   "metadata": {},
   "outputs": [
    {
     "name": "stdout",
     "output_type": "stream",
     "text": [
      "27585,2014-01-12 00:00:00.0,12431,PROCESSING\n",
      "28244,2014-01-15 00:00:00.0,12431,PENDING_PAYMENT\n"
     ]
    }
   ],
   "source": [
    "for order in orders:\n",
    "    order_elements = order.split(',')\n",
    "    if int(order_elements[2]) == 12431 \\\n",
    "        and order_elements[1].startswith('2014-01') \\\n",
    "        and (order_elements[3] in ('PROCESSING', 'PENDING_PAYMENT')):\n",
    "        print(order)"
   ]
  },
  {
   "cell_type": "markdown",
   "metadata": {},
   "source": [
    "## Performing Aggregations\n",
    "\n",
    "Let us perform few tasks to understand how to perform aggregations by key over the data in collections using loops and conditionals.\n",
    "* Here are the details about orders.\n",
    "  * Data is in text file format\n",
    "  * Each line in the file contains one record.\n",
    "  * Each record contains 4 attributes which are separated by “,”\n",
    "    * order_id\n",
    "    * order_date\n",
    "    * order_customer_id\n",
    "    * order_status\n",
    "* Here are the details about order_items.\n",
    "  * Data is in text file format\n",
    "  * Each line in the file contains one record.\n",
    "  * Each record contains 6 attributes which are separated by “,”\n",
    "    * order_item_id\n",
    "    * order_item_order_id\n",
    "    * order_item_product_id\n",
    "    * order_item_quantity\n",
    "    * order_item_subtotal\n",
    "    * order_item_product_price\n",
    "* Create a function get_count_by_order_status which takes orders list as argument and returns a dict which contain order_status and corresponding count.\n"
   ]
  },
  {
   "cell_type": "code",
   "execution_count": 40,
   "metadata": {},
   "outputs": [],
   "source": [
    "d = {}\n",
    "\n",
    "d['CLOSED'] = 1"
   ]
  },
  {
   "cell_type": "code",
   "execution_count": 41,
   "metadata": {},
   "outputs": [
    {
     "data": {
      "text/plain": [
       "{'CLOSED': 1}"
      ]
     },
     "execution_count": 41,
     "metadata": {},
     "output_type": "execute_result"
    }
   ],
   "source": [
    "d"
   ]
  },
  {
   "cell_type": "code",
   "execution_count": 42,
   "metadata": {},
   "outputs": [],
   "source": [
    "d['CLOSED'] = 2"
   ]
  },
  {
   "cell_type": "code",
   "execution_count": 43,
   "metadata": {},
   "outputs": [
    {
     "data": {
      "text/plain": [
       "{'CLOSED': 2}"
      ]
     },
     "execution_count": 43,
     "metadata": {},
     "output_type": "execute_result"
    }
   ],
   "source": [
    "d"
   ]
  },
  {
   "cell_type": "code",
   "execution_count": 48,
   "metadata": {},
   "outputs": [],
   "source": [
    "d = {}"
   ]
  },
  {
   "cell_type": "code",
   "execution_count": 51,
   "metadata": {},
   "outputs": [],
   "source": [
    "if 'CLOSED' in d: d['CLOSED'] = d['CLOSED'] + 1\n",
    "else: d['CLOSED'] = 1"
   ]
  },
  {
   "cell_type": "code",
   "execution_count": 52,
   "metadata": {},
   "outputs": [
    {
     "data": {
      "text/plain": [
       "{'CLOSED': 2}"
      ]
     },
     "execution_count": 52,
     "metadata": {},
     "output_type": "execute_result"
    }
   ],
   "source": [
    "d"
   ]
  },
  {
   "cell_type": "code",
   "execution_count": 57,
   "metadata": {},
   "outputs": [
    {
     "data": {
      "text/plain": [
       "2"
      ]
     },
     "execution_count": 57,
     "metadata": {},
     "output_type": "execute_result"
    }
   ],
   "source": [
    "d['CLOSED']"
   ]
  },
  {
   "cell_type": "code",
   "execution_count": 67,
   "metadata": {},
   "outputs": [],
   "source": [
    "def get_count_by_order_status(orders):\n",
    "    order_count = {}\n",
    "    for order in orders:\n",
    "        order_status = order.split(',')[3]\n",
    "        if order_status in order_count: order_count[order_status] += 1\n",
    "        else: order_count[order_status] = 1\n",
    "    return order_count"
   ]
  },
  {
   "cell_type": "markdown",
   "metadata": {},
   "source": [
    "* Use the function to get count by status and preview the output."
   ]
  },
  {
   "cell_type": "code",
   "execution_count": 69,
   "metadata": {},
   "outputs": [
    {
     "data": {
      "text/plain": [
       "{'CLOSED': 7556,\n",
       " 'PENDING_PAYMENT': 15030,\n",
       " 'COMPLETE': 22899,\n",
       " 'PROCESSING': 8275,\n",
       " 'PAYMENT_REVIEW': 729,\n",
       " 'PENDING': 7610,\n",
       " 'ON_HOLD': 3798,\n",
       " 'CANCELED': 1428,\n",
       " 'SUSPECTED_FRAUD': 1558}"
      ]
     },
     "execution_count": 69,
     "metadata": {},
     "output_type": "execute_result"
    }
   ],
   "source": [
    "get_count_by_order_status(orders)"
   ]
  },
  {
   "cell_type": "markdown",
   "metadata": {},
   "source": [
    "* Create a function get_revenue_per_order which takes order_items list as argument and returns a dict which contain order_item_order_id and corresponding order_revenue."
   ]
  },
  {
   "cell_type": "code",
   "execution_count": 81,
   "metadata": {},
   "outputs": [],
   "source": [
    "def get_revenue_per_order(order_items):\n",
    "    revenue_per_order = {}\n",
    "    for order_item in order_items:\n",
    "        order_item_order_id = int(order_item.split(',')[1])\n",
    "        order_item_subtotal = float(order_item.split(',')[4])\n",
    "        if revenue_per_order.get(order_item_order_id):\n",
    "            revenue_per_order[order_item_order_id] += order_item_subtotal\n",
    "        else:\n",
    "            revenue_per_order[order_item_order_id] = order_item_subtotal\n",
    "    return revenue_per_order"
   ]
  },
  {
   "cell_type": "markdown",
   "metadata": {},
   "source": [
    "* Use the function to get revenue for each order_item_order_id and preview the output."
   ]
  },
  {
   "cell_type": "code",
   "execution_count": 82,
   "metadata": {},
   "outputs": [],
   "source": [
    "order_items_path = '/Users/itversity/Research/data/retail_db/order_items/part-00000.csv'\n",
    "order_items = open(order_items_path). \\\n",
    "    read(). \\\n",
    "    splitlines()"
   ]
  },
  {
   "cell_type": "code",
   "execution_count": 85,
   "metadata": {},
   "outputs": [
    {
     "name": "stdout",
     "output_type": "stream",
     "text": [
      "1,1,957,1,299.98,299.98\n",
      "2,2,1073,1,199.99,199.99\n",
      "3,2,502,5,250.0,50.0\n",
      "4,2,403,1,129.99,129.99\n",
      "5,4,897,2,49.98,24.99\n",
      "6,4,365,5,299.95,59.99\n",
      "7,4,502,3,150.0,50.0\n",
      "8,4,1014,4,199.92,49.98\n",
      "9,5,957,1,299.98,299.98\n",
      "10,5,365,5,299.95,59.99\n"
     ]
    }
   ],
   "source": [
    "for i in order_items[:10]:\n",
    "    print(i)"
   ]
  },
  {
   "cell_type": "code",
   "execution_count": 86,
   "metadata": {},
   "outputs": [
    {
     "data": {
      "text/plain": [
       "[(1, 299.98),\n",
       " (2, 579.98),\n",
       " (4, 699.85),\n",
       " (5, 1129.8600000000001),\n",
       " (7, 579.9200000000001),\n",
       " (8, 729.8399999999999),\n",
       " (9, 599.96),\n",
       " (10, 651.9200000000001),\n",
       " (11, 919.79),\n",
       " (12, 1299.8700000000001)]"
      ]
     },
     "execution_count": 86,
     "metadata": {},
     "output_type": "execute_result"
    }
   ],
   "source": [
    "list(get_revenue_per_order(order_items).items())[:10]"
   ]
  },
  {
   "cell_type": "markdown",
   "metadata": {},
   "source": [
    "* Create a function get_order_count_by_month which takes orders list and order_status as arguments and returns a dict which contain order_month and count. We only have to count those orders which belong to the passed order_status"
   ]
  },
  {
   "cell_type": "code",
   "execution_count": 87,
   "metadata": {},
   "outputs": [],
   "source": [
    "def get_order_count_by_month(orders, order_status):\n",
    "    order_count = {}\n",
    "    for order in orders:\n",
    "        order_month = order.split(',')[1][:7]\n",
    "        l_order_status = order.split(',')[3]\n",
    "        if l_order_status == order_status:\n",
    "            if order_month in order_count: order_count[order_month] += 1\n",
    "            else: order_count[order_month] = 1\n",
    "    return order_count"
   ]
  },
  {
   "cell_type": "markdown",
   "metadata": {},
   "source": [
    "* Use the function to get count for each order_date and preview the output. We need to pass the status also as an argument."
   ]
  },
  {
   "cell_type": "code",
   "execution_count": 89,
   "metadata": {},
   "outputs": [
    {
     "data": {
      "text/plain": [
       "{'2013-07': 161,\n",
       " '2013-08': 637,\n",
       " '2013-09': 676,\n",
       " '2013-10': 609,\n",
       " '2013-11': 686,\n",
       " '2013-12': 705,\n",
       " '2014-01': 633,\n",
       " '2014-02': 602,\n",
       " '2014-03': 612,\n",
       " '2014-04': 583,\n",
       " '2014-05': 585,\n",
       " '2014-06': 563,\n",
       " '2014-07': 504}"
      ]
     },
     "execution_count": 89,
     "metadata": {},
     "output_type": "execute_result"
    }
   ],
   "source": [
    "get_order_count_by_month(orders, 'CLOSED')"
   ]
  },
  {
   "cell_type": "markdown",
   "metadata": {},
   "source": [
    "## Joining Data Sets\n",
    "\n",
    "Let us perform few tasks to understand how to perform  joins over multiple collections using loops and conditionals.\n",
    "* There are different strategies for joins.\n",
    "  * Nested Loops\n",
    "  * Sort Merge\n",
    "  * Hash Join\n",
    "* We will be using Nested Loops approach using orders and order_items.\n",
    "  * Build dict for one data set - orders.\n",
    "  * Iteratively lookup into the orders data set while processing the other one  - order_items\n",
    "* Develop a function get_daily_revenue which takes orders, order_items and order_status as arguments and return dict containing order_date and order_revenue. We need to get revenue considering only those orders which satisfy the status passed."
   ]
  },
  {
   "cell_type": "code",
   "execution_count": 91,
   "metadata": {},
   "outputs": [],
   "source": [
    "def get_orders_dict(orders, order_status):\n",
    "    orders_dict = {}\n",
    "    for order in orders:\n",
    "        order_id = int(order.split(',')[0])\n",
    "        order_date = order.split(',')[1]\n",
    "        l_order_status = order.split(',')[3]\n",
    "        if l_order_status == order_status:\n",
    "            orders_dict[order_id] = order_date\n",
    "    return orders_dict   "
   ]
  },
  {
   "cell_type": "code",
   "execution_count": 93,
   "metadata": {},
   "outputs": [
    {
     "data": {
      "text/plain": [
       "22899"
      ]
     },
     "execution_count": 93,
     "metadata": {},
     "output_type": "execute_result"
    }
   ],
   "source": [
    "len(get_orders_dict(orders, 'COMPLETE'))"
   ]
  },
  {
   "cell_type": "code",
   "execution_count": 100,
   "metadata": {},
   "outputs": [],
   "source": [
    "def get_daily_revenue(orders, order_items, order_status):\n",
    "    orders_dict = get_orders_dict(orders, order_status)\n",
    "    daily_revenue = {}\n",
    "    for order_item in order_items:\n",
    "        order_item_order_id = int(order_item.split(',')[1])\n",
    "        order_item_subtotal = float(order_item.split(',')[4])\n",
    "        \n",
    "        if order_item_order_id in orders_dict:\n",
    "            orders_dict_date = orders_dict[order_item_order_id]\n",
    "            if orders_dict_date in daily_revenue:\n",
    "                daily_revenue[orders_dict_date] = round(daily_revenue[orders_dict_date] + order_item_subtotal, 2)\n",
    "            else:\n",
    "                daily_revenue[orders_dict_date] = order_item_subtotal\n",
    "    return daily_revenue"
   ]
  },
  {
   "cell_type": "markdown",
   "metadata": {},
   "source": [
    "* Use the function to get daily revenue considering only COMPLETE orders."
   ]
  },
  {
   "cell_type": "code",
   "execution_count": null,
   "metadata": {},
   "outputs": [],
   "source": [
    "get_daily_revenue(orders, order_items, 'COMPLETE')"
   ]
  },
  {
   "cell_type": "markdown",
   "metadata": {},
   "source": [
    "## Exercises\n",
    "Here are some of the exercises you can work on to process collection using conventional loops and conditionals. Create functions for each of the below problem statement.\n",
    "\n",
    "* Get number of COMPLETE orders placed by each customer\n",
    "* Get total number of PENDING or PENDING_PAYMENT orders for the month of 2014 January.\n",
    "* Get outstanding amount for each month considering orders with status PAYMENT_REVIEW, PENDING, PENDING_PAYMENT and PROCESSING."
   ]
  },
  {
   "cell_type": "markdown",
   "metadata": {},
   "source": [
    "## Limitations of using Loops\n",
    "\n",
    "There are several limitations using loops.\n",
    "* If you look at the above examples, most of the functions have similar logic to iterate through elements.\n",
    "* We are spending more time on coding non business logic.\n",
    "* It results in too much of code and it can become a maintenance problem.\n",
    "* Map Reduce APIs will solve these problems.\n",
    "  * We do not have to develop loops and conditionals.\n",
    "  * Loops and Conditionals are taken care by the existing APIs.\n",
    "  * We can just focus on business logic. It can be passed using Lambda Functions.\n"
   ]
  },
  {
   "cell_type": "code",
   "execution_count": null,
   "metadata": {},
   "outputs": [],
   "source": []
  }
 ],
 "metadata": {
  "kernelspec": {
   "display_name": "Python 3",
   "language": "python",
   "name": "python3"
  },
  "language_info": {
   "codemirror_mode": {
    "name": "ipython",
    "version": 3
   },
   "file_extension": ".py",
   "mimetype": "text/x-python",
   "name": "python",
   "nbconvert_exporter": "python",
   "pygments_lexer": "ipython3",
   "version": "3.7.4"
  }
 },
 "nbformat": 4,
 "nbformat_minor": 4
}
