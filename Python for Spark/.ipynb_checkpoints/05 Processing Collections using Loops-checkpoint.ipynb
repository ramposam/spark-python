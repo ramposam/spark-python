{
 "cells": [
  {
   "cell_type": "markdown",
   "metadata": {},
   "source": [
    "# Processing Collections using loops\n",
    "As part of this module we will see how to manipulate collections using loops. We typically don’t use loops but this module will help in improving our programming skills.\n",
    "\n",
    "* Reading files into collections\n",
    "* Standard Transformations\n",
    "* Filtering Data\n",
    "* Performing Aggregations\n",
    "* Joining Data Sets\n",
    "* Exercises\n",
    "* Limitations of using Loops"
   ]
  },
  {
   "cell_type": "markdown",
   "metadata": {},
   "source": [
    "## Reading files into collections\n",
    "\n",
    "Let us understand how to read data from files into collections. \n",
    "* Python have simple and yet rich APIs to perform file I/O\n",
    "* We can create a file object with `open` in different modes (by default read only mode)\n",
    "* To read the contents from the file into memory, we have APIs on top of file object such as `read()`\n",
    "* `read()` will create large string using contents of the files\n",
    "* If the data have multiple records with new line character as delimiter, we can apply `splitlines()` on the output of read\n",
    "* `splitlines()` will convert the string into list with new line character as delimiter"
   ]
  },
  {
   "cell_type": "code",
   "execution_count": null,
   "metadata": {},
   "outputs": [],
   "source": [
    "path = '/data/retail_db/orders/part-00000'\n",
    "orders_file = open(path)"
   ]
  },
  {
   "cell_type": "code",
   "execution_count": null,
   "metadata": {},
   "outputs": [],
   "source": [
    "type(orders_file)"
   ]
  },
  {
   "cell_type": "code",
   "execution_count": null,
   "metadata": {},
   "outputs": [],
   "source": [
    "help(orders_file)"
   ]
  },
  {
   "cell_type": "code",
   "execution_count": null,
   "metadata": {},
   "outputs": [],
   "source": [
    "orders_data = orders_file.read()"
   ]
  },
  {
   "cell_type": "code",
   "execution_count": null,
   "metadata": {},
   "outputs": [],
   "source": [
    "type(orders_data)"
   ]
  },
  {
   "cell_type": "code",
   "execution_count": null,
   "metadata": {},
   "outputs": [],
   "source": [
    "len(orders_data.splitlines())"
   ]
  },
  {
   "cell_type": "markdown",
   "metadata": {},
   "source": [
    "## Standard Transformations\n",
    "\n",
    "Let us understand standard transformations we perform on top of data in collections.\n",
    "* Filtering\n",
    "* Row level transformations such as standardization, cleansing etc.\n",
    "* Aggregations\n",
    "* Grouped Aggregations\n",
    "* Sorting and Ranking\n",
    "\n",
    "Typically we use external libraries such as Pandas, Pyspark etc to perform these standard transformations. However, we will try to develop using conventional loops to understand how they are implemented and also to get better with respect to programming.\n"
   ]
  },
  {
   "cell_type": "markdown",
   "metadata": {},
   "source": [
    "## Filtering Data\n",
    "Let us perform few tasks to understand how to filter the data in collections using loops and conditionals.\n",
    "\n",
    "* Here are the details about orders.\n",
    "  * Data is in text file format\n",
    "  * Each line in the file contains one record.\n",
    "  * Each record contains 4 attributes which are separated by “,”\n",
    "    * order_id\n",
    "    * order_date\n",
    "    * order_customer_id\n",
    "    * order_status\n",
    "  * Create a function by name get_customer_orders which take orders list and customer_id as arguments and return all the orders placed by customer_id\n"
   ]
  },
  {
   "cell_type": "code",
   "execution_count": null,
   "metadata": {},
   "outputs": [],
   "source": [
    "order = '3,2013-07-25 00:00:00.0,12111,COMPLETE'\n",
    "int(order.split(',')[2]) == 12111"
   ]
  },
  {
   "cell_type": "code",
   "execution_count": null,
   "metadata": {},
   "outputs": [],
   "source": [
    "def get_customer_orders(orders, customer_id):\n",
    "    orders_filtered = []\n",
    "    for order in orders:\n",
    "        if(int(order.split(\",\")[2]) == customer_id):\n",
    "            orders_filtered.append(order)\n",
    "    return orders_filtered"
   ]
  },
  {
   "cell_type": "markdown",
   "metadata": {},
   "source": [
    "* Use the function and get all the orders which are placed by customer with id 12431"
   ]
  },
  {
   "cell_type": "code",
   "execution_count": null,
   "metadata": {},
   "outputs": [],
   "source": [
    "orders_path = \"/data/retail_db/orders/part-00000\"\n",
    "orders = open(orders_path).read().splitlines()\n",
    "\n",
    "customer_orders = get_customer_orders(orders, 12431)\n",
    "\n",
    "customer_orders"
   ]
  },
  {
   "cell_type": "markdown",
   "metadata": {},
   "source": [
    "* Create a function by name get_customer_orders_for_month which take orders list, customer_id and month in the format YYYY-MM as arguments and return all the orders placed by customer_id for a given month."
   ]
  },
  {
   "cell_type": "code",
   "execution_count": null,
   "metadata": {},
   "outputs": [],
   "source": [
    "def get_customer_orders_for_month(orders, customer_id, month):\n",
    "    orders_filtered = []\n",
    "    for order in orders:\n",
    "        order_customer_id = int(order.split(\",\")[2])\n",
    "        order_month = order.split(\",\")[1][0:7]\n",
    "        if(order_customer_id == customer_id and order_month == month):\n",
    "            orders_filtered.append(order)\n",
    "    return orders_filtered"
   ]
  },
  {
   "cell_type": "markdown",
   "metadata": {},
   "source": [
    "* Use the function and get all the orders which are placed by customer with id 12431 in January 2014"
   ]
  },
  {
   "cell_type": "code",
   "execution_count": null,
   "metadata": {},
   "outputs": [],
   "source": [
    "orders_path = \"/data/retail_db/orders/part-00000\"\n",
    "orders = open(orders_path).read().splitlines()\n",
    "\n",
    "customer_orders_for_month = get_customer_orders_for_month(orders, 12431, \"2014-01\")\n",
    "\n",
    "customer_orders_for_month"
   ]
  },
  {
   "cell_type": "markdown",
   "metadata": {},
   "source": [
    "* Write ad hoc code to get all the orders which are placed by customer with id 12431 in January 2014 and status is in PENDING_PAYMENT or PROCESSING"
   ]
  },
  {
   "cell_type": "code",
   "execution_count": null,
   "metadata": {},
   "outputs": [],
   "source": [
    "orders_path = \"/data/retail_db/orders/part-00000\"\n",
    "orders = open(orders_path).read().splitlines()\n",
    "\n",
    "orders_filtered = []\n",
    "for order in orders:\n",
    "    order_customer_id = int(order.split(\",\")[2])\n",
    "    order_month = order.split(\",\")[1][0:7]\n",
    "    order_status = order.split(\",\")[3]\n",
    "    if(order_customer_id == 12431 \n",
    "       and order_month == \"2014-01\"\n",
    "       and order_status in (\"PENDING_PAYMENT\", \"PROCESSING\")\n",
    "      ):\n",
    "        orders_filtered.append(order)\n",
    "\n",
    "orders_filtered"
   ]
  },
  {
   "cell_type": "code",
   "execution_count": null,
   "metadata": {},
   "outputs": [],
   "source": [
    "l = (1, 2, 6, 5, 7)\n",
    "\n",
    "3 in l"
   ]
  },
  {
   "cell_type": "markdown",
   "metadata": {},
   "source": [
    "## Performing Aggregations\n",
    "\n",
    "Let us perform few tasks to understand how to perform aggregations by key over the data in collections using loops and conditionals.\n",
    "* Here are the details about orders.\n",
    "  * Data is in text file format\n",
    "  * Each line in the file contains one record.\n",
    "  * Each record contains 4 attributes which are separated by “,”\n",
    "    * order_id\n",
    "    * order_date\n",
    "    * order_customer_id\n",
    "    * order_status\n",
    "* Here are the details about order_items.\n",
    "  * Data is in text file format\n",
    "  * Each line in the file contains one record.\n",
    "  * Each record contains 6 attributes which are separated by “,”\n",
    "    * order_item_id\n",
    "    * order_item_order_id\n",
    "    * order_item_product_id\n",
    "    * order_item_quantity\n",
    "    * order_item_subtotal\n",
    "    * order_item_product_price\n",
    "* Create a function get_count_by_order_status which takes orders list as argument and returns a dict which contain order_status and corresponding count.\n"
   ]
  },
  {
   "cell_type": "code",
   "execution_count": null,
   "metadata": {},
   "outputs": [],
   "source": [
    "d = {}\n",
    "\n",
    "d['CLOSED'] = 1\n",
    "    \n",
    "d"
   ]
  },
  {
   "cell_type": "code",
   "execution_count": null,
   "metadata": {},
   "outputs": [],
   "source": [
    "if 'CLOSED' in d: d['CLOSED'] = d['CLOSED'] + 1\n",
    "else: d['CLOSED'] = 1\n",
    "    \n",
    "d"
   ]
  },
  {
   "cell_type": "code",
   "execution_count": null,
   "metadata": {},
   "outputs": [],
   "source": [
    "def get_count_by_order_status(orders):\n",
    "    order_count = {}\n",
    "    for order in orders:\n",
    "        order_status = order.split(\",\")[3]\n",
    "        if(order_status in order_count):\n",
    "            order_count[order_status] += 1\n",
    "        else:\n",
    "            order_count[order_status] = 1\n",
    "    return order_count"
   ]
  },
  {
   "cell_type": "markdown",
   "metadata": {},
   "source": [
    "* Use the function to get count by status and preview the output."
   ]
  },
  {
   "cell_type": "code",
   "execution_count": null,
   "metadata": {},
   "outputs": [],
   "source": [
    "orders_path = \"/data/retail_db/orders/part-00000\"\n",
    "orders = open(orders_path).read().splitlines()\n",
    "\n",
    "order_count_by_status = get_count_by_order_status(orders)\n",
    "\n",
    "order_count_by_status"
   ]
  },
  {
   "cell_type": "markdown",
   "metadata": {},
   "source": [
    "* Create a function get_revenue_per_order which takes order_items list as argument and returns a dict which contain order_item_order_id and corresponding order_revenue."
   ]
  },
  {
   "cell_type": "code",
   "execution_count": null,
   "metadata": {},
   "outputs": [],
   "source": [
    "oi = '3,2,502,5,250.0,50.0'\n",
    "float(oi.split(',')[4])"
   ]
  },
  {
   "cell_type": "code",
   "execution_count": null,
   "metadata": {},
   "outputs": [],
   "source": [
    "def get_revenue_per_order(order_items):\n",
    "    revenue_per_order = {}\n",
    "    for order_item in order_items:\n",
    "        order_item_order_id = int(order_item.split(\",\")[1])\n",
    "        order_item_subtotal = float(order_item.split(\",\")[4])\n",
    "        if(revenue_per_order.get(order_item_order_id)):\n",
    "            revenue_per_order[order_item_order_id] = round(revenue_per_order[order_item_order_id] + order_item_subtotal, 2)\n",
    "        else:\n",
    "            revenue_per_order[order_item_order_id] = order_item_subtotal\n",
    "    return revenue_per_order"
   ]
  },
  {
   "cell_type": "markdown",
   "metadata": {},
   "source": [
    "* Use the function to get revenue for each order_item_order_id and preview the output."
   ]
  },
  {
   "cell_type": "code",
   "execution_count": null,
   "metadata": {},
   "outputs": [],
   "source": [
    "order_items_path = \"/data/retail_db/order_items/part-00000\"\n",
    "order_items = open(order_items_path).read().splitlines()\n",
    "\n",
    "revenue_per_order = get_revenue_per_order(order_items)\n",
    "\n",
    "revenue_per_order"
   ]
  },
  {
   "cell_type": "markdown",
   "metadata": {},
   "source": [
    "* Create a function get_order_count_by_month which takes orders list and order_status as arguments and returns a dict which contain order_month and count. We only have to count those orders which belong to the passed order_status"
   ]
  },
  {
   "cell_type": "code",
   "execution_count": null,
   "metadata": {},
   "outputs": [],
   "source": [
    "def get_order_count_by_month(orders, order_status):\n",
    "    order_count_by_month = {}\n",
    "    for order in orders:\n",
    "        order_month = order.split(\",\")[1][:7]\n",
    "        if(order.split(\",\")[3] == order_status):\n",
    "            if(order_count_by_month.get(order_month)):\n",
    "                order_count_by_month[order_month] = order_count_by_month[order_month] + 1\n",
    "            else:\n",
    "                order_count_by_month[order_month] = 1\n",
    "    return order_count_by_month"
   ]
  },
  {
   "cell_type": "markdown",
   "metadata": {},
   "source": [
    "* Use the function to get count for each order_date and preview the output. We need to pass the status also as an argument."
   ]
  },
  {
   "cell_type": "code",
   "execution_count": null,
   "metadata": {},
   "outputs": [],
   "source": [
    "orders_path = \"/data/retail_db/orders/part-00000\"\n",
    "orders = open(orders_path).read().splitlines()\n",
    "\n",
    "order_count_by_month = get_order_count_by_month(orders, \"COMPLETE\")\n",
    "\n",
    "order_count_by_month"
   ]
  },
  {
   "cell_type": "markdown",
   "metadata": {},
   "source": [
    "## Joining Data Sets\n",
    "\n",
    "Let us perform few tasks to understand how to perform  joins over multiple collections using loops and conditionals.\n",
    "* There are different strategies for joins.\n",
    "  * Nested Loops\n",
    "  * Sort Merge\n",
    "  * Hash Join\n",
    "* We will be using Nested Loops approach using orders and order_items.\n",
    "  * Build dict for one data set - orders.\n",
    "  * Iteratively lookup into the orders data set while processing the other one  - order_items\n",
    "* Develop a function get_daily_revenue which takes orders, order_items and order_status as arguments and return dict containing order_date and order_revenue. We need to get revenue considering only those orders which satisfy the status passed."
   ]
  },
  {
   "cell_type": "code",
   "execution_count": null,
   "metadata": {},
   "outputs": [],
   "source": [
    "def get_daily_revenue(orders, order_items, order_status):\n",
    "    orders_dict = {}\n",
    "    daily_revenue = {}\n",
    "    for order in orders:\n",
    "        order_id = int(order.split(\",\")[0])\n",
    "        order_date = order.split(\",\")[1]\n",
    "        if(order.split(\",\")[3] == order_status):\n",
    "            orders_dict[order_id] = order_date\n",
    "    \n",
    "    for order_item in order_items:\n",
    "        order_item_order_id = int(order_item.split(\",\")[1])\n",
    "        order_item_subtotal = float(order_item.split(\",\")[4])\n",
    "        if(order_item_order_id in orders_dict):\n",
    "            orders_dict_date = orders_dict[order_item_order_id]\n",
    "            if(orders_dict_date in daily_revenue):\n",
    "                daily_revenue[orders_dict_date] = round(daily_revenue[orders_dict_date] + order_item_subtotal, 2)\n",
    "            else:\n",
    "                daily_revenue[orders_dict_date] = order_item_subtotal\n",
    "    \n",
    "    return daily_revenue"
   ]
  },
  {
   "cell_type": "markdown",
   "metadata": {},
   "source": [
    "* Use the function to get daily revenue considering only COMPLETE orders."
   ]
  },
  {
   "cell_type": "code",
   "execution_count": null,
   "metadata": {},
   "outputs": [],
   "source": [
    "orders_path = \"/data/retail_db/orders/part-00000\"\n",
    "orders = open(orders_path).read().splitlines()\n",
    "\n",
    "order_items_path = \"/data/retail_db/order_items/part-00000\"\n",
    "order_items = open(order_items_path).read().splitlines()\n",
    "\n",
    "daily_revenue = get_daily_revenue(orders, order_items, \"CLOSED\")\n",
    "daily_revenue"
   ]
  },
  {
   "cell_type": "markdown",
   "metadata": {},
   "source": [
    "## Exercises\n",
    "Here are some of the exercises you can work on to process collection using conventional loops and conditionals. Create functions for each of the below problem statement.\n",
    "\n",
    "* Get number of COMPLETE orders placed by each customer\n",
    "* Get total number of PENDING or PENDING_PAYMENT orders for the month of 2014 January.\n",
    "* Get outstanding amount for each month considering orders with status PAYMENT_REVIEW, PENDING, PENDING_PAYMENT and PROCESSING."
   ]
  },
  {
   "cell_type": "markdown",
   "metadata": {},
   "source": [
    "## Limitations of using Loops\n",
    "\n",
    "There are several limitations using loops.\n",
    "* If you look at the above examples, most of the functions have similar logic to iterate through elements.\n",
    "* We are spending more time on coding non business logic.\n",
    "* It results in too much of code and it can become a maintenance problem.\n",
    "* Map Reduce APIs will solve these problems.\n",
    "  * We do not have to develop loops and conditionals.\n",
    "  * Loops and Conditionals are taken care by the existing APIs.\n",
    "  * We can just focus on business logic. It can be passed using Lambda Functions.\n"
   ]
  },
  {
   "cell_type": "code",
   "execution_count": null,
   "metadata": {},
   "outputs": [],
   "source": []
  }
 ],
 "metadata": {
  "kernelspec": {
   "display_name": "Python 3",
   "language": "python",
   "name": "python3"
  },
  "language_info": {
   "codemirror_mode": {
    "name": "ipython",
    "version": 3
   },
   "file_extension": ".py",
   "mimetype": "text/x-python",
   "name": "python",
   "nbconvert_exporter": "python",
   "pygments_lexer": "ipython3",
   "version": "3.7.6"
  }
 },
 "nbformat": 4,
 "nbformat_minor": 4
}
