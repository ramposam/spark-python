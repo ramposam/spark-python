{
 "cells": [
  {
   "cell_type": "markdown",
   "metadata": {},
   "source": [
    "## Getting Started\n",
    "\n",
    "As part of this session we will be talking about the following\n",
    "\n",
    "* Overview of the classes via Zoom\n",
    "* Ensuring lab access for every one\n",
    "* Overview of the support using Slack\n",
    "* Accessing Data Sets in labs\n",
    "* Understanding the challenges of using Windows\n",
    "* Overview of Python Kernels\n",
    "* Relevance of Anaconda\n",
    "* Understanding Jupyter Notebook and Jupyter Lab\n",
    "* Setting up of Python and PyCharm\n",
    "* Understanding Python Virtual Environments\n",
    "* Overview of Git\n",
    "  * Only source code should be added and committed.\n",
    "  * Virtual Environments, dependencies etc should be added to gitignore. It means they should not be committed or checked into the code repository.\n",
    "* Overview of pip to install and manage Python Packages\n",
    "  * Managing 3rd party Python libraries\n",
    "  * Collecting or Freezing the libraries used for the project `pip freeze`"
   ]
  },
  {
   "cell_type": "code",
   "execution_count": null,
   "metadata": {},
   "outputs": [],
   "source": []
  }
 ],
 "metadata": {
  "kernelspec": {
   "display_name": "Python 3",
   "language": "python",
   "name": "python3"
  },
  "language_info": {
   "codemirror_mode": {
    "name": "ipython",
    "version": 3
   },
   "file_extension": ".py",
   "mimetype": "text/x-python",
   "name": "python",
   "nbconvert_exporter": "python",
   "pygments_lexer": "ipython3",
   "version": "3.7.4"
  }
 },
 "nbformat": 4,
 "nbformat_minor": 4
}
