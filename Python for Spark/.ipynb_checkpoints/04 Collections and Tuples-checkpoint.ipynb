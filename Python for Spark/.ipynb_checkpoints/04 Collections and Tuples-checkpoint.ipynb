{
 "cells": [
  {
   "cell_type": "markdown",
   "metadata": {},
   "source": [
    "# Collections and Tuples\n",
    "\n",
    "As part of this module we will get an overview of collections and tuples that are part of the standard library of Python.\n",
    "\n",
    "* Overview of Collections and Tuples\n",
    "* Tuples\n",
    "* Collections - list\n",
    "* Collections - set\n",
    "* Collections - dict\n",
    "* List of Tuples\n",
    "* Using Data Structures"
   ]
  },
  {
   "cell_type": "markdown",
   "metadata": {},
   "source": [
    "## Overview of Collections and Tuples\n",
    "Let us understand details about Collections and Tuples.\n",
    "* A Collection is nothing but a group of homogeneous elements while Tuple is a group of heterogeneous elements.\n",
    "* Collection is like a spreadsheet or a table while Tuple is like one row in them. We typically create a collection of objects or tuples.\n",
    "* Standard library of Python covers 3 types of collections.\n",
    "  * list\n",
    "  * set\n",
    "  * dict\n",
    "* Depending upon the characteristics of each collection type, we have different functions. We will see those details later.\n",
    "* There are some functions which are applicable to all.\n",
    "  * Getting a number of elements in a collection or a tuple - len\n",
    "  * Getting the sum of all elements in a collection or a tuple of integers - sum\n"
   ]
  },
  {
   "cell_type": "markdown",
   "metadata": {},
   "source": [
    "## Tuples\n",
    "Now let us understand definition and characteristics of a tuple.\n",
    "* Tuple is like object with unnamed attributes\n",
    "* Values of attributes can be accessed only using positional notation\n",
    "* It represents individual row in a table or spreadsheet with multiple attributes\n",
    "* We use () to represent tuples\n",
    "* Tuples are immutable\n",
    "* Very limited operations are available - e.g.: count, index\n",
    "\n",
    "### Tasks\n",
    "Let us perform few tasks related to tuples.\n",
    "\n",
    "* Create 3 tuples with order_id, order_date, order_customer_id, order_status.\n",
    "\n",
    "| order_id | order_date | order_customer_id | order_status |\n",
    "| --- | --- | --- | --- |\n",
    "| 1 | 2013-07-25 00:00:00.0 | 11599 | CLOSED |\n",
    "| 2 | 2013-07-25 00:00:00.0 | 256 | PENDING_PAYMENT |\n",
    "| 3 | 2013-07-25 00:00:00.0 | 12111 | COMPLETE |\n"
   ]
  },
  {
   "cell_type": "code",
   "execution_count": null,
   "metadata": {},
   "outputs": [],
   "source": [
    "employee1 = (1, \"Scott\", \"Tiger\", 1000.0, \"united states\")\n",
    "employee2 = (2, \"Henry\", \"Ford\", 1250.0, \"India\")\n",
    "employee3 = (3, 'Nick', 'Junior', 750.0, 'united KINGDOM')"
   ]
  },
  {
   "cell_type": "code",
   "execution_count": null,
   "metadata": {},
   "outputs": [],
   "source": [
    "type(employee1)"
   ]
  },
  {
   "cell_type": "code",
   "execution_count": null,
   "metadata": {},
   "outputs": [],
   "source": [
    "help(employee1)"
   ]
  },
  {
   "cell_type": "markdown",
   "metadata": {},
   "source": [
    "## Collections - list\n",
    "Let us understand **list** in detail.\n",
    "* Group of elements with index and length\n",
    "* Elements can be added/inserted at a particular position\n",
    "* We can access elements in list by using index in []\n",
    "* There can be duplicates in a list\n",
    "* APIs are available to add elements to the list, delete elements from the list and sort the list"
   ]
  },
  {
   "cell_type": "markdown",
   "metadata": {},
   "source": [
    "### Tasks\n",
    "Let us perform few tasks to understand more about list operations.\n",
    "\n",
    "* Create list of employees. Make sure each item in the list is a tuple."
   ]
  },
  {
   "cell_type": "code",
   "execution_count": 65,
   "metadata": {},
   "outputs": [],
   "source": [
    "# Creating list\n",
    "# We are creating list of tuples\n",
    "\n",
    "employees = [(1, \"Scott\", \"Tiger\", 1000.0, \"united states\"),\n",
    "             (2, \"Henry\", \"Ford\", 1250.0, \"India\"),\n",
    "             (3, \"Nick\", \"Junior\", 750.0, \"united KINGDOM\"),\n",
    "             (4, \"Bill\", \"Gomes\", 1500.0, \"AUSTRALIA\")\n",
    "            ]"
   ]
  },
  {
   "cell_type": "code",
   "execution_count": 66,
   "metadata": {},
   "outputs": [
    {
     "name": "stdout",
     "output_type": "stream",
     "text": [
      "Help on built-in function append:\n",
      "\n",
      "append(object, /) method of builtins.list instance\n",
      "    Append object to the end of the list.\n",
      "\n"
     ]
    }
   ],
   "source": [
    "help(employees.append)"
   ]
  },
  {
   "cell_type": "markdown",
   "metadata": {},
   "source": [
    "* Adding elements into list (append, insert)"
   ]
  },
  {
   "cell_type": "code",
   "execution_count": 67,
   "metadata": {},
   "outputs": [
    {
     "data": {
      "text/plain": [
       "[(1, 'Scott', 'Tiger', 1000.0, 'united states'),\n",
       " (2, 'Henry', 'Ford', 1250.0, 'India'),\n",
       " (3, 'Nick', 'Junior', 750.0, 'united KINGDOM'),\n",
       " (4, 'Bill', 'Gomes', 1500.0, 'AUSTRALIA'),\n",
       " (5, 'Donald', 'Duck', 1800.0, 'USA')]"
      ]
     },
     "execution_count": 67,
     "metadata": {},
     "output_type": "execute_result"
    }
   ],
   "source": [
    "# Appending element to the list\n",
    "\n",
    "employees.append((5, \"Donald\", \"Duck\", 1800.0, \"USA\"))\n",
    "\n",
    "employees"
   ]
  },
  {
   "cell_type": "code",
   "execution_count": 68,
   "metadata": {},
   "outputs": [
    {
     "name": "stdout",
     "output_type": "stream",
     "text": [
      "Help on built-in function insert:\n",
      "\n",
      "insert(index, object, /) method of builtins.list instance\n",
      "    Insert object before index.\n",
      "\n"
     ]
    }
   ],
   "source": [
    "# Getting help about insert\n",
    "\n",
    "help(employees.insert)"
   ]
  },
  {
   "cell_type": "code",
   "execution_count": 69,
   "metadata": {},
   "outputs": [
    {
     "data": {
      "text/plain": [
       "[(1, 'Scott', 'Tiger', 1000.0, 'united states'),\n",
       " (2, 'Henry', 'Ford', 1250.0, 'India'),\n",
       " (3, 'Nick', 'Junior', 750.0, 'united KINGDOM'),\n",
       " (6, 'Mickey', 'Mouse', 2000.0, 'Disney Land'),\n",
       " (4, 'Bill', 'Gomes', 1500.0, 'AUSTRALIA'),\n",
       " (5, 'Donald', 'Duck', 1800.0, 'USA')]"
      ]
     },
     "execution_count": 69,
     "metadata": {},
     "output_type": "execute_result"
    }
   ],
   "source": [
    "# Inserting element into the list\n",
    "\n",
    "employees.insert(3, (6, \"Mickey\", \"Mouse\", 2000.0, \"Disney Land\"))\n",
    "\n",
    "employees"
   ]
  },
  {
   "cell_type": "markdown",
   "metadata": {},
   "source": [
    "* Deleting elements from list (pop, clear)"
   ]
  },
  {
   "cell_type": "code",
   "execution_count": 70,
   "metadata": {},
   "outputs": [
    {
     "data": {
      "text/plain": [
       "\u001b[0;31mSignature:\u001b[0m \u001b[0memployees\u001b[0m\u001b[0;34m.\u001b[0m\u001b[0mpop\u001b[0m\u001b[0;34m(\u001b[0m\u001b[0mindex\u001b[0m\u001b[0;34m=\u001b[0m\u001b[0;34m-\u001b[0m\u001b[0;36m1\u001b[0m\u001b[0;34m,\u001b[0m \u001b[0;34m/\u001b[0m\u001b[0;34m)\u001b[0m\u001b[0;34m\u001b[0m\u001b[0;34m\u001b[0m\u001b[0m\n",
       "\u001b[0;31mDocstring:\u001b[0m\n",
       "Remove and return item at index (default last).\n",
       "\n",
       "Raises IndexError if list is empty or index is out of range.\n",
       "\u001b[0;31mType:\u001b[0m      builtin_function_or_method\n"
      ]
     },
     "metadata": {},
     "output_type": "display_data"
    }
   ],
   "source": [
    "employees.pop?"
   ]
  },
  {
   "cell_type": "code",
   "execution_count": 71,
   "metadata": {},
   "outputs": [
    {
     "data": {
      "text/plain": [
       "(6, 'Mickey', 'Mouse', 2000.0, 'Disney Land')"
      ]
     },
     "execution_count": 71,
     "metadata": {},
     "output_type": "execute_result"
    }
   ],
   "source": [
    "employees.pop(3)"
   ]
  },
  {
   "cell_type": "code",
   "execution_count": 72,
   "metadata": {},
   "outputs": [
    {
     "data": {
      "text/plain": [
       "(5, 'Donald', 'Duck', 1800.0, 'USA')"
      ]
     },
     "execution_count": 72,
     "metadata": {},
     "output_type": "execute_result"
    }
   ],
   "source": [
    "employees.pop()"
   ]
  },
  {
   "cell_type": "code",
   "execution_count": 73,
   "metadata": {},
   "outputs": [
    {
     "data": {
      "text/plain": [
       "\u001b[0;31mSignature:\u001b[0m \u001b[0memployees\u001b[0m\u001b[0;34m.\u001b[0m\u001b[0mclear\u001b[0m\u001b[0;34m(\u001b[0m\u001b[0;34m)\u001b[0m\u001b[0;34m\u001b[0m\u001b[0;34m\u001b[0m\u001b[0m\n",
       "\u001b[0;31mDocstring:\u001b[0m Remove all items from list.\n",
       "\u001b[0;31mType:\u001b[0m      builtin_function_or_method\n"
      ]
     },
     "metadata": {},
     "output_type": "display_data"
    }
   ],
   "source": [
    "employees.clear?"
   ]
  },
  {
   "cell_type": "code",
   "execution_count": 74,
   "metadata": {},
   "outputs": [],
   "source": [
    "employees.clear()"
   ]
  },
  {
   "cell_type": "code",
   "execution_count": 75,
   "metadata": {},
   "outputs": [
    {
     "data": {
      "text/plain": [
       "[]"
      ]
     },
     "execution_count": 75,
     "metadata": {},
     "output_type": "execute_result"
    }
   ],
   "source": [
    "employees"
   ]
  },
  {
   "cell_type": "code",
   "execution_count": 76,
   "metadata": {},
   "outputs": [
    {
     "data": {
      "text/plain": [
       "[(1, 'Scott', 'Tiger', 1000.0, 'united states'),\n",
       " (2, 'Henry', 'Ford', 1250.0, 'India'),\n",
       " (3, 'Nick', 'Junior', 750.0, 'united KINGDOM'),\n",
       " (6, 'Mickey', 'Mouse', 2000.0, 'Disney Land'),\n",
       " (4, 'Bill', 'Gomes', 1500.0, 'AUSTRALIA'),\n",
       " (5, 'Donald', 'Duck', 1800.0, 'USA')]"
      ]
     },
     "execution_count": 76,
     "metadata": {},
     "output_type": "execute_result"
    }
   ],
   "source": [
    "employees = [(1, \"Scott\", \"Tiger\", 1000.0, \"united states\"),\n",
    "             (2, \"Henry\", \"Ford\", 1250.0, \"India\"),\n",
    "             (3, \"Nick\", \"Junior\", 750.0, \"united KINGDOM\"),\n",
    "             (4, \"Bill\", \"Gomes\", 1500.0, \"AUSTRALIA\")\n",
    "            ]\n",
    "employees.append((5, \"Donald\", \"Duck\", 1800.0, \"USA\"))\n",
    "employees.insert(3, (6, \"Mickey\", \"Mouse\", 2000.0, \"Disney Land\"))\n",
    "\n",
    "employees"
   ]
  },
  {
   "cell_type": "markdown",
   "metadata": {},
   "source": [
    "* Checking how many times an element is repeated in list (count)"
   ]
  },
  {
   "cell_type": "code",
   "execution_count": 77,
   "metadata": {},
   "outputs": [],
   "source": [
    "l = [1, 2, 4, 4, 5, 7, 3, 4, 2, 1]"
   ]
  },
  {
   "cell_type": "code",
   "execution_count": 78,
   "metadata": {},
   "outputs": [
    {
     "data": {
      "text/plain": [
       "3"
      ]
     },
     "execution_count": 78,
     "metadata": {},
     "output_type": "execute_result"
    }
   ],
   "source": [
    "l.count(4)"
   ]
  },
  {
   "cell_type": "code",
   "execution_count": 79,
   "metadata": {},
   "outputs": [],
   "source": [
    "s = '1244573421'"
   ]
  },
  {
   "cell_type": "code",
   "execution_count": 81,
   "metadata": {},
   "outputs": [
    {
     "data": {
      "text/plain": [
       "3"
      ]
     },
     "execution_count": 81,
     "metadata": {},
     "output_type": "execute_result"
    }
   ],
   "source": [
    "s.count('4')"
   ]
  },
  {
   "cell_type": "markdown",
   "metadata": {},
   "source": [
    "* Get the position of element (index)"
   ]
  },
  {
   "cell_type": "code",
   "execution_count": 82,
   "metadata": {},
   "outputs": [
    {
     "data": {
      "text/plain": [
       "1"
      ]
     },
     "execution_count": 82,
     "metadata": {},
     "output_type": "execute_result"
    }
   ],
   "source": [
    "# Getting position of the element in the list\n",
    "\n",
    "employees.index((2, 'Henry', 'Ford', 1250.0, 'India'))"
   ]
  },
  {
   "cell_type": "code",
   "execution_count": 83,
   "metadata": {},
   "outputs": [],
   "source": [
    "l = [1, 2, 4, 4, 5, 7, 3, 4, 2, 1]"
   ]
  },
  {
   "cell_type": "code",
   "execution_count": 84,
   "metadata": {},
   "outputs": [
    {
     "data": {
      "text/plain": [
       "\u001b[0;31mSignature:\u001b[0m \u001b[0ml\u001b[0m\u001b[0;34m.\u001b[0m\u001b[0mindex\u001b[0m\u001b[0;34m(\u001b[0m\u001b[0mvalue\u001b[0m\u001b[0;34m,\u001b[0m \u001b[0mstart\u001b[0m\u001b[0;34m=\u001b[0m\u001b[0;36m0\u001b[0m\u001b[0;34m,\u001b[0m \u001b[0mstop\u001b[0m\u001b[0;34m=\u001b[0m\u001b[0;36m9223372036854775807\u001b[0m\u001b[0;34m,\u001b[0m \u001b[0;34m/\u001b[0m\u001b[0;34m)\u001b[0m\u001b[0;34m\u001b[0m\u001b[0;34m\u001b[0m\u001b[0m\n",
       "\u001b[0;31mDocstring:\u001b[0m\n",
       "Return first index of value.\n",
       "\n",
       "Raises ValueError if the value is not present.\n",
       "\u001b[0;31mType:\u001b[0m      builtin_function_or_method\n"
      ]
     },
     "metadata": {},
     "output_type": "display_data"
    }
   ],
   "source": [
    "l.index?"
   ]
  },
  {
   "cell_type": "code",
   "execution_count": 85,
   "metadata": {},
   "outputs": [
    {
     "data": {
      "text/plain": [
       "2"
      ]
     },
     "execution_count": 85,
     "metadata": {},
     "output_type": "execute_result"
    }
   ],
   "source": [
    "l.index(4)"
   ]
  },
  {
   "cell_type": "code",
   "execution_count": 86,
   "metadata": {},
   "outputs": [
    {
     "data": {
      "text/plain": [
       "3"
      ]
     },
     "execution_count": 86,
     "metadata": {},
     "output_type": "execute_result"
    }
   ],
   "source": [
    "l.index(4, 3)"
   ]
  },
  {
   "cell_type": "code",
   "execution_count": 87,
   "metadata": {},
   "outputs": [
    {
     "data": {
      "text/plain": [
       "7"
      ]
     },
     "execution_count": 87,
     "metadata": {},
     "output_type": "execute_result"
    }
   ],
   "source": [
    "l.index(4, 4)"
   ]
  },
  {
   "cell_type": "markdown",
   "metadata": {},
   "source": [
    "* Accessing elements in list using index and range of index (from the beginning). As `str` is nothing but list of characters, these worked for strings in the past"
   ]
  },
  {
   "cell_type": "code",
   "execution_count": 88,
   "metadata": {},
   "outputs": [],
   "source": [
    "l = [1, 2, 4, 4, 5, 7, 3, 4, 2, 1]"
   ]
  },
  {
   "cell_type": "code",
   "execution_count": 89,
   "metadata": {},
   "outputs": [
    {
     "data": {
      "text/plain": [
       "[1, 2, 4]"
      ]
     },
     "execution_count": 89,
     "metadata": {},
     "output_type": "execute_result"
    }
   ],
   "source": [
    "l[0:3]"
   ]
  },
  {
   "cell_type": "code",
   "execution_count": 90,
   "metadata": {},
   "outputs": [
    {
     "data": {
      "text/plain": [
       "[4, 5, 7]"
      ]
     },
     "execution_count": 90,
     "metadata": {},
     "output_type": "execute_result"
    }
   ],
   "source": [
    "l[3:6]"
   ]
  },
  {
   "cell_type": "code",
   "execution_count": 91,
   "metadata": {},
   "outputs": [
    {
     "data": {
      "text/plain": [
       "[1, 2, 4, 4, 5, 7]"
      ]
     },
     "execution_count": 91,
     "metadata": {},
     "output_type": "execute_result"
    }
   ],
   "source": [
    "l[:6]"
   ]
  },
  {
   "cell_type": "code",
   "execution_count": 92,
   "metadata": {},
   "outputs": [
    {
     "data": {
      "text/plain": [
       "[4, 5, 7, 3, 4, 2, 1]"
      ]
     },
     "execution_count": 92,
     "metadata": {},
     "output_type": "execute_result"
    }
   ],
   "source": [
    "l[3:]"
   ]
  },
  {
   "cell_type": "code",
   "execution_count": 93,
   "metadata": {},
   "outputs": [
    {
     "data": {
      "text/plain": [
       "[(1, 'Scott', 'Tiger', 1000.0, 'united states'),\n",
       " (2, 'Henry', 'Ford', 1250.0, 'India'),\n",
       " (3, 'Nick', 'Junior', 750.0, 'united KINGDOM'),\n",
       " (6, 'Mickey', 'Mouse', 2000.0, 'Disney Land'),\n",
       " (4, 'Bill', 'Gomes', 1500.0, 'AUSTRALIA'),\n",
       " (5, 'Donald', 'Duck', 1800.0, 'USA')]"
      ]
     },
     "execution_count": 93,
     "metadata": {},
     "output_type": "execute_result"
    }
   ],
   "source": [
    "employees = [(1, \"Scott\", \"Tiger\", 1000.0, \"united states\"),\n",
    "             (2, \"Henry\", \"Ford\", 1250.0, \"India\"),\n",
    "             (3, \"Nick\", \"Junior\", 750.0, \"united KINGDOM\"),\n",
    "             (4, \"Bill\", \"Gomes\", 1500.0, \"AUSTRALIA\")\n",
    "            ]\n",
    "employees.append((5, \"Donald\", \"Duck\", 1800.0, \"USA\"))\n",
    "employees.insert(3, (6, \"Mickey\", \"Mouse\", 2000.0, \"Disney Land\"))\n",
    "\n",
    "employees"
   ]
  },
  {
   "cell_type": "code",
   "execution_count": 94,
   "metadata": {},
   "outputs": [
    {
     "data": {
      "text/plain": [
       "(1, 'Scott', 'Tiger', 1000.0, 'united states')"
      ]
     },
     "execution_count": 94,
     "metadata": {},
     "output_type": "execute_result"
    }
   ],
   "source": [
    "# Accessing elements in the list\n",
    "\n",
    "employees[0]"
   ]
  },
  {
   "cell_type": "code",
   "execution_count": 95,
   "metadata": {},
   "outputs": [
    {
     "data": {
      "text/plain": [
       "(5, 'Donald', 'Duck', 1800.0, 'USA')"
      ]
     },
     "execution_count": 95,
     "metadata": {},
     "output_type": "execute_result"
    }
   ],
   "source": [
    "employees[5]"
   ]
  },
  {
   "cell_type": "code",
   "execution_count": 96,
   "metadata": {},
   "outputs": [
    {
     "data": {
      "text/plain": [
       "[(2, 'Henry', 'Ford', 1250.0, 'India')]"
      ]
     },
     "execution_count": 96,
     "metadata": {},
     "output_type": "execute_result"
    }
   ],
   "source": [
    "employees[1:2]"
   ]
  },
  {
   "cell_type": "code",
   "execution_count": 97,
   "metadata": {},
   "outputs": [
    {
     "data": {
      "text/plain": [
       "[(1, 'Scott', 'Tiger', 1000.0, 'united states'),\n",
       " (2, 'Henry', 'Ford', 1250.0, 'India'),\n",
       " (3, 'Nick', 'Junior', 750.0, 'united KINGDOM')]"
      ]
     },
     "execution_count": 97,
     "metadata": {},
     "output_type": "execute_result"
    }
   ],
   "source": [
    "employees[:3]"
   ]
  },
  {
   "cell_type": "code",
   "execution_count": 98,
   "metadata": {},
   "outputs": [
    {
     "data": {
      "text/plain": [
       "[(6, 'Mickey', 'Mouse', 2000.0, 'Disney Land'),\n",
       " (4, 'Bill', 'Gomes', 1500.0, 'AUSTRALIA'),\n",
       " (5, 'Donald', 'Duck', 1800.0, 'USA')]"
      ]
     },
     "execution_count": 98,
     "metadata": {},
     "output_type": "execute_result"
    }
   ],
   "source": [
    "employees[-3:]"
   ]
  },
  {
   "cell_type": "markdown",
   "metadata": {},
   "source": [
    "* Accessing elements in list using index and range of index (from the end)."
   ]
  },
  {
   "cell_type": "code",
   "execution_count": 99,
   "metadata": {},
   "outputs": [],
   "source": [
    "l = [1, 2, 4, 4, 5, 7, 3, 4, 2, 1]"
   ]
  },
  {
   "cell_type": "code",
   "execution_count": 100,
   "metadata": {},
   "outputs": [
    {
     "data": {
      "text/plain": [
       "10"
      ]
     },
     "execution_count": 100,
     "metadata": {},
     "output_type": "execute_result"
    }
   ],
   "source": [
    "len(l)"
   ]
  },
  {
   "cell_type": "code",
   "execution_count": 101,
   "metadata": {},
   "outputs": [
    {
     "data": {
      "text/plain": [
       "[4, 2, 1]"
      ]
     },
     "execution_count": 101,
     "metadata": {},
     "output_type": "execute_result"
    }
   ],
   "source": [
    "l[-3:]"
   ]
  },
  {
   "cell_type": "code",
   "execution_count": 102,
   "metadata": {},
   "outputs": [
    {
     "data": {
      "text/plain": [
       "[7, 3, 4]"
      ]
     },
     "execution_count": 102,
     "metadata": {},
     "output_type": "execute_result"
    }
   ],
   "source": [
    "l[-5:-2]"
   ]
  },
  {
   "cell_type": "markdown",
   "metadata": {},
   "source": [
    "* Sorting elements in the list (sort for in place sort and sorted for sorting and creating new collection)"
   ]
  },
  {
   "cell_type": "code",
   "execution_count": 103,
   "metadata": {},
   "outputs": [
    {
     "data": {
      "text/plain": [
       "[(1, 'Scott', 'Tiger', 1000.0, 'united states'),\n",
       " (2, 'Henry', 'Ford', 1250.0, 'India'),\n",
       " (3, 'Nick', 'Junior', 750.0, 'united KINGDOM'),\n",
       " (4, 'Bill', 'Gomes', 1500.0, 'AUSTRALIA'),\n",
       " (5, 'Donald', 'Duck', 1800.0, 'USA'),\n",
       " (6, 'Mickey', 'Mouse', 2000.0, 'Disney Land')]"
      ]
     },
     "execution_count": 103,
     "metadata": {},
     "output_type": "execute_result"
    }
   ],
   "source": [
    "# In place sorting - data in employees will be sorted\n",
    "employees.sort()\n",
    "employees"
   ]
  },
  {
   "cell_type": "code",
   "execution_count": 104,
   "metadata": {},
   "outputs": [
    {
     "data": {
      "text/plain": [
       "[(1, 'Scott', 'Tiger', 1000.0, 'united states'),\n",
       " (2, 'Henry', 'Ford', 1250.0, 'India'),\n",
       " (3, 'Nick', 'Junior', 750.0, 'united KINGDOM'),\n",
       " (4, 'Bill', 'Gomes', 1500.0, 'AUSTRALIA'),\n",
       " (5, 'Donald', 'Duck', 1800.0, 'USA'),\n",
       " (6, 'Mickey', 'Mouse', 2000.0, 'Disney Land')]"
      ]
     },
     "execution_count": 104,
     "metadata": {},
     "output_type": "execute_result"
    }
   ],
   "source": [
    "# Sorting and creating new list\n",
    "\n",
    "employees = [(1, \"Scott\", \"Tiger\", 1000.0, \"united states\"),\n",
    "             (2, \"Henry\", \"Ford\", 1250.0, \"India\"),\n",
    "             (3, \"Nick\", \"Junior\", 750.0, \"united KINGDOM\"),\n",
    "             (4, \"Bill\", \"Gomes\", 1500.0, \"AUSTRALIA\")\n",
    "            ]\n",
    "\n",
    "employees.append((5, \"Donald\", \"Duck\", 1800.0, \"USA\"))\n",
    "\n",
    "employees.insert(3, (6, \"Mickey\", \"Mouse\", 2000.0, \"Disney Land\"))\n",
    "\n",
    "# We will typically assign output of sorted to a new variable or object\n",
    "# or return it\n",
    "sorted(employees)"
   ]
  },
  {
   "cell_type": "code",
   "execution_count": 105,
   "metadata": {},
   "outputs": [
    {
     "data": {
      "text/plain": [
       "[(1, 'Scott', 'Tiger', 1000.0, 'united states'),\n",
       " (2, 'Henry', 'Ford', 1250.0, 'India'),\n",
       " (3, 'Nick', 'Junior', 750.0, 'united KINGDOM'),\n",
       " (6, 'Mickey', 'Mouse', 2000.0, 'Disney Land'),\n",
       " (4, 'Bill', 'Gomes', 1500.0, 'AUSTRALIA'),\n",
       " (5, 'Donald', 'Duck', 1800.0, 'USA')]"
      ]
     },
     "execution_count": 105,
     "metadata": {},
     "output_type": "execute_result"
    }
   ],
   "source": [
    "employees # employees is not updated"
   ]
  },
  {
   "cell_type": "code",
   "execution_count": 106,
   "metadata": {},
   "outputs": [],
   "source": [
    "employees.sort()"
   ]
  },
  {
   "cell_type": "code",
   "execution_count": 107,
   "metadata": {},
   "outputs": [
    {
     "data": {
      "text/plain": [
       "[(1, 'Scott', 'Tiger', 1000.0, 'united states'),\n",
       " (2, 'Henry', 'Ford', 1250.0, 'India'),\n",
       " (3, 'Nick', 'Junior', 750.0, 'united KINGDOM'),\n",
       " (4, 'Bill', 'Gomes', 1500.0, 'AUSTRALIA'),\n",
       " (5, 'Donald', 'Duck', 1800.0, 'USA'),\n",
       " (6, 'Mickey', 'Mouse', 2000.0, 'Disney Land')]"
      ]
     },
     "execution_count": 107,
     "metadata": {},
     "output_type": "execute_result"
    }
   ],
   "source": [
    "employees # employees is sorted"
   ]
  },
  {
   "cell_type": "code",
   "execution_count": 108,
   "metadata": {},
   "outputs": [
    {
     "data": {
      "text/plain": [
       "[(6, 'Mickey', 'Mouse', 2000.0, 'Disney Land'),\n",
       " (5, 'Donald', 'Duck', 1800.0, 'USA'),\n",
       " (4, 'Bill', 'Gomes', 1500.0, 'AUSTRALIA'),\n",
       " (3, 'Nick', 'Junior', 750.0, 'united KINGDOM'),\n",
       " (2, 'Henry', 'Ford', 1250.0, 'India'),\n",
       " (1, 'Scott', 'Tiger', 1000.0, 'united states')]"
      ]
     },
     "execution_count": 108,
     "metadata": {},
     "output_type": "execute_result"
    }
   ],
   "source": [
    "sorted(employees, reverse=True)"
   ]
  },
  {
   "cell_type": "code",
   "execution_count": 109,
   "metadata": {},
   "outputs": [
    {
     "data": {
      "text/plain": [
       "[(3, 'Nick', 'Junior', 750.0, 'united KINGDOM'),\n",
       " (1, 'Scott', 'Tiger', 1000.0, 'united states'),\n",
       " (2, 'Henry', 'Ford', 1250.0, 'India'),\n",
       " (4, 'Bill', 'Gomes', 1500.0, 'AUSTRALIA'),\n",
       " (5, 'Donald', 'Duck', 1800.0, 'USA'),\n",
       " (6, 'Mickey', 'Mouse', 2000.0, 'Disney Land')]"
      ]
     },
     "execution_count": 109,
     "metadata": {},
     "output_type": "execute_result"
    }
   ],
   "source": [
    "sorted(employees, key=lambda k: k[3])"
   ]
  },
  {
   "cell_type": "code",
   "execution_count": 110,
   "metadata": {},
   "outputs": [
    {
     "data": {
      "text/plain": [
       "[(6, 'Mickey', 'Mouse', 2000.0, 'Disney Land'),\n",
       " (5, 'Donald', 'Duck', 1800.0, 'USA'),\n",
       " (4, 'Bill', 'Gomes', 1500.0, 'AUSTRALIA'),\n",
       " (2, 'Henry', 'Ford', 1250.0, 'India'),\n",
       " (1, 'Scott', 'Tiger', 1000.0, 'united states'),\n",
       " (3, 'Nick', 'Junior', 750.0, 'united KINGDOM')]"
      ]
     },
     "execution_count": 110,
     "metadata": {},
     "output_type": "execute_result"
    }
   ],
   "source": [
    "sorted(employees, key=lambda k: k[3], reverse=True)"
   ]
  },
  {
   "cell_type": "code",
   "execution_count": 111,
   "metadata": {},
   "outputs": [
    {
     "data": {
      "text/plain": [
       "[(1, 'Scott', 'Tiger', 1000.0, 'united states'),\n",
       " (2, 'Henry', 'Ford', 1250.0, 'India'),\n",
       " (3, 'Nick', 'Junior', 750.0, 'united KINGDOM'),\n",
       " (4, 'Bill', 'Gomes', 1500.0, 'AUSTRALIA'),\n",
       " (5, 'Donald', 'Duck', 1800.0, 'USA'),\n",
       " (6, 'Mickey', 'Mouse', 2000.0, 'Disney Land')]"
      ]
     },
     "execution_count": 111,
     "metadata": {},
     "output_type": "execute_result"
    }
   ],
   "source": [
    "employees"
   ]
  },
  {
   "cell_type": "code",
   "execution_count": 112,
   "metadata": {},
   "outputs": [],
   "source": [
    "employees.sort(key=lambda k: k[3], reverse=True)"
   ]
  },
  {
   "cell_type": "code",
   "execution_count": 113,
   "metadata": {},
   "outputs": [
    {
     "data": {
      "text/plain": [
       "[(6, 'Mickey', 'Mouse', 2000.0, 'Disney Land'),\n",
       " (5, 'Donald', 'Duck', 1800.0, 'USA'),\n",
       " (4, 'Bill', 'Gomes', 1500.0, 'AUSTRALIA'),\n",
       " (2, 'Henry', 'Ford', 1250.0, 'India'),\n",
       " (1, 'Scott', 'Tiger', 1000.0, 'united states'),\n",
       " (3, 'Nick', 'Junior', 750.0, 'united KINGDOM')]"
      ]
     },
     "execution_count": 113,
     "metadata": {},
     "output_type": "execute_result"
    }
   ],
   "source": [
    "employees"
   ]
  },
  {
   "cell_type": "markdown",
   "metadata": {},
   "source": [
    "## Collections - set\n",
    "\n",
    "Let us understand **set** in detail.\n",
    "* Group of unique elements with no index or length\n",
    "* Elements can be added/inserted but not at a particular position\n",
    "* We can check whether the element exists using in operator\n",
    "* There can be no duplicates in a set\n",
    "* APIs are available to add elements to the set, delete elements from the set and perform set operations such as union, intersection etc\n",
    "* We need to convert set to list to sort the data or use sorted function. There is no API available in set to sort it."
   ]
  },
  {
   "cell_type": "markdown",
   "metadata": {},
   "source": [
    "### Exercises\n",
    "\n",
    "We will see some basic set operations by using simple examples\n",
    "* Create a set of 3 employees with ids 1, 2 and 3 using elements from **employees** list."
   ]
  },
  {
   "cell_type": "code",
   "execution_count": 114,
   "metadata": {},
   "outputs": [],
   "source": [
    "employees_set = {(1, \"Scott\", \"Tiger\", 1000.0, \"united states\"),\n",
    "                 (2, \"Henry\", \"Ford\", 1250.0, \"India\"),\n",
    "                 (3, \"Nick\", \"Junior\", 750.0, \"united KINGDOM\")\n",
    "                }"
   ]
  },
  {
   "cell_type": "code",
   "execution_count": 115,
   "metadata": {},
   "outputs": [
    {
     "data": {
      "text/plain": [
       "set"
      ]
     },
     "execution_count": 115,
     "metadata": {},
     "output_type": "execute_result"
    }
   ],
   "source": [
    "type(employees_set)"
   ]
  },
  {
   "cell_type": "code",
   "execution_count": 116,
   "metadata": {},
   "outputs": [
    {
     "data": {
      "text/plain": [
       "\u001b[0;31mType:\u001b[0m        set\n",
       "\u001b[0;31mString form:\u001b[0m {(3, 'Nick', 'Junior', 750.0, 'united KINGDOM'), (1, 'Scott', 'Tiger', 1000.0, 'united states'), (2, 'Henry', 'Ford', 1250.0, 'India')}\n",
       "\u001b[0;31mLength:\u001b[0m      3\n",
       "\u001b[0;31mDocstring:\u001b[0m  \n",
       "set() -> new empty set object\n",
       "set(iterable) -> new set object\n",
       "\n",
       "Build an unordered collection of unique elements.\n"
      ]
     },
     "metadata": {},
     "output_type": "display_data"
    }
   ],
   "source": [
    "employees_set?"
   ]
  },
  {
   "cell_type": "markdown",
   "metadata": {},
   "source": [
    "* Adding elements into set (add) - Add employees with ids 4, 5."
   ]
  },
  {
   "cell_type": "code",
   "execution_count": 118,
   "metadata": {},
   "outputs": [],
   "source": [
    "employees_set.add((4, 'Bill', 'Gomes', 1500.0, 'AUSTRALIA'))"
   ]
  },
  {
   "cell_type": "code",
   "execution_count": 119,
   "metadata": {},
   "outputs": [],
   "source": [
    "employees_set.add((5, 'Donald', 'Duck', 1800.0, 'USA'))"
   ]
  },
  {
   "cell_type": "code",
   "execution_count": 120,
   "metadata": {},
   "outputs": [
    {
     "data": {
      "text/plain": [
       "{(1, 'Scott', 'Tiger', 1000.0, 'united states'),\n",
       " (2, 'Henry', 'Ford', 1250.0, 'India'),\n",
       " (3, 'Nick', 'Junior', 750.0, 'united KINGDOM'),\n",
       " (4, 'Bill', 'Gomes', 1500.0, 'AUSTRALIA'),\n",
       " (5, 'Donald', 'Duck', 1800.0, 'USA')}"
      ]
     },
     "execution_count": 120,
     "metadata": {},
     "output_type": "execute_result"
    }
   ],
   "source": [
    "employees_set"
   ]
  },
  {
   "cell_type": "markdown",
   "metadata": {},
   "source": [
    "* Deleting elements from set (pop/remove, clear)"
   ]
  },
  {
   "cell_type": "code",
   "execution_count": 121,
   "metadata": {},
   "outputs": [
    {
     "data": {
      "text/plain": [
       "\u001b[0;31mDocstring:\u001b[0m\n",
       "Remove and return an arbitrary set element.\n",
       "Raises KeyError if the set is empty.\n",
       "\u001b[0;31mType:\u001b[0m      builtin_function_or_method\n"
      ]
     },
     "metadata": {},
     "output_type": "display_data"
    }
   ],
   "source": [
    "employees_set.pop?"
   ]
  },
  {
   "cell_type": "code",
   "execution_count": 123,
   "metadata": {},
   "outputs": [
    {
     "data": {
      "text/plain": [
       "(5, 'Donald', 'Duck', 1800.0, 'USA')"
      ]
     },
     "execution_count": 123,
     "metadata": {},
     "output_type": "execute_result"
    }
   ],
   "source": [
    "employees_set.pop()"
   ]
  },
  {
   "cell_type": "code",
   "execution_count": 124,
   "metadata": {},
   "outputs": [
    {
     "data": {
      "text/plain": [
       "{(1, 'Scott', 'Tiger', 1000.0, 'united states'),\n",
       " (2, 'Henry', 'Ford', 1250.0, 'India'),\n",
       " (3, 'Nick', 'Junior', 750.0, 'united KINGDOM'),\n",
       " (4, 'Bill', 'Gomes', 1500.0, 'AUSTRALIA')}"
      ]
     },
     "execution_count": 124,
     "metadata": {},
     "output_type": "execute_result"
    }
   ],
   "source": [
    "employees_set"
   ]
  },
  {
   "cell_type": "code",
   "execution_count": 122,
   "metadata": {},
   "outputs": [
    {
     "data": {
      "text/plain": [
       "\u001b[0;31mDocstring:\u001b[0m\n",
       "Remove an element from a set; it must be a member.\n",
       "\n",
       "If the element is not a member, raise a KeyError.\n",
       "\u001b[0;31mType:\u001b[0m      builtin_function_or_method\n"
      ]
     },
     "metadata": {},
     "output_type": "display_data"
    }
   ],
   "source": [
    "employees_set.remove?"
   ]
  },
  {
   "cell_type": "code",
   "execution_count": 125,
   "metadata": {},
   "outputs": [],
   "source": [
    "employees_set.remove((4, 'Bill', 'Gomes', 1500.0, 'AUSTRALIA'))"
   ]
  },
  {
   "cell_type": "code",
   "execution_count": 126,
   "metadata": {},
   "outputs": [
    {
     "data": {
      "text/plain": [
       "{(1, 'Scott', 'Tiger', 1000.0, 'united states'),\n",
       " (2, 'Henry', 'Ford', 1250.0, 'India'),\n",
       " (3, 'Nick', 'Junior', 750.0, 'united KINGDOM')}"
      ]
     },
     "execution_count": 126,
     "metadata": {},
     "output_type": "execute_result"
    }
   ],
   "source": [
    "employees_set"
   ]
  },
  {
   "cell_type": "markdown",
   "metadata": {},
   "source": [
    "* Checking whether element is present in a set using `[]` - check whether employee with ids 2 and 7 exists in the set."
   ]
  },
  {
   "cell_type": "code",
   "execution_count": 128,
   "metadata": {},
   "outputs": [
    {
     "data": {
      "text/plain": [
       "True"
      ]
     },
     "execution_count": 128,
     "metadata": {},
     "output_type": "execute_result"
    }
   ],
   "source": [
    "(2, 'Henry', 'Ford', 1250.0, 'India') in employees_set"
   ]
  },
  {
   "cell_type": "code",
   "execution_count": 129,
   "metadata": {},
   "outputs": [
    {
     "data": {
      "text/plain": [
       "False"
      ]
     },
     "execution_count": 129,
     "metadata": {},
     "output_type": "execute_result"
    }
   ],
   "source": [
    "(7, 'Henry', 'Ford', 1250.0, 'India') in employees_set"
   ]
  },
  {
   "cell_type": "markdown",
   "metadata": {},
   "source": [
    "* Set operations (union, intersection, difference etc) - Create a new set with **employee ids** 4, 5 and 6, then perform all 3 set operations on the set created in first step and this step."
   ]
  },
  {
   "cell_type": "code",
   "execution_count": 131,
   "metadata": {},
   "outputs": [],
   "source": [
    "employees_set1 = {(1, \"Scott\", \"Tiger\", 1000.0, \"united states\"),\n",
    "                  (2, \"Henry\", \"Ford\", 1250.0, \"India\"),\n",
    "                  (3, \"Nick\", \"Junior\", 750.0, \"united KINGDOM\"),\n",
    "                  (4, 'Bill', 'Gomes', 1500.0, 'AUSTRALIA'),\n",
    "                  (5, 'Donald', 'Duck', 1800.0, 'USA')\n",
    "                 }"
   ]
  },
  {
   "cell_type": "code",
   "execution_count": 132,
   "metadata": {},
   "outputs": [],
   "source": [
    "employees_set2 = {(4, 'Bill', 'Gomes', 1500.0, 'AUSTRALIA'),\n",
    "                  (5, 'Donald', 'Duck', 1800.0, 'USA'),\n",
    "                  (6, 'Mickey', 'Mouse', 2000.0, 'Disney Land')\n",
    "                 }"
   ]
  },
  {
   "cell_type": "code",
   "execution_count": 133,
   "metadata": {},
   "outputs": [
    {
     "data": {
      "text/plain": [
       "{(1, 'Scott', 'Tiger', 1000.0, 'united states'),\n",
       " (2, 'Henry', 'Ford', 1250.0, 'India'),\n",
       " (3, 'Nick', 'Junior', 750.0, 'united KINGDOM'),\n",
       " (4, 'Bill', 'Gomes', 1500.0, 'AUSTRALIA'),\n",
       " (5, 'Donald', 'Duck', 1800.0, 'USA'),\n",
       " (6, 'Mickey', 'Mouse', 2000.0, 'Disney Land')}"
      ]
     },
     "execution_count": 133,
     "metadata": {},
     "output_type": "execute_result"
    }
   ],
   "source": [
    "employees_set1.union(employees_set2)"
   ]
  },
  {
   "cell_type": "code",
   "execution_count": 135,
   "metadata": {},
   "outputs": [
    {
     "data": {
      "text/plain": [
       "{(4, 'Bill', 'Gomes', 1500.0, 'AUSTRALIA'),\n",
       " (5, 'Donald', 'Duck', 1800.0, 'USA')}"
      ]
     },
     "execution_count": 135,
     "metadata": {},
     "output_type": "execute_result"
    }
   ],
   "source": [
    "employees_set1.intersection(employees_set2)"
   ]
  },
  {
   "cell_type": "code",
   "execution_count": 136,
   "metadata": {},
   "outputs": [
    {
     "data": {
      "text/plain": [
       "{(1, 'Scott', 'Tiger', 1000.0, 'united states'),\n",
       " (2, 'Henry', 'Ford', 1250.0, 'India'),\n",
       " (3, 'Nick', 'Junior', 750.0, 'united KINGDOM')}"
      ]
     },
     "execution_count": 136,
     "metadata": {},
     "output_type": "execute_result"
    }
   ],
   "source": [
    "employees_set1.difference(employees_set2)"
   ]
  },
  {
   "cell_type": "code",
   "execution_count": 137,
   "metadata": {},
   "outputs": [
    {
     "data": {
      "text/plain": [
       "{(6, 'Mickey', 'Mouse', 2000.0, 'Disney Land')}"
      ]
     },
     "execution_count": 137,
     "metadata": {},
     "output_type": "execute_result"
    }
   ],
   "source": [
    "employees_set2.difference(employees_set1)"
   ]
  },
  {
   "cell_type": "markdown",
   "metadata": {},
   "source": [
    "## Collections - dict\n",
    "Let us understand **dict** in detail.\n",
    "* Group of key value pairs\n",
    "* Keys are unique\n",
    "* Values need not be unique\n",
    "* We can access values using keys\n",
    "* APIs are available to add new key value pairs to a dict, update values based on keys in dict, extract keys as set from dict, extract values as list from dict, to check whether key exists in the dict etc\n",
    "\n",
    "### Tasks\n",
    "We will see some basic dict operations by using simple examples\n",
    "* Adding elements to dict\n",
    "* Removing elements from dict (clear, pop, popitem)\n",
    "* Get all keys (keys)\n",
    "* Get all key value pairs (items)\n",
    "* Get only values (values)\n"
   ]
  },
  {
   "cell_type": "code",
   "execution_count": 1,
   "metadata": {},
   "outputs": [],
   "source": [
    "db = {\n",
    "    \"host\": \"dslab.itversity.com\",\n",
    "    \"db_name\": \"retail_db\",\n",
    "    \"username\": \"retail_fake\",\n",
    "    \"username\": \"retail_user\",\n",
    "    \"password\": \"itversity\"\n",
    "}"
   ]
  },
  {
   "cell_type": "code",
   "execution_count": 2,
   "metadata": {},
   "outputs": [
    {
     "data": {
      "text/plain": [
       "dict"
      ]
     },
     "execution_count": 2,
     "metadata": {},
     "output_type": "execute_result"
    }
   ],
   "source": [
    "type(db)"
   ]
  },
  {
   "cell_type": "code",
   "execution_count": 3,
   "metadata": {},
   "outputs": [
    {
     "data": {
      "text/plain": [
       "{'host': 'dslab.itversity.com',\n",
       " 'db_name': 'retail_db',\n",
       " 'username': 'retail_user',\n",
       " 'password': 'itversity'}"
      ]
     },
     "execution_count": 3,
     "metadata": {},
     "output_type": "execute_result"
    }
   ],
   "source": [
    "db"
   ]
  },
  {
   "cell_type": "code",
   "execution_count": 4,
   "metadata": {},
   "outputs": [],
   "source": [
    "db[\"port\"] = \"3306\""
   ]
  },
  {
   "cell_type": "code",
   "execution_count": 5,
   "metadata": {},
   "outputs": [
    {
     "data": {
      "text/plain": [
       "{'host': 'dslab.itversity.com',\n",
       " 'db_name': 'retail_db',\n",
       " 'username': 'retail_user',\n",
       " 'password': 'itversity',\n",
       " 'port': '3306'}"
      ]
     },
     "execution_count": 5,
     "metadata": {},
     "output_type": "execute_result"
    }
   ],
   "source": [
    "db"
   ]
  },
  {
   "cell_type": "code",
   "execution_count": 6,
   "metadata": {},
   "outputs": [
    {
     "data": {
      "text/plain": [
       "dict_keys(['host', 'db_name', 'username', 'password', 'port'])"
      ]
     },
     "execution_count": 6,
     "metadata": {},
     "output_type": "execute_result"
    }
   ],
   "source": [
    "db.keys()"
   ]
  },
  {
   "cell_type": "code",
   "execution_count": 7,
   "metadata": {},
   "outputs": [
    {
     "data": {
      "text/plain": [
       "dict_values(['dslab.itversity.com', 'retail_db', 'retail_user', 'itversity', '3306'])"
      ]
     },
     "execution_count": 7,
     "metadata": {},
     "output_type": "execute_result"
    }
   ],
   "source": [
    "db.values()"
   ]
  },
  {
   "cell_type": "code",
   "execution_count": 8,
   "metadata": {},
   "outputs": [
    {
     "data": {
      "text/plain": [
       "dict_items([('host', 'dslab.itversity.com'), ('db_name', 'retail_db'), ('username', 'retail_user'), ('password', 'itversity'), ('port', '3306')])"
      ]
     },
     "execution_count": 8,
     "metadata": {},
     "output_type": "execute_result"
    }
   ],
   "source": [
    "db.items() # returns list of 2 value tuples (pairs)"
   ]
  },
  {
   "cell_type": "code",
   "execution_count": 9,
   "metadata": {},
   "outputs": [
    {
     "data": {
      "text/plain": [
       "tuple"
      ]
     },
     "execution_count": 9,
     "metadata": {},
     "output_type": "execute_result"
    }
   ],
   "source": [
    "type(list(db.items())[0])"
   ]
  },
  {
   "cell_type": "code",
   "execution_count": 10,
   "metadata": {},
   "outputs": [
    {
     "data": {
      "text/plain": [
       "'dslab.itversity.com'"
      ]
     },
     "execution_count": 10,
     "metadata": {},
     "output_type": "execute_result"
    }
   ],
   "source": [
    "db['host']"
   ]
  },
  {
   "cell_type": "code",
   "execution_count": 11,
   "metadata": {},
   "outputs": [
    {
     "data": {
      "text/plain": [
       "True"
      ]
     },
     "execution_count": 11,
     "metadata": {},
     "output_type": "execute_result"
    }
   ],
   "source": [
    "'host' in db"
   ]
  },
  {
   "cell_type": "markdown",
   "metadata": {},
   "source": [
    "## List of Tuples\n",
    "\n",
    "We often create collection (list) of tuples. Let us perform few tasks related to collection of tuples.\n",
    "* Create 3 tuples with order_id, order_date, order_customer_id, order_status.\n",
    "\n",
    "|order_id|order_date|order_customer_id|order_status|\n",
    "|--------|----------|-----------------|------------|\n",
    "|1|2013-07-25 00:00:00.0|11599|CLOSED|\n",
    "|2|2013-07-25 00:00:00.0|256|PENDING_PAYMENT|\n",
    "|3|2013-07-25 00:00:00.0|12111|COMPLETE|"
   ]
  },
  {
   "cell_type": "code",
   "execution_count": 2,
   "metadata": {},
   "outputs": [],
   "source": [
    "o1 = (1, '2013-07-25 00:00:00.0', 11599, 'CLOSED')"
   ]
  },
  {
   "cell_type": "code",
   "execution_count": 3,
   "metadata": {},
   "outputs": [],
   "source": [
    "o2 = (2, '2013-07-25 00:00:00.0', 256, 'PENDING_PAYMENT')"
   ]
  },
  {
   "cell_type": "code",
   "execution_count": 4,
   "metadata": {},
   "outputs": [],
   "source": [
    "o3 = (3, '2013-07-25 00:00:00.0', 12111, 'COMPLETE')"
   ]
  },
  {
   "cell_type": "markdown",
   "metadata": {},
   "source": [
    "* Create a list of the above 3 tuples by name **orders**"
   ]
  },
  {
   "cell_type": "code",
   "execution_count": 5,
   "metadata": {},
   "outputs": [],
   "source": [
    "orders = [o1, o2, o3]"
   ]
  },
  {
   "cell_type": "code",
   "execution_count": 9,
   "metadata": {},
   "outputs": [],
   "source": [
    "orders =[(1, '2013-07-25 00:00:00.0', 11599, 'CLOSED'),\n",
    "         (2, '2013-07-25 00:00:00.0', 256, 'PENDING_PAYMENT'),\n",
    "         (3, '2013-07-25 00:00:00.0', 12111, 'COMPLETE')\n",
    "        ]"
   ]
  },
  {
   "cell_type": "code",
   "execution_count": 6,
   "metadata": {},
   "outputs": [
    {
     "data": {
      "text/plain": [
       "(1, '2013-07-25 00:00:00.0', 11599, 'CLOSED')"
      ]
     },
     "execution_count": 6,
     "metadata": {},
     "output_type": "execute_result"
    }
   ],
   "source": [
    "orders[0]"
   ]
  },
  {
   "cell_type": "code",
   "execution_count": 7,
   "metadata": {},
   "outputs": [
    {
     "data": {
      "text/plain": [
       "256"
      ]
     },
     "execution_count": 7,
     "metadata": {},
     "output_type": "execute_result"
    }
   ],
   "source": [
    "orders[1][2]"
   ]
  },
  {
   "cell_type": "markdown",
   "metadata": {},
   "source": [
    "## Using Data Structures\n",
    "\n",
    "Let us understand how to leverage the data structures for data processing.\n",
    "\n",
    "* Read data from files using basic file I/O."
   ]
  },
  {
   "cell_type": "code",
   "execution_count": 146,
   "metadata": {},
   "outputs": [],
   "source": [
    "orders_file = open('/data/retail_db/orders/part-00000')"
   ]
  },
  {
   "cell_type": "code",
   "execution_count": 147,
   "metadata": {},
   "outputs": [
    {
     "data": {
      "text/plain": [
       "_io.TextIOWrapper"
      ]
     },
     "execution_count": 147,
     "metadata": {},
     "output_type": "execute_result"
    }
   ],
   "source": [
    "type(orders_file)"
   ]
  },
  {
   "cell_type": "code",
   "execution_count": 148,
   "metadata": {},
   "outputs": [
    {
     "data": {
      "text/plain": [
       "\u001b[0;31mSignature:\u001b[0m \u001b[0morders_file\u001b[0m\u001b[0;34m.\u001b[0m\u001b[0mread\u001b[0m\u001b[0;34m(\u001b[0m\u001b[0msize\u001b[0m\u001b[0;34m=\u001b[0m\u001b[0;34m-\u001b[0m\u001b[0;36m1\u001b[0m\u001b[0;34m,\u001b[0m \u001b[0;34m/\u001b[0m\u001b[0;34m)\u001b[0m\u001b[0;34m\u001b[0m\u001b[0;34m\u001b[0m\u001b[0m\n",
       "\u001b[0;31mDocstring:\u001b[0m\n",
       "Read at most n characters from stream.\n",
       "\n",
       "Read from underlying buffer until we have n characters or we hit EOF.\n",
       "If n is negative or omitted, read until EOF.\n",
       "\u001b[0;31mType:\u001b[0m      builtin_function_or_method\n"
      ]
     },
     "metadata": {},
     "output_type": "display_data"
    }
   ],
   "source": [
    "orders_file.read?"
   ]
  },
  {
   "cell_type": "code",
   "execution_count": 149,
   "metadata": {},
   "outputs": [],
   "source": [
    "orders_raw = orders_file.read()"
   ]
  },
  {
   "cell_type": "code",
   "execution_count": 150,
   "metadata": {},
   "outputs": [
    {
     "data": {
      "text/plain": [
       "str"
      ]
     },
     "execution_count": 150,
     "metadata": {},
     "output_type": "execute_result"
    }
   ],
   "source": [
    "type(orders_raw)"
   ]
  },
  {
   "cell_type": "markdown",
   "metadata": {},
   "source": [
    "* Get data into collections."
   ]
  },
  {
   "cell_type": "code",
   "execution_count": 151,
   "metadata": {},
   "outputs": [
    {
     "data": {
      "text/plain": [
       "\u001b[0;31mSignature:\u001b[0m \u001b[0mstr\u001b[0m\u001b[0;34m.\u001b[0m\u001b[0msplit\u001b[0m\u001b[0;34m(\u001b[0m\u001b[0mself\u001b[0m\u001b[0;34m,\u001b[0m \u001b[0;34m/\u001b[0m\u001b[0;34m,\u001b[0m \u001b[0msep\u001b[0m\u001b[0;34m=\u001b[0m\u001b[0;32mNone\u001b[0m\u001b[0;34m,\u001b[0m \u001b[0mmaxsplit\u001b[0m\u001b[0;34m=\u001b[0m\u001b[0;34m-\u001b[0m\u001b[0;36m1\u001b[0m\u001b[0;34m)\u001b[0m\u001b[0;34m\u001b[0m\u001b[0;34m\u001b[0m\u001b[0m\n",
       "\u001b[0;31mDocstring:\u001b[0m\n",
       "Return a list of the words in the string, using sep as the delimiter string.\n",
       "\n",
       "sep\n",
       "  The delimiter according which to split the string.\n",
       "  None (the default value) means split according to any whitespace,\n",
       "  and discard empty strings from the result.\n",
       "maxsplit\n",
       "  Maximum number of splits to do.\n",
       "  -1 (the default value) means no limit.\n",
       "\u001b[0;31mType:\u001b[0m      method_descriptor\n"
      ]
     },
     "metadata": {},
     "output_type": "display_data"
    }
   ],
   "source": [
    "str.split?"
   ]
  },
  {
   "cell_type": "code",
   "execution_count": 152,
   "metadata": {},
   "outputs": [
    {
     "data": {
      "text/plain": [
       "\u001b[0;31mSignature:\u001b[0m \u001b[0mstr\u001b[0m\u001b[0;34m.\u001b[0m\u001b[0msplitlines\u001b[0m\u001b[0;34m(\u001b[0m\u001b[0mself\u001b[0m\u001b[0;34m,\u001b[0m \u001b[0;34m/\u001b[0m\u001b[0;34m,\u001b[0m \u001b[0mkeepends\u001b[0m\u001b[0;34m=\u001b[0m\u001b[0;32mFalse\u001b[0m\u001b[0;34m)\u001b[0m\u001b[0;34m\u001b[0m\u001b[0;34m\u001b[0m\u001b[0m\n",
       "\u001b[0;31mDocstring:\u001b[0m\n",
       "Return a list of the lines in the string, breaking at line boundaries.\n",
       "\n",
       "Line breaks are not included in the resulting list unless keepends is given and\n",
       "true.\n",
       "\u001b[0;31mType:\u001b[0m      method_descriptor\n"
      ]
     },
     "metadata": {},
     "output_type": "display_data"
    }
   ],
   "source": [
    "str.splitlines?"
   ]
  },
  {
   "cell_type": "code",
   "execution_count": 154,
   "metadata": {},
   "outputs": [
    {
     "data": {
      "text/plain": [
       "['1,2013-07-25 00:00:00.0,11599,CLOSED',\n",
       " '2,2013-07-25 00:00:00.0,256,PENDING_PAYMENT',\n",
       " '3,2013-07-25 00:00:00.0,12111,COMPLETE',\n",
       " '4,2013-07-25 00:00:00.0,8827,CLOSED',\n",
       " '5,2013-07-25 00:00:00.0,11318,COMPLETE',\n",
       " '6,2013-07-25 00:00:00.0,7130,COMPLETE',\n",
       " '7,2013-07-25 00:00:00.0,4530,COMPLETE',\n",
       " '8,2013-07-25 00:00:00.0,2911,PROCESSING',\n",
       " '9,2013-07-25 00:00:00.0,5657,PENDING_PAYMENT',\n",
       " '10,2013-07-25 00:00:00.0,5648,PENDING_PAYMENT']"
      ]
     },
     "execution_count": 154,
     "metadata": {},
     "output_type": "execute_result"
    }
   ],
   "source": [
    "orders_raw.split('\\n')[:10]"
   ]
  },
  {
   "cell_type": "code",
   "execution_count": 155,
   "metadata": {},
   "outputs": [
    {
     "data": {
      "text/plain": [
       "['1,2013-07-25 00:00:00.0,11599,CLOSED',\n",
       " '2,2013-07-25 00:00:00.0,256,PENDING_PAYMENT',\n",
       " '3,2013-07-25 00:00:00.0,12111,COMPLETE',\n",
       " '4,2013-07-25 00:00:00.0,8827,CLOSED',\n",
       " '5,2013-07-25 00:00:00.0,11318,COMPLETE',\n",
       " '6,2013-07-25 00:00:00.0,7130,COMPLETE',\n",
       " '7,2013-07-25 00:00:00.0,4530,COMPLETE',\n",
       " '8,2013-07-25 00:00:00.0,2911,PROCESSING',\n",
       " '9,2013-07-25 00:00:00.0,5657,PENDING_PAYMENT',\n",
       " '10,2013-07-25 00:00:00.0,5648,PENDING_PAYMENT']"
      ]
     },
     "execution_count": 155,
     "metadata": {},
     "output_type": "execute_result"
    }
   ],
   "source": [
    "orders_raw.splitlines()[:10]"
   ]
  },
  {
   "cell_type": "markdown",
   "metadata": {},
   "source": [
    "* Convert data each record into tuple for better control.\n",
    "* Process data based up on the problem statement using APIs that are available on top of collections.\n",
    "\n",
    "**We will understand these as part of subsequent modules.**"
   ]
  },
  {
   "cell_type": "code",
   "execution_count": null,
   "metadata": {},
   "outputs": [],
   "source": []
  }
 ],
 "metadata": {
  "kernelspec": {
   "display_name": "Python 3",
   "language": "python",
   "name": "python3"
  },
  "language_info": {
   "codemirror_mode": {
    "name": "ipython",
    "version": 3
   },
   "file_extension": ".py",
   "mimetype": "text/x-python",
   "name": "python",
   "nbconvert_exporter": "python",
   "pygments_lexer": "ipython3",
   "version": "3.7.6"
  }
 },
 "nbformat": 4,
 "nbformat_minor": 4
}
