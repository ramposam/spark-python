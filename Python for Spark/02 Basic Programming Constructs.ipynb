{
 "cells": [
  {
   "cell_type": "markdown",
   "metadata": {},
   "source": [
    "# Basic Programming Constructs\n",
    "\n",
    "As part of this module we will see basic programming constructs in Python.\n",
    "\n",
    "* Getting Help\n",
    "* Overview of Jupyter Notebook\n",
    "* Variables and Objects\n",
    "* Data Types - Commonly used\n",
    "* Operators in Python\n",
    "* Formatting Strings\n",
    "* Conditionals\n",
    "* All about for loops\n",
    "* Running OS Commands"
   ]
  },
  {
   "cell_type": "markdown",
   "metadata": {},
   "source": [
    "## Getting Help\n",
    "\n",
    "We have already seen how to get help earlier.\n",
    "\n",
    "* We can get help either in Python CLI or Jupyter Notebook.\n",
    "* Help can be launched by calling help()\n",
    "* It will launch CLI and we can enter a class name or function name.\n",
    "* We can hit ctrl+c to come out of help\n",
    "* We can also get help on a class or function by passing them to help function interactively.\n",
    "* We will be able to get help by passing objects as well. In cases like str it will try to get the help on the value of variable.\n"
   ]
  },
  {
   "cell_type": "markdown",
   "metadata": {},
   "source": [
    "### Tasks\n",
    "\n",
    "Here are some of the tasks we can perform to understand help better.\n",
    "* Launch help\n",
    "* Get help for str\n",
    "* Get help for str.lstrip function\n",
    "* Exit from help\n",
    "* Get help on str and str.lstrip directly\n",
    "* Create an integer object i=0 and get help by passing the object."
   ]
  },
  {
   "cell_type": "markdown",
   "metadata": {},
   "source": [
    "## Overview of Jupyter Notebook\n",
    "\n",
    "Let us understand how we can create Jupyter Notebook using Jupyter Lab.\n",
    "\n",
    "* Relationship between Jupyter Notebook and iPython\n",
    "* Naming Standards\n",
    "* Managing Cells\n",
    "* Cell Types\n",
    "* Getting help using Jupyter Cells"
   ]
  },
  {
   "cell_type": "markdown",
   "metadata": {},
   "source": [
    "### Tasks\n",
    "\n",
    "Let's perform tasks to understand Jupyter Notebook environment better.\n",
    "\n",
    "* Create Jupyter Notebook by name **Getting Started**\n",
    "* Get help on `python_version` as part of the cell\n",
    "* Create cell and write the code to get the version of Python.\n",
    "```\n",
    "from platform import python_version\n",
    "print(python_version())\n",
    "```"
   ]
  },
  {
   "cell_type": "markdown",
   "metadata": {},
   "source": [
    "## Variables and Objects\n",
    "\n",
    "In Python we need not define data types for variables or objects.\n",
    "* Data types are inherited based up on the values assigned to the variables.\n",
    "* We can check the type of the variable or object using `type` function.\n",
    "* Python is interpreter based programming language which means it does not go through compilation and hence data types are not validated until run time.\n",
    "* Python variables or objects are dynamically typed. In case of compiler based programming languages such as Java, Scala etc variables or objects are statically typed.\n",
    "* We can specify data types for variables or objects starting from Python 3. However it is only informational and does not enforce."
   ]
  },
  {
   "cell_type": "code",
   "execution_count": null,
   "metadata": {},
   "outputs": [],
   "source": [
    "i = 0"
   ]
  },
  {
   "cell_type": "code",
   "execution_count": null,
   "metadata": {},
   "outputs": [],
   "source": [
    "type(i)"
   ]
  },
  {
   "cell_type": "code",
   "execution_count": null,
   "metadata": {},
   "outputs": [],
   "source": [
    "type(i) == int"
   ]
  },
  {
   "cell_type": "code",
   "execution_count": null,
   "metadata": {},
   "outputs": [],
   "source": [
    "j: int = 10 # You can specify data type starting from Python 3\n",
    "j = 'Hello'"
   ]
  },
  {
   "cell_type": "code",
   "execution_count": null,
   "metadata": {},
   "outputs": [],
   "source": [
    "print(j)"
   ]
  },
  {
   "cell_type": "code",
   "execution_count": null,
   "metadata": {},
   "outputs": [],
   "source": [
    "type(j)"
   ]
  },
  {
   "cell_type": "code",
   "execution_count": null,
   "metadata": {},
   "outputs": [],
   "source": [
    "type(j) == str"
   ]
  },
  {
   "cell_type": "markdown",
   "metadata": {},
   "source": [
    "## Data Types - Commonly used\n",
    "Python has several data types which are commonly used. There are advanced data types such as Data Frames as part of modules such as pandas.\n",
    "* Numeric - `int`, `float`, complex\n",
    "* Alpha Numeric - `str`\n",
    "* Collections\n",
    "  * `list`\n",
    "  * `set`\n",
    "  * `dict`\n",
    "* `tuple`\n",
    "* type(VARIABLE_NAME) returns the data type of the variable.\n",
    "* All the data types are nothing but classes.\n",
    "* We can type cast data types by invoking constructor."
   ]
  },
  {
   "cell_type": "markdown",
   "metadata": {},
   "source": [
    "## Operators in Python\n",
    "As any programming language Python supports all types of Operations. There are several categories of operators. For now we will cover Arithmetic and Comparison Operators.\n",
    "* Arithmetic Operators\n",
    "  * Addition (+)\n",
    "  * Subtraction (-)\n",
    "  * Multiplication (*)\n",
    "  * Division (/)\n",
    "  * Mod (%) returns reminder\n",
    "  * `+` is also used for concatenation of strings. \n",
    "* Comparison Operators - typically return boolean value (True or False)\n",
    "  * Equals (==)\n",
    "  * Not Equals (!=)\n",
    "  * Negation (! before expression)\n",
    "  * Greater Than (>)\n",
    "  * Less Than (<)\n",
    "  * Greater Than or Equals To (>=)\n",
    "  * Less Than or Equals To (<=)"
   ]
  },
  {
   "cell_type": "markdown",
   "metadata": {},
   "source": [
    "### Tasks or Exercises\n",
    "Let us perform some tasks to understand more about Python Data Types.\n",
    "* Create variables or objects of int, float.\n",
    "* Create 2 variables i1 and i2 with values 10 and 20 respectively. Add the variables and assign the result to res_i. Check the type of res_i."
   ]
  },
  {
   "cell_type": "code",
   "execution_count": null,
   "metadata": {},
   "outputs": [],
   "source": [
    "i1 = 10\n",
    "i2 = 20"
   ]
  },
  {
   "cell_type": "code",
   "execution_count": null,
   "metadata": {},
   "outputs": [],
   "source": [
    "res_i = i1 + i2"
   ]
  },
  {
   "cell_type": "code",
   "execution_count": null,
   "metadata": {},
   "outputs": [],
   "source": [
    "print(res_i)"
   ]
  },
  {
   "cell_type": "code",
   "execution_count": null,
   "metadata": {},
   "outputs": [],
   "source": [
    "type(res_i)"
   ]
  },
  {
   "cell_type": "markdown",
   "metadata": {},
   "source": [
    "* Create 2 variables f1 and f2 with values 10.5 and 15.6 respectively. Add the variables and assign the result to res_f. Check the type of f1, f2 and res_f."
   ]
  },
  {
   "cell_type": "code",
   "execution_count": null,
   "metadata": {},
   "outputs": [],
   "source": [
    "f1 = 10.5\n",
    "f2 = 15.6\n",
    "res_f = f1 + f2"
   ]
  },
  {
   "cell_type": "code",
   "execution_count": null,
   "metadata": {},
   "outputs": [],
   "source": [
    "print(res_f)"
   ]
  },
  {
   "cell_type": "code",
   "execution_count": null,
   "metadata": {},
   "outputs": [],
   "source": [
    "type(f1)"
   ]
  },
  {
   "cell_type": "code",
   "execution_count": null,
   "metadata": {},
   "outputs": [],
   "source": [
    "type(res_f)"
   ]
  },
  {
   "cell_type": "markdown",
   "metadata": {},
   "source": [
    "* Create 2 variables v1 and v2 with values 4 and 10.0 respectively. Add the variables and assign the result to res_v. Check the type of v1, v2 and res_v."
   ]
  },
  {
   "cell_type": "code",
   "execution_count": null,
   "metadata": {},
   "outputs": [],
   "source": [
    "v1 = 4\n",
    "v2 = 10.0\n",
    "res_v = v1 + v2"
   ]
  },
  {
   "cell_type": "code",
   "execution_count": null,
   "metadata": {},
   "outputs": [],
   "source": [
    "print(res_v)"
   ]
  },
  {
   "cell_type": "code",
   "execution_count": null,
   "metadata": {},
   "outputs": [],
   "source": [
    "type(res_v)"
   ]
  },
  {
   "cell_type": "code",
   "execution_count": null,
   "metadata": {},
   "outputs": [],
   "source": [
    "# question from the class\n",
    "f1 = 10.1\n",
    "f2 = '20.2'\n",
    "res_f = f1 + float(f2) \n",
    "# throws operand related to error as there is no overloaded function + \n",
    "# between float and string\n",
    "print(res_f)"
   ]
  },
  {
   "cell_type": "markdown",
   "metadata": {},
   "source": [
    "* Create object or variable s of type string for value Hello World and print on the screen. Check the type of s."
   ]
  },
  {
   "cell_type": "code",
   "execution_count": null,
   "metadata": {},
   "outputs": [],
   "source": [
    "s = \"Hello 'World'\"\n",
    "print(s)"
   ]
  },
  {
   "cell_type": "markdown",
   "metadata": {},
   "source": [
    "* Create 2 string objects s1 and s2 with values Hello and World respectively and concatenate with space between them."
   ]
  },
  {
   "cell_type": "code",
   "execution_count": null,
   "metadata": {},
   "outputs": [],
   "source": [
    "s1 = 'Hello'\n",
    "s2 = 'World'\n",
    "print(s1 + ' ' + s2)"
   ]
  },
  {
   "cell_type": "code",
   "execution_count": null,
   "metadata": {},
   "outputs": [],
   "source": [
    "s = '{s3} {s4}'\n",
    "s3 = 'Hello'\n",
    "s4 = 1\n",
    "print(s.format(s3=s3, s4=s4))"
   ]
  },
  {
   "cell_type": "code",
   "execution_count": null,
   "metadata": {},
   "outputs": [],
   "source": [
    "print('The result is {} {}'.format(s3,s4))"
   ]
  },
  {
   "cell_type": "markdown",
   "metadata": {},
   "source": [
    "* Compare whether i1 and i2 are equal and assign it to a variable res_e, then check the type of it."
   ]
  },
  {
   "cell_type": "code",
   "execution_count": null,
   "metadata": {},
   "outputs": [],
   "source": [
    "i1 = 10\n",
    "i2 = 20"
   ]
  },
  {
   "cell_type": "code",
   "execution_count": null,
   "metadata": {},
   "outputs": [],
   "source": [
    "res_e = i1 < i2\n",
    "# Feel free to try other operations"
   ]
  },
  {
   "cell_type": "code",
   "execution_count": null,
   "metadata": {},
   "outputs": [],
   "source": [
    "print(res_e)"
   ]
  },
  {
   "cell_type": "code",
   "execution_count": null,
   "metadata": {},
   "outputs": [],
   "source": [
    "type(res_e)"
   ]
  },
  {
   "cell_type": "markdown",
   "metadata": {},
   "source": [
    "## Formatting Strings\n",
    "\n",
    "Let us understand how we can define strings in Python.\n",
    "* We can either use double quotes or single quotes.\n",
    "* We can enclose strings with quotes with triple single/double quotes\n",
    "* We can have variables in strings which can be replaced using formatting."
   ]
  },
  {
   "cell_type": "code",
   "execution_count": null,
   "metadata": {},
   "outputs": [],
   "source": [
    "print('Hello World')"
   ]
  },
  {
   "cell_type": "code",
   "execution_count": null,
   "metadata": {},
   "outputs": [],
   "source": [
    "print(\"Hello World\")"
   ]
  },
  {
   "cell_type": "code",
   "execution_count": null,
   "metadata": {},
   "outputs": [],
   "source": [
    "print(\"Hello World from 'itversity'\")"
   ]
  },
  {
   "cell_type": "code",
   "execution_count": null,
   "metadata": {},
   "outputs": [],
   "source": [
    "print('Hello World from \"itversity\"')"
   ]
  },
  {
   "cell_type": "code",
   "execution_count": null,
   "metadata": {},
   "outputs": [],
   "source": [
    "print(\"\"\"Hello World from 'itversity'\"\"\")"
   ]
  },
  {
   "cell_type": "code",
   "execution_count": null,
   "metadata": {},
   "outputs": [],
   "source": [
    "print(\"\"\"Hello World from \"itversity\" \"\"\")"
   ]
  },
  {
   "cell_type": "code",
   "execution_count": null,
   "metadata": {},
   "outputs": [],
   "source": [
    "var1 = 'World'\n",
    "var2 = 'itversity'\n",
    "print(f'Hello {var1} from {var2}')"
   ]
  },
  {
   "cell_type": "code",
   "execution_count": null,
   "metadata": {},
   "outputs": [],
   "source": [
    "print(f'Hello {var1} from {var2}'.format(var1='world', var2='itversity'))"
   ]
  },
  {
   "cell_type": "markdown",
   "metadata": {},
   "source": [
    "## Conditionals\n",
    "Let us go through conditionals in Python. We typically use “if else” for conditionals. Let us perform a few tasks to understand how conditionals are developed.\n",
    "\n",
    "* Create a variable i with 5. Write a conditional to print whether i  is even or odd.\n"
   ]
  },
  {
   "cell_type": "code",
   "execution_count": null,
   "metadata": {},
   "outputs": [],
   "source": [
    "i = 5"
   ]
  },
  {
   "cell_type": "code",
   "execution_count": null,
   "metadata": {},
   "outputs": [],
   "source": [
    "# Regular if else\n",
    "if(i%2 == 0):\n",
    "  print(\"even\")\n",
    "else:\n",
    "  print(\"odd\")"
   ]
  },
  {
   "cell_type": "code",
   "execution_count": null,
   "metadata": {},
   "outputs": [],
   "source": [
    "# Ternary Operator (one liner)\n",
    "print(\"even\") if(i%2 == 0) else print(\"odd\")"
   ]
  },
  {
   "cell_type": "markdown",
   "metadata": {},
   "source": [
    "* Improvise it to check if i is 0 and print zero"
   ]
  },
  {
   "cell_type": "code",
   "execution_count": null,
   "metadata": {},
   "outputs": [],
   "source": [
    "if(i==0):\n",
    "  print(\"zero\")\n",
    "elif(i%2 == 0):\n",
    "  print(\"even\")\n",
    "else:\n",
    "  print(\"odd\")"
   ]
  },
  {
   "cell_type": "markdown",
   "metadata": {},
   "source": [
    "## All about for Loops\n",
    "\n",
    "Let us perform a few tasks to understand loops.\n",
    "* Go through range between 2 integers (5 and 10) and print them. We can use range function to get range between two integers."
   ]
  },
  {
   "cell_type": "code",
   "execution_count": null,
   "metadata": {},
   "outputs": [],
   "source": [
    "for i in range(5, 11): print(i)"
   ]
  },
  {
   "cell_type": "markdown",
   "metadata": {},
   "source": [
    "* Create a list of 7 elements and print alternate numbers starting from 1.\n",
    "`[1, 6, 8, 3, 7, 2, 9]`\n",
    "* In this example we are using list. It will be covered extensively at a later point in time. `list` is one of the core Python Data Structures."
   ]
  },
  {
   "cell_type": "code",
   "execution_count": null,
   "metadata": {},
   "outputs": [],
   "source": [
    "l = [1, 6, 8, 3, 7, 2, 9]\n",
    "\n",
    "cnt = 0\n",
    "for i in l:\n",
    "    if cnt % 2 == 0: # checking if cnt is even or not\n",
    "        print(i)\n",
    "    cnt += 1 # incrementing cnt by 1"
   ]
  },
  {
   "cell_type": "markdown",
   "metadata": {},
   "source": [
    "* Go through range between 2 integers (5 and 15) and print even numbers.\n",
    "Iterate through a list of months and print them."
   ]
  },
  {
   "cell_type": "code",
   "execution_count": null,
   "metadata": {},
   "outputs": [],
   "source": [
    "for i in range(5, 16): \n",
    "    if i % 2 == 0:\n",
    "        print(i)"
   ]
  },
  {
   "cell_type": "markdown",
   "metadata": {},
   "source": [
    "## Running OS Commands\n",
    "\n",
    "Let us understand how to run OS commands using Python.\n",
    "* Python provides a library called as `os` which can be used to run OS commands.\n",
    "* We can import and start using it.\n",
    "* There are bunch of commands to create directories, change ownership, change permission, run general system commands etc.\n",
    "* `os` library is extensively used to read environment variables at run time of the application. It is used to pass keys and credentials to work with databases, external applications etc.\n",
    "* Typically keys and credentials should not be part of the source code."
   ]
  },
  {
   "cell_type": "code",
   "execution_count": null,
   "metadata": {},
   "outputs": [],
   "source": [
    "import os"
   ]
  },
  {
   "cell_type": "markdown",
   "metadata": {},
   "source": [
    "* Get current working directory."
   ]
  },
  {
   "cell_type": "code",
   "execution_count": null,
   "metadata": {},
   "outputs": [],
   "source": [
    "os.getcwd()"
   ]
  },
  {
   "cell_type": "markdown",
   "metadata": {},
   "source": [
    "* Read environment variables"
   ]
  },
  {
   "cell_type": "code",
   "execution_count": null,
   "metadata": {},
   "outputs": [],
   "source": [
    "os.environ.get('PATH')"
   ]
  },
  {
   "cell_type": "markdown",
   "metadata": {},
   "source": [
    "## Exercises\n",
    "\n",
    "Please take care of following exercises.\n",
    "\n",
    "* Get sum of integers for a given range."
   ]
  },
  {
   "cell_type": "code",
   "execution_count": null,
   "metadata": {},
   "outputs": [],
   "source": [
    "lb = 5\n",
    "ub = 10\n",
    "\n",
    "total = 0\n",
    "for i in range(lb, ub+1):\n",
    "    total += i\n",
    "    \n",
    "print(i)"
   ]
  },
  {
   "cell_type": "code",
   "execution_count": null,
   "metadata": {},
   "outputs": [],
   "source": [
    "lb1 = lb - 1\n",
    "res1 = lb1 * (lb1 + 1) / 2\n",
    "print(int(res1))"
   ]
  },
  {
   "cell_type": "code",
   "execution_count": null,
   "metadata": {},
   "outputs": [],
   "source": [
    "res2 = ub * (ub + 1) / 2\n",
    "print(int(res2))"
   ]
  },
  {
   "cell_type": "code",
   "execution_count": null,
   "metadata": {},
   "outputs": [],
   "source": [
    "print(int(res2 - res1))"
   ]
  },
  {
   "cell_type": "code",
   "execution_count": null,
   "metadata": {},
   "outputs": [],
   "source": [
    "# o(n), o(1)"
   ]
  },
  {
   "cell_type": "markdown",
   "metadata": {},
   "source": [
    "* Get sum of squares of integers for a given range.\n",
    "* Get sum of even numbers for a given range\n",
    "* Create a collection using `[1, 6, 8, 3, 7, 2, 9]` and get sum of even numbers. Answer should be 16.\n",
    "* Using the same collection get sum of numbers divisible by 3. Answer should be 18."
   ]
  }
 ],
 "metadata": {
  "kernelspec": {
   "display_name": "Python 3",
   "language": "python",
   "name": "python3"
  },
  "language_info": {
   "codemirror_mode": {
    "name": "ipython",
    "version": 3
   },
   "file_extension": ".py",
   "mimetype": "text/x-python",
   "name": "python",
   "nbconvert_exporter": "python",
   "pygments_lexer": "ipython3",
   "version": "3.7.4"
  }
 },
 "nbformat": 4,
 "nbformat_minor": 4
}
