{
 "cells": [
  {
   "cell_type": "code",
   "execution_count": 1,
   "metadata": {},
   "outputs": [],
   "source": [
    "from  pyspark.sql  import SparkSession\n",
    "from pyspark import SQLContext,SparkContext\n",
    "from datetime import datetime\n",
    "import time\n",
    "import pyspark.sql.types as types\n",
    "import pyspark.sql.functions  as f\n",
    "from pyspark.sql.functions import current_date,datediff,to_date,months_between,length,year, month, dayofmonth"
   ]
  },
  {
   "cell_type": "code",
   "execution_count": 2,
   "metadata": {},
   "outputs": [],
   "source": [
    "spark = SparkSession.builder \\\n",
    "     .master('local[1]') \\\n",
    "     .appName(\"Pyspark emp dept tasks\") \\\n",
    "     .getOrCreate()"
   ]
  },
  {
   "cell_type": "code",
   "execution_count": 3,
   "metadata": {},
   "outputs": [],
   "source": [
    "sqlContext = SQLContext(spark)"
   ]
  },
  {
   "cell_type": "code",
   "execution_count": 4,
   "metadata": {},
   "outputs": [],
   "source": [
    "emp_schema = types.StructType([\n",
    "    types.StructField(\"empno\", types.StringType(), True),\n",
    "    types.StructField(\"ename\", types.StringType(), True),\n",
    "    types.StructField(\"job\", types.StringType(), True),\n",
    "    types.StructField(\"mgr\", types.StringType(), True),\n",
    "    types.StructField(\"hiredate\", types.StringType(), True),\n",
    "    types.StructField(\"sal\", types.StringType(), True),\n",
    "    types.StructField(\"comm\", types.StringType(), True),\n",
    "    types.StructField(\"deptno\", types.StringType(), True)])"
   ]
  },
  {
   "cell_type": "code",
   "execution_count": 5,
   "metadata": {},
   "outputs": [],
   "source": [
    "dept_schema =  types.StructType([\n",
    "    types.StructField(\"deptno\", types.StringType(), True),\n",
    "    types.StructField(\"dname\", types.StringType(), True),\n",
    "    types.StructField(\"loc\", types.StringType(), True)])"
   ]
  },
  {
   "cell_type": "code",
   "execution_count": 6,
   "metadata": {},
   "outputs": [
    {
     "name": "stdout",
     "output_type": "stream",
     "text": [
      "+-----+------+---------+----+----------+------+------+------+\n",
      "|empno| ename|      job| mgr|  hiredate|   sal|  comm|deptno|\n",
      "+-----+------+---------+----+----------+------+------+------+\n",
      "| 7369| SMITH|    CLERK|7902|1980-12-17| 800.0|  null|    20|\n",
      "| 7499| ALLEN| SALESMAN|7698|1981-02-20|1600.0| 300.0|    30|\n",
      "| 7521|  WARD| SALESMAN|7698|1981-02-22|1250.0| 500.0|    30|\n",
      "| 7566| JONES|  MANAGER|7839|1981-04-02|2975.0|  null|    20|\n",
      "| 7654|MARTIN| SALESMAN|7698|1981-09-28|1250.0|1400.0|    30|\n",
      "| 7698| BLAKE|  MANAGER|7839|1981-05-01|2850.0|  null|    30|\n",
      "| 7782| CLARK|  MANAGER|7839|1981-06-09|2450.0|  null|    10|\n",
      "| 7788| SCOTT|  ANALYST|7566|1982-12-09|3000.0|  null|    20|\n",
      "| 7839|  KING|PRESIDENT|null|1981-11-17|5000.0|  null|    10|\n",
      "| 7844|TURNER| SALESMAN|7698|1981-09-08|1500.0|   0.0|    30|\n",
      "| 7876| ADAMS|    CLERK|7788|1983-01-12|1100.0|  null|    20|\n",
      "| 7900| JAMES|    CLERK|7698|1981-12-03| 950.0|  null|    30|\n",
      "| 7902|  FORD|  ANALYST|7566|1981-12-03|3000.0|  null|    20|\n",
      "| 7934|MILLER|    CLERK|7782|1982-01-23|1300.0|  null|    10|\n",
      "+-----+------+---------+----+----------+------+------+------+\n",
      "\n"
     ]
    }
   ],
   "source": [
    "emp = sqlContext.read.csv('data/emp.csv',schema=emp_schema)\n",
    "emp[[emp.empno.cast('int'),\n",
    "     emp.ename,\n",
    "     emp.job,\n",
    "     emp.mgr.cast('int'),\n",
    "     emp.hiredate.cast('date'),\n",
    "    emp.sal.cast(\"double\"),\n",
    "    emp.comm.cast(\"double\"),\n",
    "    emp.deptno.cast('int')]].show()"
   ]
  },
  {
   "cell_type": "code",
   "execution_count": 7,
   "metadata": {},
   "outputs": [
    {
     "name": "stdout",
     "output_type": "stream",
     "text": [
      "+------+----------+--------+\n",
      "|deptno|     dname|     loc|\n",
      "+------+----------+--------+\n",
      "|    10|ACCOUNTING|NEW YORK|\n",
      "|    20|  RESEARCH|  DALLAS|\n",
      "|    30|     SALES| CHICAGO|\n",
      "|    40|OPERATIONS|  BOSTON|\n",
      "+------+----------+--------+\n",
      "\n"
     ]
    }
   ],
   "source": [
    "dept = sqlContext.read.csv('data/dept.csv',schema=dept_schema)\n",
    "dept[[dept.deptno.cast('int'),dept.dname,dept.loc]].show()"
   ]
  },
  {
   "cell_type": "code",
   "execution_count": 8,
   "metadata": {},
   "outputs": [
    {
     "name": "stdout",
     "output_type": "stream",
     "text": [
      "+------+-----+------+---------+----+----------+-------+-------+----------+--------+\n",
      "|deptno|empno| ename|      job| mgr|  hiredate|    sal|   comm|     dname|     loc|\n",
      "+------+-----+------+---------+----+----------+-------+-------+----------+--------+\n",
      "|    20| 7369| SMITH|    CLERK|7902|1980-12-17| 800.00|   null|  RESEARCH|  DALLAS|\n",
      "|    30| 7499| ALLEN| SALESMAN|7698|1981-02-20|1600.00| 300.00|     SALES| CHICAGO|\n",
      "|    30| 7521|  WARD| SALESMAN|7698|1981-02-22|1250.00| 500.00|     SALES| CHICAGO|\n",
      "|    20| 7566| JONES|  MANAGER|7839|1981-04-02|2975.00|   null|  RESEARCH|  DALLAS|\n",
      "|    30| 7654|MARTIN| SALESMAN|7698|1981-09-28|1250.00|1400.00|     SALES| CHICAGO|\n",
      "|    30| 7698| BLAKE|  MANAGER|7839|1981-05-01|2850.00|   null|     SALES| CHICAGO|\n",
      "|    10| 7782| CLARK|  MANAGER|7839|1981-06-09|2450.00|   null|ACCOUNTING|NEW YORK|\n",
      "|    20| 7788| SCOTT|  ANALYST|7566|1982-12-09|3000.00|   null|  RESEARCH|  DALLAS|\n",
      "|    10| 7839|  KING|PRESIDENT|null|1981-11-17|5000.00|   null|ACCOUNTING|NEW YORK|\n",
      "|    30| 7844|TURNER| SALESMAN|7698|1981-09-08|1500.00|   0.00|     SALES| CHICAGO|\n",
      "|    20| 7876| ADAMS|    CLERK|7788|1983-01-12|1100.00|   null|  RESEARCH|  DALLAS|\n",
      "|    30| 7900| JAMES|    CLERK|7698|1981-12-03| 950.00|   null|     SALES| CHICAGO|\n",
      "|    20| 7902|  FORD|  ANALYST|7566|1981-12-03|3000.00|   null|  RESEARCH|  DALLAS|\n",
      "|    10| 7934|MILLER|    CLERK|7782|1982-01-23|1300.00|   null|ACCOUNTING|NEW YORK|\n",
      "+------+-----+------+---------+----+----------+-------+-------+----------+--------+\n",
      "\n"
     ]
    }
   ],
   "source": [
    "emp_dept = emp.join(dept,on='deptno',how='inner').show()"
   ]
  },
  {
   "cell_type": "code",
   "execution_count": 9,
   "metadata": {},
   "outputs": [
    {
     "name": "stdout",
     "output_type": "stream",
     "text": [
      "+---------+\n",
      "|      job|\n",
      "+---------+\n",
      "|  ANALYST|\n",
      "| SALESMAN|\n",
      "|    CLERK|\n",
      "|  MANAGER|\n",
      "|PRESIDENT|\n",
      "+---------+\n",
      "\n"
     ]
    }
   ],
   "source": [
    "#Display unique Jobs from EMP table? \n",
    "emp[[\"job\"]].distinct().show()"
   ]
  },
  {
   "cell_type": "code",
   "execution_count": 10,
   "metadata": {},
   "outputs": [
    {
     "name": "stdout",
     "output_type": "stream",
     "text": [
      "+-----+------+---------+----+----------+-------+-------+------+\n",
      "|empno| ename|      job| mgr|  hiredate|    sal|   comm|deptno|\n",
      "+-----+------+---------+----+----------+-------+-------+------+\n",
      "| 7369| SMITH|    CLERK|7902|1980-12-17| 800.00|   null|    20|\n",
      "| 7900| JAMES|    CLERK|7698|1981-12-03| 950.00|   null|    30|\n",
      "| 7876| ADAMS|    CLERK|7788|1983-01-12|1100.00|   null|    20|\n",
      "| 7654|MARTIN| SALESMAN|7698|1981-09-28|1250.00|1400.00|    30|\n",
      "| 7521|  WARD| SALESMAN|7698|1981-02-22|1250.00| 500.00|    30|\n",
      "| 7934|MILLER|    CLERK|7782|1982-01-23|1300.00|   null|    10|\n",
      "| 7844|TURNER| SALESMAN|7698|1981-09-08|1500.00|   0.00|    30|\n",
      "| 7499| ALLEN| SALESMAN|7698|1981-02-20|1600.00| 300.00|    30|\n",
      "| 7782| CLARK|  MANAGER|7839|1981-06-09|2450.00|   null|    10|\n",
      "| 7698| BLAKE|  MANAGER|7839|1981-05-01|2850.00|   null|    30|\n",
      "| 7566| JONES|  MANAGER|7839|1981-04-02|2975.00|   null|    20|\n",
      "| 7788| SCOTT|  ANALYST|7566|1982-12-09|3000.00|   null|    20|\n",
      "| 7902|  FORD|  ANALYST|7566|1981-12-03|3000.00|   null|    20|\n",
      "| 7839|  KING|PRESIDENT|null|1981-11-17|5000.00|   null|    10|\n",
      "+-----+------+---------+----+----------+-------+-------+------+\n",
      "\n"
     ]
    }
   ],
   "source": [
    "#List the emps in the asc order of their Salaries? \n",
    "emp.sort(emp.sal.cast('double'),ascending=True).show()"
   ]
  },
  {
   "cell_type": "code",
   "execution_count": 11,
   "metadata": {},
   "outputs": [
    {
     "name": "stdout",
     "output_type": "stream",
     "text": [
      "+-----+------+---------+----+----------+-------+-------+------+\n",
      "|empno| ename|      job| mgr|  hiredate|    sal|   comm|deptno|\n",
      "+-----+------+---------+----+----------+-------+-------+------+\n",
      "| 7839|  KING|PRESIDENT|null|1981-11-17|5000.00|   null|    10|\n",
      "| 7782| CLARK|  MANAGER|7839|1981-06-09|2450.00|   null|    10|\n",
      "| 7934|MILLER|    CLERK|7782|1982-01-23|1300.00|   null|    10|\n",
      "| 7566| JONES|  MANAGER|7839|1981-04-02|2975.00|   null|    20|\n",
      "| 7369| SMITH|    CLERK|7902|1980-12-17| 800.00|   null|    20|\n",
      "| 7876| ADAMS|    CLERK|7788|1983-01-12|1100.00|   null|    20|\n",
      "| 7902|  FORD|  ANALYST|7566|1981-12-03|3000.00|   null|    20|\n",
      "| 7788| SCOTT|  ANALYST|7566|1982-12-09|3000.00|   null|    20|\n",
      "| 7521|  WARD| SALESMAN|7698|1981-02-22|1250.00| 500.00|    30|\n",
      "| 7654|MARTIN| SALESMAN|7698|1981-09-28|1250.00|1400.00|    30|\n",
      "| 7844|TURNER| SALESMAN|7698|1981-09-08|1500.00|   0.00|    30|\n",
      "| 7499| ALLEN| SALESMAN|7698|1981-02-20|1600.00| 300.00|    30|\n",
      "| 7698| BLAKE|  MANAGER|7839|1981-05-01|2850.00|   null|    30|\n",
      "| 7900| JAMES|    CLERK|7698|1981-12-03| 950.00|   null|    30|\n",
      "+-----+------+---------+----+----------+-------+-------+------+\n",
      "\n"
     ]
    }
   ],
   "source": [
    "#List the details of the emps in asc order of the Dptnos and desc of Jobs?\n",
    "emp.sort(emp.deptno.cast('int'),emp.job,ascending=[True,False]).show()"
   ]
  },
  {
   "cell_type": "code",
   "execution_count": 12,
   "metadata": {},
   "outputs": [
    {
     "name": "stdout",
     "output_type": "stream",
     "text": [
      "+---------+\n",
      "|      job|\n",
      "+---------+\n",
      "| SALESMAN|\n",
      "|PRESIDENT|\n",
      "|  MANAGER|\n",
      "|    CLERK|\n",
      "|  ANALYST|\n",
      "+---------+\n",
      "\n"
     ]
    }
   ],
   "source": [
    "#Display all the unique job groups in the descending order? \n",
    "emp.select(\"job\").distinct().sort('job',ascending=False).show()"
   ]
  },
  {
   "cell_type": "code",
   "execution_count": 13,
   "metadata": {},
   "outputs": [
    {
     "name": "stdout",
     "output_type": "stream",
     "text": [
      "+-----+-----+---------+----+----------+-------+----+------+----+\n",
      "|empno|ename|      job| mgr|  hiredate|    sal|comm|deptno| mgr|\n",
      "+-----+-----+---------+----+----------+-------+----+------+----+\n",
      "| 7566|JONES|  MANAGER|7839|1981-04-02|2975.00|null|    20|7566|\n",
      "| 7698|BLAKE|  MANAGER|7839|1981-05-01|2850.00|null|    30|7698|\n",
      "| 7782|CLARK|  MANAGER|7839|1981-06-09|2450.00|null|    10|7782|\n",
      "| 7788|SCOTT|  ANALYST|7566|1982-12-09|3000.00|null|    20|7788|\n",
      "| 7839| KING|PRESIDENT|null|1981-11-17|5000.00|null|    10|7839|\n",
      "| 7902| FORD|  ANALYST|7566|1981-12-03|3000.00|null|    20|7902|\n",
      "+-----+-----+---------+----+----------+-------+----+------+----+\n",
      "\n"
     ]
    }
   ],
   "source": [
    "#Display all the details of all ‘Mgrs’ \n",
    "mgr_df  = emp.filter(emp.mgr.cast('int') != 0)[[emp.mgr.cast('int')]].distinct()\n",
    "emp.join(mgr_df,emp.empno.cast('int') == mgr_df.mgr,how='inner').show()"
   ]
  },
  {
   "cell_type": "code",
   "execution_count": 14,
   "metadata": {},
   "outputs": [
    {
     "name": "stdout",
     "output_type": "stream",
     "text": [
      "+-----+-----+-----+----+----------+------+----+------+\n",
      "|empno|ename|  job| mgr|  hiredate|   sal|comm|deptno|\n",
      "+-----+-----+-----+----+----------+------+----+------+\n",
      "| 7369|SMITH|CLERK|7902|1980-12-17|800.00|null|    20|\n",
      "+-----+-----+-----+----+----------+------+----+------+\n",
      "\n"
     ]
    }
   ],
   "source": [
    "#List the emps who joined before 1981. \n",
    "emp.filter(emp.hiredate[0:4].cast('int')<1981).show()"
   ]
  },
  {
   "cell_type": "code",
   "execution_count": 15,
   "metadata": {},
   "outputs": [],
   "source": [
    "#Display the Empno, Ename, job, Hiredate, Exp of all Mgrs \n",
    "mgr_df  = emp.filter(emp.mgr.cast('int') != 0)[[emp.mgr.cast('int')]].distinct()\n",
    "mgr_filter = emp.join(mgr_df,emp.empno.cast('int') == mgr_df.mgr,how='inner')[['empno','ename','job','hiredate']]"
   ]
  },
  {
   "cell_type": "code",
   "execution_count": 16,
   "metadata": {},
   "outputs": [
    {
     "name": "stdout",
     "output_type": "stream",
     "text": [
      "+-----+-----+---------+----------+------------------+\n",
      "|empno|ename|      job|  hiredate|      years of exp|\n",
      "+-----+-----+---------+----------+------------------+\n",
      "| 7566|JONES|  MANAGER|1981-04-02| 39.12903225833333|\n",
      "| 7698|BLAKE|  MANAGER|1981-05-01|39.048387096666666|\n",
      "| 7782|CLARK|  MANAGER|1981-06-09|     38.9435483875|\n",
      "| 7788|SCOTT|  ANALYST|1982-12-09|     37.4435483875|\n",
      "| 7839| KING|PRESIDENT|1981-11-17| 38.50537634416667|\n",
      "| 7902| FORD|  ANALYST|1981-12-03| 38.45967741916667|\n",
      "+-----+-----+---------+----------+------------------+\n",
      "\n"
     ]
    }
   ],
   "source": [
    "mgr_filter[['empno','ename','job','hiredate',(months_between(current_date(),\n",
    "                           mgr_filter.hiredate)/12).alias(\"years of exp\")]].show()"
   ]
  },
  {
   "cell_type": "code",
   "execution_count": 17,
   "metadata": {},
   "outputs": [
    {
     "name": "stdout",
     "output_type": "stream",
     "text": [
      "+-----+------+---------+----+----------+-------+-------+------+\n",
      "|empno| ename|      job| mgr|  hiredate|    sal|   comm|deptno|\n",
      "+-----+------+---------+----+----------+-------+-------+------+\n",
      "| 7902|  FORD|  ANALYST|7566|1981-12-03|3000.00|   null|    20|\n",
      "| 7900| JAMES|    CLERK|7698|1981-12-03| 950.00|   null|    30|\n",
      "| 7839|  KING|PRESIDENT|null|1981-11-17|5000.00|   null|    10|\n",
      "| 7654|MARTIN| SALESMAN|7698|1981-09-28|1250.00|1400.00|    30|\n",
      "| 7844|TURNER| SALESMAN|7698|1981-09-08|1500.00|   0.00|    30|\n",
      "+-----+------+---------+----+----------+-------+-------+------+\n",
      "\n"
     ]
    }
   ],
   "source": [
    "#List the emps in the asc order of Designations of those joined after the second halfof 1981. \n",
    "emp.where((emp.hiredate[6:2].cast('int') > 6) & \n",
    "          (emp.hiredate[0:4].cast('int') == 1981)).sort('job',ascending=True).show()"
   ]
  },
  {
   "cell_type": "code",
   "execution_count": 18,
   "metadata": {},
   "outputs": [
    {
     "name": "stdout",
     "output_type": "stream",
     "text": [
      "+-----+------+-------+----+----------+-------+----+------+\n",
      "|empno| ename|    job| mgr|  hiredate|    sal|comm|deptno|\n",
      "+-----+------+-------+----+----------+-------+----+------+\n",
      "| 7902|  FORD|ANALYST|7566|1981-12-03|3000.00|null|    20|\n",
      "| 7788| SCOTT|ANALYST|7566|1982-12-09|3000.00|null|    20|\n",
      "| 7369| SMITH|  CLERK|7902|1980-12-17| 800.00|null|    20|\n",
      "| 7876| ADAMS|  CLERK|7788|1983-01-12|1100.00|null|    20|\n",
      "| 7934|MILLER|  CLERK|7782|1982-01-23|1300.00|null|    10|\n",
      "| 7900| JAMES|  CLERK|7698|1981-12-03| 950.00|null|    30|\n",
      "+-----+------+-------+----+----------+-------+----+------+\n",
      "\n",
      "+-----+------+-------+----+----------+-------+----+------+\n",
      "|empno| ename|    job| mgr|  hiredate|    sal|comm|deptno|\n",
      "+-----+------+-------+----+----------+-------+----+------+\n",
      "| 7902|  FORD|ANALYST|7566|1981-12-03|3000.00|null|    20|\n",
      "| 7788| SCOTT|ANALYST|7566|1982-12-09|3000.00|null|    20|\n",
      "| 7369| SMITH|  CLERK|7902|1980-12-17| 800.00|null|    20|\n",
      "| 7876| ADAMS|  CLERK|7788|1983-01-12|1100.00|null|    20|\n",
      "| 7934|MILLER|  CLERK|7782|1982-01-23|1300.00|null|    10|\n",
      "| 7900| JAMES|  CLERK|7698|1981-12-03| 950.00|null|    30|\n",
      "+-----+------+-------+----+----------+-------+----+------+\n",
      "\n"
     ]
    }
   ],
   "source": [
    "#. List the emps who are either ‘CLERK’ or ‘ANALYST’ in the Desc order. \n",
    "emp.filter(emp.job.isin('CLERK' ,'ANALYST')).sort('job').show()\n",
    "emp.filter((emp.job=='CLERK') | (emp.job=='ANALYST')).sort(emp.job).show()"
   ]
  },
  {
   "cell_type": "code",
   "execution_count": 19,
   "metadata": {},
   "outputs": [
    {
     "name": "stdout",
     "output_type": "stream",
     "text": [
      "+-----+-----+--------+----+----------+-------+------+------+\n",
      "|empno|ename|     job| mgr|  hiredate|    sal|  comm|deptno|\n",
      "+-----+-----+--------+----+----------+-------+------+------+\n",
      "| 7369|SMITH|   CLERK|7902|1980-12-17| 800.00|  null|    20|\n",
      "| 7499|ALLEN|SALESMAN|7698|1981-02-20|1600.00|300.00|    30|\n",
      "| 7566|JONES| MANAGER|7839|1981-04-02|2975.00|  null|    20|\n",
      "| 7698|BLAKE| MANAGER|7839|1981-05-01|2850.00|  null|    30|\n",
      "| 7782|CLARK| MANAGER|7839|1981-06-09|2450.00|  null|    10|\n",
      "| 7788|SCOTT| ANALYST|7566|1982-12-09|3000.00|  null|    20|\n",
      "| 7876|ADAMS|   CLERK|7788|1983-01-12|1100.00|  null|    20|\n",
      "| 7900|JAMES|   CLERK|7698|1981-12-03| 950.00|  null|    30|\n",
      "+-----+-----+--------+----+----------+-------+------+------+\n",
      "\n"
     ]
    }
   ],
   "source": [
    "#List the Enames those are having five characters in their Names. \n",
    "emp.filter(length(emp.ename)==5).show()"
   ]
  },
  {
   "cell_type": "code",
   "execution_count": 20,
   "metadata": {},
   "outputs": [
    {
     "name": "stdout",
     "output_type": "stream",
     "text": [
      "+-----+-----+-------+----+----------+-------+----+------+\n",
      "|empno|ename|    job| mgr|  hiredate|    sal|comm|deptno|\n",
      "+-----+-----+-------+----+----------+-------+----+------+\n",
      "| 7369|SMITH|  CLERK|7902|1980-12-17| 800.00|null|    20|\n",
      "| 7788|SCOTT|ANALYST|7566|1982-12-09|3000.00|null|    20|\n",
      "+-----+-----+-------+----+----------+-------+----+------+\n",
      "\n"
     ]
    }
   ],
   "source": [
    "#List the Enames those are starting with ‘S’ and with five characters\n",
    "emp.filter((emp.ename.startswith('S')) & (length(emp.ename)==5)).show()"
   ]
  },
  {
   "cell_type": "code",
   "execution_count": 21,
   "metadata": {},
   "outputs": [
    {
     "name": "stdout",
     "output_type": "stream",
     "text": [
      "+-----+-----+--------+----+----------+-------+------+------+\n",
      "|empno|ename|     job| mgr|  hiredate|    sal|  comm|deptno|\n",
      "+-----+-----+--------+----+----------+-------+------+------+\n",
      "| 7521| WARD|SALESMAN|7698|1981-02-22|1250.00|500.00|    30|\n",
      "| 7902| FORD| ANALYST|7566|1981-12-03|3000.00|  null|    20|\n",
      "+-----+-----+--------+----+----------+-------+------+------+\n",
      "\n"
     ]
    }
   ],
   "source": [
    "#List the emps those are having four chars and third character must be ‘r’. \n",
    "emp.filter((emp.ename[3:1].startswith('R')) & (length(emp.ename)==4)).show()"
   ]
  },
  {
   "cell_type": "code",
   "execution_count": 22,
   "metadata": {},
   "outputs": [
    {
     "name": "stdout",
     "output_type": "stream",
     "text": [
      "+-----+-----+-----+----+----------+------+----+------+\n",
      "|empno|ename|  job| mgr|  hiredate|   sal|comm|deptno|\n",
      "+-----+-----+-----+----+----------+------+----+------+\n",
      "| 7369|SMITH|CLERK|7902|1980-12-17|800.00|null|    20|\n",
      "+-----+-----+-----+----+----------+------+----+------+\n",
      "\n"
     ]
    }
   ],
   "source": [
    "#List the Five character names starting with ‘S’ and ending with ‘H’\n",
    "emp.filter((emp.ename.startswith('S')) & (emp.ename.endswith('H'))).show()"
   ]
  },
  {
   "cell_type": "code",
   "execution_count": 25,
   "metadata": {},
   "outputs": [
    {
     "name": "stdout",
     "output_type": "stream",
     "text": [
      "+-----+------+-----+----+----------+-------+----+------+\n",
      "|empno| ename|  job| mgr|  hiredate|    sal|comm|deptno|\n",
      "+-----+------+-----+----+----------+-------+----+------+\n",
      "| 7876| ADAMS|CLERK|7788|1983-01-12|1100.00|null|    20|\n",
      "| 7934|MILLER|CLERK|7782|1982-01-23|1300.00|null|    10|\n",
      "+-----+------+-----+----+----------+-------+----+------+\n",
      "\n"
     ]
    }
   ],
   "source": [
    "# List the emps who joined in January. \n",
    "#emp.select(date_format(emp.hiredate.cast('date'),'MMMMM')).show()\n",
    "emp.filter(f.date_format(to_date(emp.hiredate,'yyyy-MM-dd'),'MMMMM')=='January').show()"
   ]
  },
  {
   "cell_type": "code",
   "execution_count": 27,
   "metadata": {},
   "outputs": [
    {
     "name": "stdout",
     "output_type": "stream",
     "text": [
      "+-----+------+-------+----+----------+-------+----+------+\n",
      "|empno| ename|    job| mgr|  hiredate|    sal|comm|deptno|\n",
      "+-----+------+-------+----+----------+-------+----+------+\n",
      "| 7369| SMITH|  CLERK|7902|1980-12-17| 800.00|null|    20|\n",
      "| 7788| SCOTT|ANALYST|7566|1982-12-09|3000.00|null|    20|\n",
      "| 7876| ADAMS|  CLERK|7788|1983-01-12|1100.00|null|    20|\n",
      "| 7934|MILLER|  CLERK|7782|1982-01-23|1300.00|null|    10|\n",
      "+-----+------+-------+----+----------+-------+----+------+\n",
      "\n"
     ]
    }
   ],
   "source": [
    "#List all the emps who joined before or after 1981. \n",
    "emp.filter(emp.hiredate[0:4].cast('int') != 1981).show()"
   ]
  },
  {
   "cell_type": "code",
   "execution_count": 28,
   "metadata": {},
   "outputs": [
    {
     "name": "stdout",
     "output_type": "stream",
     "text": [
      "+---------+--------+\n",
      "|sum(comm)|sum(sal)|\n",
      "+---------+--------+\n",
      "|     null| 19275.0|\n",
      "+---------+--------+\n",
      "\n"
     ]
    }
   ],
   "source": [
    "#All mgr's total salary\n",
    "emp.join(mgr_df,emp.empno == mgr_df.mgr).agg({\"sal\":\"sum\",\"comm\":\"sum\"}).show()"
   ]
  },
  {
   "cell_type": "code",
   "execution_count": 29,
   "metadata": {},
   "outputs": [
    {
     "name": "stdout",
     "output_type": "stream",
     "text": [
      "+-----+------+--------+----+----------+-------+-------+------+------+\n",
      "|empno| ename|     job| mgr|  hiredate|    sal|   comm|deptno|deptno|\n",
      "+-----+------+--------+----+----------+-------+-------+------+------+\n",
      "| 7369| SMITH|   CLERK|7902|1980-12-17| 800.00|   null|    20|    20|\n",
      "| 7499| ALLEN|SALESMAN|7698|1981-02-20|1600.00| 300.00|    30|    30|\n",
      "| 7521|  WARD|SALESMAN|7698|1981-02-22|1250.00| 500.00|    30|    30|\n",
      "| 7566| JONES| MANAGER|7839|1981-04-02|2975.00|   null|    20|    20|\n",
      "| 7654|MARTIN|SALESMAN|7698|1981-09-28|1250.00|1400.00|    30|    30|\n",
      "| 7698| BLAKE| MANAGER|7839|1981-05-01|2850.00|   null|    30|    30|\n",
      "| 7788| SCOTT| ANALYST|7566|1982-12-09|3000.00|   null|    20|    20|\n",
      "| 7844|TURNER|SALESMAN|7698|1981-09-08|1500.00|   0.00|    30|    30|\n",
      "| 7876| ADAMS|   CLERK|7788|1983-01-12|1100.00|   null|    20|    20|\n",
      "| 7900| JAMES|   CLERK|7698|1981-12-03| 950.00|   null|    30|    30|\n",
      "| 7902|  FORD| ANALYST|7566|1981-12-03|3000.00|   null|    20|    20|\n",
      "+-----+------+--------+----+----------+-------+-------+------+------+\n",
      "\n"
     ]
    }
   ],
   "source": [
    "#List the department,details where at least three emps are working \n",
    "dept_empl_cnt = emp.groupby(\"deptno\").agg({\"empno\":\"count\"}).filter(\"count(empno)>3\")[[emp.deptno.cast('int')]]\n",
    "emp.join(dept_empl_cnt,emp.deptno == dept_empl_cnt.deptno).show()\n"
   ]
  },
  {
   "cell_type": "code",
   "execution_count": 40,
   "metadata": {},
   "outputs": [],
   "source": [
    "# List the details of the department where maximum number of emps are working. \n",
    "max_tot_emp = emp.groupby(\"deptno\"). \\\n",
    "    agg(f.count(emp.empno). \\\n",
    "    alias(\"tot_employees\")). \\\n",
    "    agg(f.max('tot_employees'). \\\n",
    "    alias('max_tot_emp'))"
   ]
  },
  {
   "cell_type": "code",
   "execution_count": 49,
   "metadata": {},
   "outputs": [
    {
     "name": "stdout",
     "output_type": "stream",
     "text": [
      "+------+\n",
      "|deptno|\n",
      "+------+\n",
      "|    30|\n",
      "+------+\n",
      "\n"
     ]
    }
   ],
   "source": [
    "dept_agg = emp.groupby(\"deptno\").agg(f.count(emp.empno).alias(\"tot_emp\"))\n",
    "dept_agg.join(max_tot_emp,dept_agg.tot_emp==max_tot_emp.max_tot_emp)[[dept_agg.deptno]].show()"
   ]
  }
 ],
 "metadata": {
  "kernelspec": {
   "display_name": "Pyspark 2",
   "language": "python",
   "name": "pyspark2"
  },
  "language_info": {
   "codemirror_mode": {
    "name": "ipython",
    "version": 3
   },
   "file_extension": ".py",
   "mimetype": "text/x-python",
   "name": "python",
   "nbconvert_exporter": "python",
   "pygments_lexer": "ipython3",
   "version": "3.6.8"
  }
 },
 "nbformat": 4,
 "nbformat_minor": 4
}
