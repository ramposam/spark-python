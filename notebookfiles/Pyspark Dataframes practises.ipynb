{
 "cells": [
  {
   "cell_type": "code",
   "execution_count": 2,
   "metadata": {},
   "outputs": [],
   "source": [
    "from  pyspark.sql  import SparkSession\n",
    "from pyspark import SQLContext,SparkContext\n",
    "from datetime import datetime\n",
    "import time\n",
    "import pyspark.sql.types as types\n",
    "import pyspark.sql.functions as f\n",
    "from pyspark.sql.window import Window as window\n",
    "from pyspark.sql.functions import current_date,datediff,to_date,months_between,length,year, month, dayofmonth"
   ]
  },
  {
   "cell_type": "code",
   "execution_count": 3,
   "metadata": {},
   "outputs": [],
   "source": [
    "spark = SparkSession.builder \\\n",
    "     .master('local[1]') \\\n",
    "     .appName(\"Pyspark emp dept tasks\") \\\n",
    "     .getOrCreate()"
   ]
  },
  {
   "cell_type": "code",
   "execution_count": 4,
   "metadata": {},
   "outputs": [],
   "source": [
    "sqlContext = SQLContext(spark)"
   ]
  },
  {
   "cell_type": "code",
   "execution_count": 5,
   "metadata": {},
   "outputs": [],
   "source": [
    "emp_schema = types.StructType([\n",
    "    types.StructField(\"empno\", types.StringType(), True),\n",
    "    types.StructField(\"ename\", types.StringType(), True),\n",
    "    types.StructField(\"job\", types.StringType(), True),\n",
    "    types.StructField(\"mgr\", types.StringType(), True),\n",
    "    types.StructField(\"hiredate\", types.StringType(), True),\n",
    "    types.StructField(\"sal\", types.StringType(), True),\n",
    "    types.StructField(\"comm\", types.StringType(), True),\n",
    "    types.StructField(\"deptno\", types.StringType(), True)])"
   ]
  },
  {
   "cell_type": "code",
   "execution_count": 6,
   "metadata": {},
   "outputs": [],
   "source": [
    "dept_schema =  types.StructType([\n",
    "    types.StructField(\"deptno\", types.StringType(), True),\n",
    "    types.StructField(\"dname\", types.StringType(), True),\n",
    "    types.StructField(\"loc\", types.StringType(), True)])"
   ]
  },
  {
   "cell_type": "code",
   "execution_count": 7,
   "metadata": {},
   "outputs": [
    {
     "name": "stdout",
     "output_type": "stream",
     "text": [
      "+-----+------+---------+----+----------+------+------+------+\n",
      "|empno| ename|      job| mgr|  hiredate|   sal|  comm|deptno|\n",
      "+-----+------+---------+----+----------+------+------+------+\n",
      "| 7369| SMITH|    CLERK|7902|1980-12-17| 800.0|  null|    20|\n",
      "| 7499| ALLEN| SALESMAN|7698|1981-02-20|1600.0| 300.0|    30|\n",
      "| 7521|  WARD| SALESMAN|7698|1981-02-22|1250.0| 500.0|    30|\n",
      "| 7566| JONES|  MANAGER|7839|1981-04-02|2975.0|  null|    20|\n",
      "| 7654|MARTIN| SALESMAN|7698|1981-09-28|1250.0|1400.0|    30|\n",
      "| 7698| BLAKE|  MANAGER|7839|1981-05-01|2850.0|  null|    30|\n",
      "| 7782| CLARK|  MANAGER|7839|1981-06-09|2450.0|  null|    10|\n",
      "| 7788| SCOTT|  ANALYST|7566|1982-12-09|3000.0|  null|    20|\n",
      "| 7839|  KING|PRESIDENT|null|1981-11-17|5000.0|  null|    10|\n",
      "| 7844|TURNER| SALESMAN|7698|1981-09-08|1500.0|   0.0|    30|\n",
      "| 7876| ADAMS|    CLERK|7788|1983-01-12|1100.0|  null|    20|\n",
      "| 7900| JAMES|    CLERK|7698|1981-12-03| 950.0|  null|    30|\n",
      "| 7902|  FORD|  ANALYST|7566|1981-12-03|3000.0|  null|    20|\n",
      "| 7934|MILLER|    CLERK|7782|1982-01-23|1300.0|  null|    10|\n",
      "+-----+------+---------+----+----------+------+------+------+\n",
      "\n"
     ]
    }
   ],
   "source": [
    "emp = sqlContext.read.csv('data/emp.csv',schema=emp_schema)\n",
    "emp[[emp.empno.cast('int'),\n",
    "     emp.ename,\n",
    "     emp.job,\n",
    "     emp.mgr.cast('int'),\n",
    "     emp.hiredate.cast('date'),\n",
    "    emp.sal.cast(\"double\"),\n",
    "    emp.comm.cast(\"double\"),\n",
    "    emp.deptno.cast('int')]].show()"
   ]
  },
  {
   "cell_type": "code",
   "execution_count": 8,
   "metadata": {},
   "outputs": [
    {
     "name": "stdout",
     "output_type": "stream",
     "text": [
      "+------+----------+--------+\n",
      "|deptno|     dname|     loc|\n",
      "+------+----------+--------+\n",
      "|    10|ACCOUNTING|NEW YORK|\n",
      "|    20|  RESEARCH|  DALLAS|\n",
      "|    30|     SALES| CHICAGO|\n",
      "|    40|OPERATIONS|  BOSTON|\n",
      "+------+----------+--------+\n",
      "\n"
     ]
    }
   ],
   "source": [
    "dept = sqlContext.read.csv('data/dept.csv',schema=dept_schema)\n",
    "dept[[dept.deptno.cast('int'),dept.dname,dept.loc]].show()"
   ]
  },
  {
   "cell_type": "code",
   "execution_count": 8,
   "metadata": {},
   "outputs": [
    {
     "name": "stdout",
     "output_type": "stream",
     "text": [
      "+------+-----+------+---------+----+----------+-------+-------+----------+--------+\n",
      "|deptno|empno| ename|      job| mgr|  hiredate|    sal|   comm|     dname|     loc|\n",
      "+------+-----+------+---------+----+----------+-------+-------+----------+--------+\n",
      "|    20| 7369| SMITH|    CLERK|7902|1980-12-17| 800.00|   null|  RESEARCH|  DALLAS|\n",
      "|    30| 7499| ALLEN| SALESMAN|7698|1981-02-20|1600.00| 300.00|     SALES| CHICAGO|\n",
      "|    30| 7521|  WARD| SALESMAN|7698|1981-02-22|1250.00| 500.00|     SALES| CHICAGO|\n",
      "|    20| 7566| JONES|  MANAGER|7839|1981-04-02|2975.00|   null|  RESEARCH|  DALLAS|\n",
      "|    30| 7654|MARTIN| SALESMAN|7698|1981-09-28|1250.00|1400.00|     SALES| CHICAGO|\n",
      "|    30| 7698| BLAKE|  MANAGER|7839|1981-05-01|2850.00|   null|     SALES| CHICAGO|\n",
      "|    10| 7782| CLARK|  MANAGER|7839|1981-06-09|2450.00|   null|ACCOUNTING|NEW YORK|\n",
      "|    20| 7788| SCOTT|  ANALYST|7566|1982-12-09|3000.00|   null|  RESEARCH|  DALLAS|\n",
      "|    10| 7839|  KING|PRESIDENT|null|1981-11-17|5000.00|   null|ACCOUNTING|NEW YORK|\n",
      "|    30| 7844|TURNER| SALESMAN|7698|1981-09-08|1500.00|   0.00|     SALES| CHICAGO|\n",
      "|    20| 7876| ADAMS|    CLERK|7788|1983-01-12|1100.00|   null|  RESEARCH|  DALLAS|\n",
      "|    30| 7900| JAMES|    CLERK|7698|1981-12-03| 950.00|   null|     SALES| CHICAGO|\n",
      "|    20| 7902|  FORD|  ANALYST|7566|1981-12-03|3000.00|   null|  RESEARCH|  DALLAS|\n",
      "|    10| 7934|MILLER|    CLERK|7782|1982-01-23|1300.00|   null|ACCOUNTING|NEW YORK|\n",
      "+------+-----+------+---------+----+----------+-------+-------+----------+--------+\n",
      "\n"
     ]
    }
   ],
   "source": [
    "emp_dept = emp.join(dept,on='deptno',how='inner').show()"
   ]
  },
  {
   "cell_type": "code",
   "execution_count": 9,
   "metadata": {},
   "outputs": [
    {
     "name": "stdout",
     "output_type": "stream",
     "text": [
      "+---------+\n",
      "|      job|\n",
      "+---------+\n",
      "|  ANALYST|\n",
      "| SALESMAN|\n",
      "|    CLERK|\n",
      "|  MANAGER|\n",
      "|PRESIDENT|\n",
      "+---------+\n",
      "\n"
     ]
    }
   ],
   "source": [
    "#Display unique Jobs from EMP table? \n",
    "emp[[\"job\"]].distinct().show()"
   ]
  },
  {
   "cell_type": "code",
   "execution_count": 10,
   "metadata": {},
   "outputs": [
    {
     "name": "stdout",
     "output_type": "stream",
     "text": [
      "+-----+------+---------+----+----------+-------+-------+------+\n",
      "|empno| ename|      job| mgr|  hiredate|    sal|   comm|deptno|\n",
      "+-----+------+---------+----+----------+-------+-------+------+\n",
      "| 7369| SMITH|    CLERK|7902|1980-12-17| 800.00|   null|    20|\n",
      "| 7900| JAMES|    CLERK|7698|1981-12-03| 950.00|   null|    30|\n",
      "| 7876| ADAMS|    CLERK|7788|1983-01-12|1100.00|   null|    20|\n",
      "| 7654|MARTIN| SALESMAN|7698|1981-09-28|1250.00|1400.00|    30|\n",
      "| 7521|  WARD| SALESMAN|7698|1981-02-22|1250.00| 500.00|    30|\n",
      "| 7934|MILLER|    CLERK|7782|1982-01-23|1300.00|   null|    10|\n",
      "| 7844|TURNER| SALESMAN|7698|1981-09-08|1500.00|   0.00|    30|\n",
      "| 7499| ALLEN| SALESMAN|7698|1981-02-20|1600.00| 300.00|    30|\n",
      "| 7782| CLARK|  MANAGER|7839|1981-06-09|2450.00|   null|    10|\n",
      "| 7698| BLAKE|  MANAGER|7839|1981-05-01|2850.00|   null|    30|\n",
      "| 7566| JONES|  MANAGER|7839|1981-04-02|2975.00|   null|    20|\n",
      "| 7788| SCOTT|  ANALYST|7566|1982-12-09|3000.00|   null|    20|\n",
      "| 7902|  FORD|  ANALYST|7566|1981-12-03|3000.00|   null|    20|\n",
      "| 7839|  KING|PRESIDENT|null|1981-11-17|5000.00|   null|    10|\n",
      "+-----+------+---------+----+----------+-------+-------+------+\n",
      "\n"
     ]
    }
   ],
   "source": [
    "#List the emps in the asc order of their Salaries? \n",
    "emp.sort(emp.sal.cast('double'),ascending=True).show()"
   ]
  },
  {
   "cell_type": "code",
   "execution_count": 11,
   "metadata": {},
   "outputs": [
    {
     "name": "stdout",
     "output_type": "stream",
     "text": [
      "+-----+------+---------+----+----------+-------+-------+------+\n",
      "|empno| ename|      job| mgr|  hiredate|    sal|   comm|deptno|\n",
      "+-----+------+---------+----+----------+-------+-------+------+\n",
      "| 7839|  KING|PRESIDENT|null|1981-11-17|5000.00|   null|    10|\n",
      "| 7782| CLARK|  MANAGER|7839|1981-06-09|2450.00|   null|    10|\n",
      "| 7934|MILLER|    CLERK|7782|1982-01-23|1300.00|   null|    10|\n",
      "| 7566| JONES|  MANAGER|7839|1981-04-02|2975.00|   null|    20|\n",
      "| 7369| SMITH|    CLERK|7902|1980-12-17| 800.00|   null|    20|\n",
      "| 7876| ADAMS|    CLERK|7788|1983-01-12|1100.00|   null|    20|\n",
      "| 7902|  FORD|  ANALYST|7566|1981-12-03|3000.00|   null|    20|\n",
      "| 7788| SCOTT|  ANALYST|7566|1982-12-09|3000.00|   null|    20|\n",
      "| 7521|  WARD| SALESMAN|7698|1981-02-22|1250.00| 500.00|    30|\n",
      "| 7654|MARTIN| SALESMAN|7698|1981-09-28|1250.00|1400.00|    30|\n",
      "| 7844|TURNER| SALESMAN|7698|1981-09-08|1500.00|   0.00|    30|\n",
      "| 7499| ALLEN| SALESMAN|7698|1981-02-20|1600.00| 300.00|    30|\n",
      "| 7698| BLAKE|  MANAGER|7839|1981-05-01|2850.00|   null|    30|\n",
      "| 7900| JAMES|    CLERK|7698|1981-12-03| 950.00|   null|    30|\n",
      "+-----+------+---------+----+----------+-------+-------+------+\n",
      "\n"
     ]
    }
   ],
   "source": [
    "#List the details of the emps in asc order of the Dptnos and desc of Jobs?\n",
    "emp.sort(emp.deptno.cast('int'),emp.job,ascending=[True,False]).show()"
   ]
  },
  {
   "cell_type": "code",
   "execution_count": 12,
   "metadata": {},
   "outputs": [
    {
     "name": "stdout",
     "output_type": "stream",
     "text": [
      "+---------+\n",
      "|      job|\n",
      "+---------+\n",
      "| SALESMAN|\n",
      "|PRESIDENT|\n",
      "|  MANAGER|\n",
      "|    CLERK|\n",
      "|  ANALYST|\n",
      "+---------+\n",
      "\n"
     ]
    }
   ],
   "source": [
    "#Display all the unique job groups in the descending order? \n",
    "emp.select(\"job\").distinct().sort('job',ascending=False).show()"
   ]
  },
  {
   "cell_type": "code",
   "execution_count": 13,
   "metadata": {},
   "outputs": [
    {
     "name": "stdout",
     "output_type": "stream",
     "text": [
      "+-----+-----+---------+----+----------+-------+----+------+----+\n",
      "|empno|ename|      job| mgr|  hiredate|    sal|comm|deptno| mgr|\n",
      "+-----+-----+---------+----+----------+-------+----+------+----+\n",
      "| 7566|JONES|  MANAGER|7839|1981-04-02|2975.00|null|    20|7566|\n",
      "| 7698|BLAKE|  MANAGER|7839|1981-05-01|2850.00|null|    30|7698|\n",
      "| 7782|CLARK|  MANAGER|7839|1981-06-09|2450.00|null|    10|7782|\n",
      "| 7788|SCOTT|  ANALYST|7566|1982-12-09|3000.00|null|    20|7788|\n",
      "| 7839| KING|PRESIDENT|null|1981-11-17|5000.00|null|    10|7839|\n",
      "| 7902| FORD|  ANALYST|7566|1981-12-03|3000.00|null|    20|7902|\n",
      "+-----+-----+---------+----+----------+-------+----+------+----+\n",
      "\n"
     ]
    }
   ],
   "source": [
    "#Display all the details of all ‘Mgrs’ \n",
    "mgr_df  = emp.filter(emp.mgr.cast('int') != 0)[[emp.mgr.cast('int')]].distinct()\n",
    "emp.join(mgr_df,emp.empno.cast('int') == mgr_df.mgr,how='inner').show()"
   ]
  },
  {
   "cell_type": "code",
   "execution_count": 14,
   "metadata": {},
   "outputs": [
    {
     "name": "stdout",
     "output_type": "stream",
     "text": [
      "+-----+-----+-----+----+----------+------+----+------+\n",
      "|empno|ename|  job| mgr|  hiredate|   sal|comm|deptno|\n",
      "+-----+-----+-----+----+----------+------+----+------+\n",
      "| 7369|SMITH|CLERK|7902|1980-12-17|800.00|null|    20|\n",
      "+-----+-----+-----+----+----------+------+----+------+\n",
      "\n"
     ]
    }
   ],
   "source": [
    "#List the emps who joined before 1981. \n",
    "emp.filter(emp.hiredate[0:4].cast('int')<1981).show()"
   ]
  },
  {
   "cell_type": "code",
   "execution_count": 15,
   "metadata": {},
   "outputs": [],
   "source": [
    "#Display the Empno, Ename, job, Hiredate, Exp of all Mgrs \n",
    "mgr_df  = emp.filter(emp.mgr.cast('int') != 0)[[emp.mgr.cast('int')]].distinct()\n",
    "mgr_filter = emp.join(mgr_df,emp.empno.cast('int') == mgr_df.mgr,how='inner')[['empno','ename','job','hiredate']]"
   ]
  },
  {
   "cell_type": "code",
   "execution_count": 16,
   "metadata": {},
   "outputs": [
    {
     "name": "stdout",
     "output_type": "stream",
     "text": [
      "+-----+-----+---------+----------+------------------+\n",
      "|empno|ename|      job|  hiredate|      years of exp|\n",
      "+-----+-----+---------+----------+------------------+\n",
      "| 7566|JONES|  MANAGER|1981-04-02| 39.12903225833333|\n",
      "| 7698|BLAKE|  MANAGER|1981-05-01|39.048387096666666|\n",
      "| 7782|CLARK|  MANAGER|1981-06-09|     38.9435483875|\n",
      "| 7788|SCOTT|  ANALYST|1982-12-09|     37.4435483875|\n",
      "| 7839| KING|PRESIDENT|1981-11-17| 38.50537634416667|\n",
      "| 7902| FORD|  ANALYST|1981-12-03| 38.45967741916667|\n",
      "+-----+-----+---------+----------+------------------+\n",
      "\n"
     ]
    }
   ],
   "source": [
    "mgr_filter[['empno','ename','job','hiredate',(months_between(current_date(),\n",
    "                           mgr_filter.hiredate)/12).alias(\"years of exp\")]].show()"
   ]
  },
  {
   "cell_type": "code",
   "execution_count": 17,
   "metadata": {},
   "outputs": [
    {
     "name": "stdout",
     "output_type": "stream",
     "text": [
      "+-----+------+---------+----+----------+-------+-------+------+\n",
      "|empno| ename|      job| mgr|  hiredate|    sal|   comm|deptno|\n",
      "+-----+------+---------+----+----------+-------+-------+------+\n",
      "| 7902|  FORD|  ANALYST|7566|1981-12-03|3000.00|   null|    20|\n",
      "| 7900| JAMES|    CLERK|7698|1981-12-03| 950.00|   null|    30|\n",
      "| 7839|  KING|PRESIDENT|null|1981-11-17|5000.00|   null|    10|\n",
      "| 7654|MARTIN| SALESMAN|7698|1981-09-28|1250.00|1400.00|    30|\n",
      "| 7844|TURNER| SALESMAN|7698|1981-09-08|1500.00|   0.00|    30|\n",
      "+-----+------+---------+----+----------+-------+-------+------+\n",
      "\n"
     ]
    }
   ],
   "source": [
    "#List the emps in the asc order of Designations of those joined after the second halfof 1981. \n",
    "emp.where((emp.hiredate[6:2].cast('int') > 6) & \n",
    "          (emp.hiredate[0:4].cast('int') == 1981)).sort('job',ascending=True).show()"
   ]
  },
  {
   "cell_type": "code",
   "execution_count": 18,
   "metadata": {},
   "outputs": [
    {
     "name": "stdout",
     "output_type": "stream",
     "text": [
      "+-----+------+-------+----+----------+-------+----+------+\n",
      "|empno| ename|    job| mgr|  hiredate|    sal|comm|deptno|\n",
      "+-----+------+-------+----+----------+-------+----+------+\n",
      "| 7902|  FORD|ANALYST|7566|1981-12-03|3000.00|null|    20|\n",
      "| 7788| SCOTT|ANALYST|7566|1982-12-09|3000.00|null|    20|\n",
      "| 7369| SMITH|  CLERK|7902|1980-12-17| 800.00|null|    20|\n",
      "| 7876| ADAMS|  CLERK|7788|1983-01-12|1100.00|null|    20|\n",
      "| 7934|MILLER|  CLERK|7782|1982-01-23|1300.00|null|    10|\n",
      "| 7900| JAMES|  CLERK|7698|1981-12-03| 950.00|null|    30|\n",
      "+-----+------+-------+----+----------+-------+----+------+\n",
      "\n",
      "+-----+------+-------+----+----------+-------+----+------+\n",
      "|empno| ename|    job| mgr|  hiredate|    sal|comm|deptno|\n",
      "+-----+------+-------+----+----------+-------+----+------+\n",
      "| 7902|  FORD|ANALYST|7566|1981-12-03|3000.00|null|    20|\n",
      "| 7788| SCOTT|ANALYST|7566|1982-12-09|3000.00|null|    20|\n",
      "| 7369| SMITH|  CLERK|7902|1980-12-17| 800.00|null|    20|\n",
      "| 7876| ADAMS|  CLERK|7788|1983-01-12|1100.00|null|    20|\n",
      "| 7934|MILLER|  CLERK|7782|1982-01-23|1300.00|null|    10|\n",
      "| 7900| JAMES|  CLERK|7698|1981-12-03| 950.00|null|    30|\n",
      "+-----+------+-------+----+----------+-------+----+------+\n",
      "\n"
     ]
    }
   ],
   "source": [
    "#. List the emps who are either ‘CLERK’ or ‘ANALYST’ in the Desc order. \n",
    "emp.filter(emp.job.isin('CLERK' ,'ANALYST')).sort('job').show()\n",
    "emp.filter((emp.job=='CLERK') | (emp.job=='ANALYST')).sort(emp.job).show()"
   ]
  },
  {
   "cell_type": "code",
   "execution_count": 19,
   "metadata": {},
   "outputs": [
    {
     "name": "stdout",
     "output_type": "stream",
     "text": [
      "+-----+-----+--------+----+----------+-------+------+------+\n",
      "|empno|ename|     job| mgr|  hiredate|    sal|  comm|deptno|\n",
      "+-----+-----+--------+----+----------+-------+------+------+\n",
      "| 7369|SMITH|   CLERK|7902|1980-12-17| 800.00|  null|    20|\n",
      "| 7499|ALLEN|SALESMAN|7698|1981-02-20|1600.00|300.00|    30|\n",
      "| 7566|JONES| MANAGER|7839|1981-04-02|2975.00|  null|    20|\n",
      "| 7698|BLAKE| MANAGER|7839|1981-05-01|2850.00|  null|    30|\n",
      "| 7782|CLARK| MANAGER|7839|1981-06-09|2450.00|  null|    10|\n",
      "| 7788|SCOTT| ANALYST|7566|1982-12-09|3000.00|  null|    20|\n",
      "| 7876|ADAMS|   CLERK|7788|1983-01-12|1100.00|  null|    20|\n",
      "| 7900|JAMES|   CLERK|7698|1981-12-03| 950.00|  null|    30|\n",
      "+-----+-----+--------+----+----------+-------+------+------+\n",
      "\n"
     ]
    }
   ],
   "source": [
    "#List the Enames those are having five characters in their Names. \n",
    "emp.filter(length(emp.ename)==5).show()"
   ]
  },
  {
   "cell_type": "code",
   "execution_count": 20,
   "metadata": {},
   "outputs": [
    {
     "name": "stdout",
     "output_type": "stream",
     "text": [
      "+-----+-----+-------+----+----------+-------+----+------+\n",
      "|empno|ename|    job| mgr|  hiredate|    sal|comm|deptno|\n",
      "+-----+-----+-------+----+----------+-------+----+------+\n",
      "| 7369|SMITH|  CLERK|7902|1980-12-17| 800.00|null|    20|\n",
      "| 7788|SCOTT|ANALYST|7566|1982-12-09|3000.00|null|    20|\n",
      "+-----+-----+-------+----+----------+-------+----+------+\n",
      "\n"
     ]
    }
   ],
   "source": [
    "#List the Enames those are starting with ‘S’ and with five characters\n",
    "emp.filter((emp.ename.startswith('S')) & (length(emp.ename)==5)).show()"
   ]
  },
  {
   "cell_type": "code",
   "execution_count": 21,
   "metadata": {},
   "outputs": [
    {
     "name": "stdout",
     "output_type": "stream",
     "text": [
      "+-----+-----+--------+----+----------+-------+------+------+\n",
      "|empno|ename|     job| mgr|  hiredate|    sal|  comm|deptno|\n",
      "+-----+-----+--------+----+----------+-------+------+------+\n",
      "| 7521| WARD|SALESMAN|7698|1981-02-22|1250.00|500.00|    30|\n",
      "| 7902| FORD| ANALYST|7566|1981-12-03|3000.00|  null|    20|\n",
      "+-----+-----+--------+----+----------+-------+------+------+\n",
      "\n"
     ]
    }
   ],
   "source": [
    "#List the emps those are having four chars and third character must be ‘r’. \n",
    "emp.filter((emp.ename[3:1].startswith('R')) & (length(emp.ename)==4)).show()"
   ]
  },
  {
   "cell_type": "code",
   "execution_count": 22,
   "metadata": {},
   "outputs": [
    {
     "name": "stdout",
     "output_type": "stream",
     "text": [
      "+-----+-----+-----+----+----------+------+----+------+\n",
      "|empno|ename|  job| mgr|  hiredate|   sal|comm|deptno|\n",
      "+-----+-----+-----+----+----------+------+----+------+\n",
      "| 7369|SMITH|CLERK|7902|1980-12-17|800.00|null|    20|\n",
      "+-----+-----+-----+----+----------+------+----+------+\n",
      "\n"
     ]
    }
   ],
   "source": [
    "#List the Five character names starting with ‘S’ and ending with ‘H’\n",
    "emp.filter((emp.ename.startswith('S')) & (emp.ename.endswith('H'))).show()"
   ]
  },
  {
   "cell_type": "code",
   "execution_count": 25,
   "metadata": {},
   "outputs": [
    {
     "name": "stdout",
     "output_type": "stream",
     "text": [
      "+-----+------+-----+----+----------+-------+----+------+\n",
      "|empno| ename|  job| mgr|  hiredate|    sal|comm|deptno|\n",
      "+-----+------+-----+----+----------+-------+----+------+\n",
      "| 7876| ADAMS|CLERK|7788|1983-01-12|1100.00|null|    20|\n",
      "| 7934|MILLER|CLERK|7782|1982-01-23|1300.00|null|    10|\n",
      "+-----+------+-----+----+----------+-------+----+------+\n",
      "\n"
     ]
    }
   ],
   "source": [
    "# List the emps who joined in January. \n",
    "#emp.select(date_format(emp.hiredate.cast('date'),'MMMMM')).show()\n",
    "emp.filter(f.date_format(to_date(emp.hiredate,'yyyy-MM-dd'),'MMMMM')=='January').show()"
   ]
  },
  {
   "cell_type": "code",
   "execution_count": 27,
   "metadata": {},
   "outputs": [
    {
     "name": "stdout",
     "output_type": "stream",
     "text": [
      "+-----+------+-------+----+----------+-------+----+------+\n",
      "|empno| ename|    job| mgr|  hiredate|    sal|comm|deptno|\n",
      "+-----+------+-------+----+----------+-------+----+------+\n",
      "| 7369| SMITH|  CLERK|7902|1980-12-17| 800.00|null|    20|\n",
      "| 7788| SCOTT|ANALYST|7566|1982-12-09|3000.00|null|    20|\n",
      "| 7876| ADAMS|  CLERK|7788|1983-01-12|1100.00|null|    20|\n",
      "| 7934|MILLER|  CLERK|7782|1982-01-23|1300.00|null|    10|\n",
      "+-----+------+-------+----+----------+-------+----+------+\n",
      "\n"
     ]
    }
   ],
   "source": [
    "#List all the emps who joined before or after 1981. \n",
    "emp.filter(emp.hiredate[0:4].cast('int') != 1981).show()"
   ]
  },
  {
   "cell_type": "code",
   "execution_count": 28,
   "metadata": {},
   "outputs": [
    {
     "name": "stdout",
     "output_type": "stream",
     "text": [
      "+---------+--------+\n",
      "|sum(comm)|sum(sal)|\n",
      "+---------+--------+\n",
      "|     null| 19275.0|\n",
      "+---------+--------+\n",
      "\n"
     ]
    }
   ],
   "source": [
    "#All mgr's total salary\n",
    "emp.join(mgr_df,emp.empno == mgr_df.mgr).agg({\"sal\":\"sum\",\"comm\":\"sum\"}).show()"
   ]
  },
  {
   "cell_type": "code",
   "execution_count": 29,
   "metadata": {},
   "outputs": [
    {
     "name": "stdout",
     "output_type": "stream",
     "text": [
      "+-----+------+--------+----+----------+-------+-------+------+------+\n",
      "|empno| ename|     job| mgr|  hiredate|    sal|   comm|deptno|deptno|\n",
      "+-----+------+--------+----+----------+-------+-------+------+------+\n",
      "| 7369| SMITH|   CLERK|7902|1980-12-17| 800.00|   null|    20|    20|\n",
      "| 7499| ALLEN|SALESMAN|7698|1981-02-20|1600.00| 300.00|    30|    30|\n",
      "| 7521|  WARD|SALESMAN|7698|1981-02-22|1250.00| 500.00|    30|    30|\n",
      "| 7566| JONES| MANAGER|7839|1981-04-02|2975.00|   null|    20|    20|\n",
      "| 7654|MARTIN|SALESMAN|7698|1981-09-28|1250.00|1400.00|    30|    30|\n",
      "| 7698| BLAKE| MANAGER|7839|1981-05-01|2850.00|   null|    30|    30|\n",
      "| 7788| SCOTT| ANALYST|7566|1982-12-09|3000.00|   null|    20|    20|\n",
      "| 7844|TURNER|SALESMAN|7698|1981-09-08|1500.00|   0.00|    30|    30|\n",
      "| 7876| ADAMS|   CLERK|7788|1983-01-12|1100.00|   null|    20|    20|\n",
      "| 7900| JAMES|   CLERK|7698|1981-12-03| 950.00|   null|    30|    30|\n",
      "| 7902|  FORD| ANALYST|7566|1981-12-03|3000.00|   null|    20|    20|\n",
      "+-----+------+--------+----+----------+-------+-------+------+------+\n",
      "\n"
     ]
    }
   ],
   "source": [
    "#List the department,details where at least three emps are working \n",
    "dept_empl_cnt = emp.groupby(\"deptno\").agg({\"empno\":\"count\"}).filter(\"count(empno)>3\")[[emp.deptno.cast('int')]]\n",
    "emp.join(dept_empl_cnt,emp.deptno == dept_empl_cnt.deptno).show()\n"
   ]
  },
  {
   "cell_type": "code",
   "execution_count": 40,
   "metadata": {},
   "outputs": [],
   "source": [
    "# List the details of the department where maximum number of emps are working. \n",
    "max_tot_emp = emp.groupby(\"deptno\"). \\\n",
    "    agg(f.count(emp.empno). \\\n",
    "    alias(\"tot_employees\")). \\\n",
    "    agg(f.max('tot_employees'). \\\n",
    "    alias('max_tot_emp'))"
   ]
  },
  {
   "cell_type": "code",
   "execution_count": 49,
   "metadata": {},
   "outputs": [
    {
     "name": "stdout",
     "output_type": "stream",
     "text": [
      "+------+\n",
      "|deptno|\n",
      "+------+\n",
      "|    30|\n",
      "+------+\n",
      "\n"
     ]
    }
   ],
   "source": [
    "dept_agg = emp.groupby(\"deptno\").agg(f.count(emp.empno).alias(\"tot_emp\"))\n",
    "dept_agg.join(max_tot_emp,dept_agg.tot_emp==max_tot_emp.max_tot_emp)[[dept_agg.deptno]].show()"
   ]
  },
  {
   "cell_type": "code",
   "execution_count": 40,
   "metadata": {},
   "outputs": [],
   "source": [
    "#window functions\n",
    "#creating df using partition by\n",
    "emp_partition = window.partitionBy(emp.deptno)"
   ]
  },
  {
   "cell_type": "code",
   "execution_count": 49,
   "metadata": {},
   "outputs": [
    {
     "name": "stdout",
     "output_type": "stream",
     "text": [
      "+-----+------+---------+----+----------+-------+-------+------+--------+\n",
      "|empno| ename|      job| mgr|  hiredate|    sal|   comm|deptno|dept_rnk|\n",
      "+-----+------+---------+----+----------+-------+-------+------+--------+\n",
      "| 7499| ALLEN| SALESMAN|7698|1981-02-20|1600.00| 300.00|    30|       1|\n",
      "| 7521|  WARD| SALESMAN|7698|1981-02-22|1250.00| 500.00|    30|       2|\n",
      "| 7654|MARTIN| SALESMAN|7698|1981-09-28|1250.00|1400.00|    30|       3|\n",
      "| 7698| BLAKE|  MANAGER|7839|1981-05-01|2850.00|   null|    30|       4|\n",
      "| 7844|TURNER| SALESMAN|7698|1981-09-08|1500.00|   0.00|    30|       5|\n",
      "| 7900| JAMES|    CLERK|7698|1981-12-03| 950.00|   null|    30|       6|\n",
      "| 7369| SMITH|    CLERK|7902|1980-12-17| 800.00|   null|    20|       1|\n",
      "| 7566| JONES|  MANAGER|7839|1981-04-02|2975.00|   null|    20|       2|\n",
      "| 7788| SCOTT|  ANALYST|7566|1982-12-09|3000.00|   null|    20|       3|\n",
      "| 7876| ADAMS|    CLERK|7788|1983-01-12|1100.00|   null|    20|       4|\n",
      "| 7902|  FORD|  ANALYST|7566|1981-12-03|3000.00|   null|    20|       5|\n",
      "| 7782| CLARK|  MANAGER|7839|1981-06-09|2450.00|   null|    10|       1|\n",
      "| 7839|  KING|PRESIDENT|null|1981-11-17|5000.00|   null|    10|       2|\n",
      "| 7934|MILLER|    CLERK|7782|1982-01-23|1300.00|   null|    10|       3|\n",
      "+-----+------+---------+----+----------+-------+-------+------+--------+\n",
      "\n"
     ]
    }
   ],
   "source": [
    "#Add extra column to dataframe using withColumn\n",
    "# Equals SQL query\n",
    "# select emp.*,rank() over(partition By emp.deptno order by emp.empno) as dept_rnk\n",
    "# from emp\n",
    "emp_win = emp.withColumn(\"dept_rnk\",f.rank().over(emp_partition.orderBy(emp.empno.cast('int'))))\n",
    "emp_win.show()"
   ]
  },
  {
   "cell_type": "code",
   "execution_count": 48,
   "metadata": {},
   "outputs": [
    {
     "name": "stdout",
     "output_type": "stream",
     "text": [
      "+-----+------+---------+----+----------+-------+-------+------+------------+------------+\n",
      "|empno| ename|      job| mgr|  hiredate|    sal|   comm|deptno|dept_emp_cnt|dept_max_sal|\n",
      "+-----+------+---------+----+----------+-------+-------+------+------------+------------+\n",
      "| 7499| ALLEN| SALESMAN|7698|1981-02-20|1600.00| 300.00|    30|           6|      2850.0|\n",
      "| 7521|  WARD| SALESMAN|7698|1981-02-22|1250.00| 500.00|    30|           6|      2850.0|\n",
      "| 7654|MARTIN| SALESMAN|7698|1981-09-28|1250.00|1400.00|    30|           6|      2850.0|\n",
      "| 7698| BLAKE|  MANAGER|7839|1981-05-01|2850.00|   null|    30|           6|      2850.0|\n",
      "| 7844|TURNER| SALESMAN|7698|1981-09-08|1500.00|   0.00|    30|           6|      2850.0|\n",
      "| 7900| JAMES|    CLERK|7698|1981-12-03| 950.00|   null|    30|           6|      2850.0|\n",
      "| 7369| SMITH|    CLERK|7902|1980-12-17| 800.00|   null|    20|           5|      3000.0|\n",
      "| 7566| JONES|  MANAGER|7839|1981-04-02|2975.00|   null|    20|           5|      3000.0|\n",
      "| 7788| SCOTT|  ANALYST|7566|1982-12-09|3000.00|   null|    20|           5|      3000.0|\n",
      "| 7876| ADAMS|    CLERK|7788|1983-01-12|1100.00|   null|    20|           5|      3000.0|\n",
      "| 7902|  FORD|  ANALYST|7566|1981-12-03|3000.00|   null|    20|           5|      3000.0|\n",
      "| 7782| CLARK|  MANAGER|7839|1981-06-09|2450.00|   null|    10|           3|      5000.0|\n",
      "| 7839|  KING|PRESIDENT|null|1981-11-17|5000.00|   null|    10|           3|      5000.0|\n",
      "| 7934|MILLER|    CLERK|7782|1982-01-23|1300.00|   null|    10|           3|      5000.0|\n",
      "+-----+------+---------+----+----------+-------+-------+------+------------+------------+\n",
      "\n"
     ]
    }
   ],
   "source": [
    "#Add multiple group by columns to dataframe\n",
    "#Equals SQL query\n",
    "# select emp.*,count(emp.empno) over(partition By emp.deptno) as dept_emp_cnt,\n",
    "# max(emp.sal) over(partition By emp.deptno) as dept_max_sal\n",
    "# from emp\n",
    "emp_cnt = emp.withColumn(\"dept_emp_cnt\",f.count(emp.empno).over(emp_partition)). \\\n",
    "    withColumn(\"dept_max_sal\",f.max(emp.sal.cast('double')).over(emp_partition))\n",
    "emp_cnt.show()"
   ]
  },
  {
   "cell_type": "code",
   "execution_count": 53,
   "metadata": {},
   "outputs": [
    {
     "name": "stdout",
     "output_type": "stream",
     "text": [
      "+-----+------+---------+----+----------+-------+-------+------+--------+--------+\n",
      "|empno| ename|      job| mgr|  hiredate|    sal|   comm|deptno|prev_sal|next_sal|\n",
      "+-----+------+---------+----+----------+-------+-------+------+--------+--------+\n",
      "| 7499| ALLEN| SALESMAN|7698|1981-02-20|1600.00| 300.00|    30|    null|  1250.0|\n",
      "| 7521|  WARD| SALESMAN|7698|1981-02-22|1250.00| 500.00|    30|  1600.0|  1250.0|\n",
      "| 7654|MARTIN| SALESMAN|7698|1981-09-28|1250.00|1400.00|    30|  1250.0|  2850.0|\n",
      "| 7698| BLAKE|  MANAGER|7839|1981-05-01|2850.00|   null|    30|  1250.0|  1500.0|\n",
      "| 7844|TURNER| SALESMAN|7698|1981-09-08|1500.00|   0.00|    30|  2850.0|   950.0|\n",
      "| 7900| JAMES|    CLERK|7698|1981-12-03| 950.00|   null|    30|  1500.0|    null|\n",
      "| 7369| SMITH|    CLERK|7902|1980-12-17| 800.00|   null|    20|    null|  2975.0|\n",
      "| 7566| JONES|  MANAGER|7839|1981-04-02|2975.00|   null|    20|   800.0|  3000.0|\n",
      "| 7788| SCOTT|  ANALYST|7566|1982-12-09|3000.00|   null|    20|  2975.0|  1100.0|\n",
      "| 7876| ADAMS|    CLERK|7788|1983-01-12|1100.00|   null|    20|  3000.0|  3000.0|\n",
      "| 7902|  FORD|  ANALYST|7566|1981-12-03|3000.00|   null|    20|  1100.0|    null|\n",
      "| 7782| CLARK|  MANAGER|7839|1981-06-09|2450.00|   null|    10|    null|  5000.0|\n",
      "| 7839|  KING|PRESIDENT|null|1981-11-17|5000.00|   null|    10|  2450.0|  1300.0|\n",
      "| 7934|MILLER|    CLERK|7782|1982-01-23|1300.00|   null|    10|  5000.0|    null|\n",
      "+-----+------+---------+----+----------+-------+-------+------+--------+--------+\n",
      "\n"
     ]
    }
   ],
   "source": [
    "#Equals SQL query\n",
    "# select emp.*,lag(emp.sal) over(partition by emp.deptno order by emp.empno) as prev_sal\n",
    "# ,lead(emp.sal) over(partition by emp.deptno order by emp.empno) as next_sal\n",
    "# from emp\n",
    "emp_lag_lead = emp.withColumn(\"prev_sal\",f.lag(emp.sal.cast('double')).over(emp_partition.orderBy(emp.empno))). \\\n",
    "    withColumn(\"next_sal\",f.lead(emp.sal.cast('double')).over(emp_partition.orderBy(emp.empno)))\n",
    "emp_lag_lead.show()"
   ]
  },
  {
   "cell_type": "code",
   "execution_count": 57,
   "metadata": {},
   "outputs": [
    {
     "name": "stdout",
     "output_type": "stream",
     "text": [
      "+-----+-----+---------+----+----------+-------+----+------+------------+------------+\n",
      "|empno|ename|      job| mgr|  hiredate|    sal|comm|deptno|dept_emp_cnt|dept_max_sal|\n",
      "+-----+-----+---------+----+----------+-------+----+------+------------+------------+\n",
      "| 7698|BLAKE|  MANAGER|7839|1981-05-01|2850.00|null|    30|           6|      2850.0|\n",
      "| 7788|SCOTT|  ANALYST|7566|1982-12-09|3000.00|null|    20|           5|      3000.0|\n",
      "| 7902| FORD|  ANALYST|7566|1981-12-03|3000.00|null|    20|           5|      3000.0|\n",
      "| 7839| KING|PRESIDENT|null|1981-11-17|5000.00|null|    10|           3|      5000.0|\n",
      "+-----+-----+---------+----+----------+-------+----+------+------------+------------+\n",
      "\n"
     ]
    }
   ],
   "source": [
    "#get each dept max salary employee details\n",
    "# Equals SQL Query\n",
    "#select * from ( select emp.*,max(emp.sal) over(partition by emp.deptno) as max_sal\n",
    "# from emp) tab\n",
    "# where sal = max_sal;\n",
    "emp.withColumn( \\\n",
    "    \"dept_emp_cnt\",f.count(emp.empno).over(emp_partition)). \\\n",
    "    withColumn( \\\n",
    "    \"dept_max_sal\",f.max(emp.sal.cast('double')).over(emp_partition)). \\\n",
    "    filter('sal == dept_max_sal').show()"
   ]
  },
  {
   "cell_type": "code",
   "execution_count": 14,
   "metadata": {},
   "outputs": [
    {
     "name": "stdout",
     "output_type": "stream",
     "text": [
      "+-----+------+---------+----+----------+-------+-------+------+----------+\n",
      "|empno| ename|      job| mgr|  hiredate|    sal|   comm|deptno|commission|\n",
      "+-----+------+---------+----+----------+-------+-------+------+----------+\n",
      "| 7369| SMITH|    CLERK|7902|1980-12-17| 800.00|   null|    20|       0.0|\n",
      "| 7499| ALLEN| SALESMAN|7698|1981-02-20|1600.00| 300.00|    30|     300.0|\n",
      "| 7521|  WARD| SALESMAN|7698|1981-02-22|1250.00| 500.00|    30|     500.0|\n",
      "| 7566| JONES|  MANAGER|7839|1981-04-02|2975.00|   null|    20|       0.0|\n",
      "| 7654|MARTIN| SALESMAN|7698|1981-09-28|1250.00|1400.00|    30|    1400.0|\n",
      "| 7698| BLAKE|  MANAGER|7839|1981-05-01|2850.00|   null|    30|       0.0|\n",
      "| 7782| CLARK|  MANAGER|7839|1981-06-09|2450.00|   null|    10|       0.0|\n",
      "| 7788| SCOTT|  ANALYST|7566|1982-12-09|3000.00|   null|    20|       0.0|\n",
      "| 7839|  KING|PRESIDENT|null|1981-11-17|5000.00|   null|    10|       0.0|\n",
      "| 7844|TURNER| SALESMAN|7698|1981-09-08|1500.00|   0.00|    30|       0.0|\n",
      "| 7876| ADAMS|    CLERK|7788|1983-01-12|1100.00|   null|    20|       0.0|\n",
      "| 7900| JAMES|    CLERK|7698|1981-12-03| 950.00|   null|    30|       0.0|\n",
      "| 7902|  FORD|  ANALYST|7566|1981-12-03|3000.00|   null|    20|       0.0|\n",
      "| 7934|MILLER|    CLERK|7782|1982-01-23|1300.00|   null|    10|       0.0|\n",
      "+-----+------+---------+----+----------+-------+-------+------+----------+\n",
      "\n"
     ]
    }
   ],
   "source": [
    "#Dataframe if else conditions(equalent to case when condition then value else value end case)\n",
    "emp.withColumn(\"commission\",\n",
    "               f.when(emp.comm == 'null',0.0).\n",
    "               otherwise(emp.comm.cast('float'))).show()"
   ]
  },
  {
   "cell_type": "code",
   "execution_count": 16,
   "metadata": {},
   "outputs": [],
   "source": [
    "data = [(\"James \",\"\",\"Smith\",\"36636\",\"M\",60000),\n",
    "        (\"Michael \",\"Rose\",\"\",\"40288\",\"M\",70000),\n",
    "        (\"Robert \",\"\",\"Williams\",\"42114\",\"\",400000),\n",
    "        (\"Maria \",\"Anne\",\"Jones\",\"39192\",\"F\",500000),\n",
    "        (\"Jen\",\"Mary\",\"Brown\",\"\",\"F\",0)]"
   ]
  },
  {
   "cell_type": "code",
   "execution_count": 24,
   "metadata": {},
   "outputs": [
    {
     "name": "stdout",
     "output_type": "stream",
     "text": [
      "root\n",
      " |-- first_name: string (nullable = true)\n",
      " |-- middle_name: string (nullable = true)\n",
      " |-- last_name: string (nullable = true)\n",
      " |-- dob: string (nullable = true)\n",
      " |-- gender: string (nullable = true)\n",
      " |-- salary: long (nullable = true)\n",
      "\n"
     ]
    }
   ],
   "source": [
    "cols = (\"first_name\",\"middle_name\",\"last_name\",\"dob\",\"gender\",\"salary\")\n",
    "df = spark.createDataFrame(data,cols)\n",
    "df.printSchema()"
   ]
  },
  {
   "cell_type": "code",
   "execution_count": 32,
   "metadata": {},
   "outputs": [
    {
     "name": "stdout",
     "output_type": "stream",
     "text": [
      "+----------+-----------+---------+-----+------+------+----------+\n",
      "|first_name|middle_name|last_name|  dob|gender|salary|new_gender|\n",
      "+----------+-----------+---------+-----+------+------+----------+\n",
      "|    James |           |    Smith|36636|     M| 60000|      Male|\n",
      "|  Michael |       Rose|         |40288|     M| 70000|      Male|\n",
      "|   Robert |           | Williams|42114|      |400000|   Unknown|\n",
      "|    Maria |       Anne|    Jones|39192|     F|500000|    Female|\n",
      "|       Jen|       Mary|    Brown|     |     F|     0|    Female|\n",
      "+----------+-----------+---------+-----+------+------+----------+\n",
      "\n"
     ]
    }
   ],
   "source": [
    "df.withColumn(\"new_gender\",f.expr(\"case when gender = 'M' then 'Male' \" +\n",
    "                   \"when gender = 'F' then 'Female' \" +\n",
    "                   \"else 'Unknown' end\")).show()"
   ]
  },
  {
   "cell_type": "code",
   "execution_count": 39,
   "metadata": {},
   "outputs": [
    {
     "name": "stdout",
     "output_type": "stream",
     "text": [
      "+----------+-----------+---------+-----+------+------+----------+\n",
      "|first_name|middle_name|last_name|  dob|gender|salary|new_gender|\n",
      "+----------+-----------+---------+-----+------+------+----------+\n",
      "|    James |           |    Smith|36636|     M| 60000|      Male|\n",
      "|  Michael |       Rose|         |40288|     M| 70000|      Male|\n",
      "|   Robert |           | Williams|42114|      |400000|   Unknown|\n",
      "|    Maria |       Anne|    Jones|39192|     F|500000|    Female|\n",
      "|       Jen|       Mary|    Brown|     |     F|     0|    Female|\n",
      "+----------+-----------+---------+-----+------+------+----------+\n",
      "\n"
     ]
    }
   ],
   "source": [
    "cond =\"\"\"case when gender = 'M' then 'Male'  \n",
    "                    when gender = 'F' then 'Female' \n",
    "                    else 'Unknown' end as new_gender\"\"\"\n",
    "df.selectExpr(\"*\", cond).show()"
   ]
  },
  {
   "cell_type": "code",
   "execution_count": 40,
   "metadata": {},
   "outputs": [
    {
     "data": {
      "text/plain": [
       "\u001b[0;31mSignature:\u001b[0m \u001b[0mdf\u001b[0m\u001b[0;34m.\u001b[0m\u001b[0mdrop\u001b[0m\u001b[0;34m(\u001b[0m\u001b[0;34m*\u001b[0m\u001b[0mcols\u001b[0m\u001b[0;34m)\u001b[0m\u001b[0;34m\u001b[0m\u001b[0;34m\u001b[0m\u001b[0m\n",
       "\u001b[0;31mDocstring:\u001b[0m\n",
       "Returns a new :class:`DataFrame` that drops the specified column.\n",
       "This is a no-op if schema doesn't contain the given column name(s).\n",
       "\n",
       ":param cols: a string name of the column to drop, or a\n",
       "    :class:`Column` to drop, or a list of string name of the columns to drop.\n",
       "\n",
       ">>> df.drop('age').collect()\n",
       "[Row(name='Alice'), Row(name='Bob')]\n",
       "\n",
       ">>> df.drop(df.age).collect()\n",
       "[Row(name='Alice'), Row(name='Bob')]\n",
       "\n",
       ">>> df.join(df2, df.name == df2.name, 'inner').drop(df.name).collect()\n",
       "[Row(age=5, height=85, name='Bob')]\n",
       "\n",
       ">>> df.join(df2, df.name == df2.name, 'inner').drop(df2.name).collect()\n",
       "[Row(age=5, name='Bob', height=85)]\n",
       "\n",
       ">>> df.join(df2, 'name', 'inner').drop('age', 'height').collect()\n",
       "[Row(name='Bob')]\n",
       "\n",
       ".. versionadded:: 1.4\n",
       "\u001b[0;31mFile:\u001b[0m      /usr/hdp/current/spark2-client/python/pyspark/sql/dataframe.py\n",
       "\u001b[0;31mType:\u001b[0m      method\n"
      ]
     },
     "metadata": {},
     "output_type": "display_data"
    }
   ],
   "source": [
    "df.add"
   ]
  },
  {
   "cell_type": "code",
   "execution_count": 9,
   "metadata": {},
   "outputs": [
    {
     "name": "stdout",
     "output_type": "stream",
     "text": [
      "== Parsed Logical Plan ==\n",
      "Relation[empno#0,ename#1,job#2,mgr#3,hiredate#4,sal#5,comm#6,deptno#7] csv\n",
      "\n",
      "== Analyzed Logical Plan ==\n",
      "empno: string, ename: string, job: string, mgr: string, hiredate: string, sal: string, comm: string, deptno: string\n",
      "Relation[empno#0,ename#1,job#2,mgr#3,hiredate#4,sal#5,comm#6,deptno#7] csv\n",
      "\n",
      "== Optimized Logical Plan ==\n",
      "Relation[empno#0,ename#1,job#2,mgr#3,hiredate#4,sal#5,comm#6,deptno#7] csv\n",
      "\n",
      "== Physical Plan ==\n",
      "*(1) FileScan csv [empno#0,ename#1,job#2,mgr#3,hiredate#4,sal#5,comm#6,deptno#7] Batched: false, Format: CSV, Location: InMemoryFileIndex[hdfs://nn01.itversity.com:8020/user/rposam2020/data/emp.csv], PartitionFilters: [], PushedFilters: [], ReadSchema: struct<empno:string,ename:string,job:string,mgr:string,hiredate:string,sal:string,comm:string,dep...\n"
     ]
    }
   ],
   "source": [
    "#Explain plan of DataFrame\n",
    "emp.explain(True)"
   ]
  },
  {
   "cell_type": "code",
   "execution_count": 10,
   "metadata": {},
   "outputs": [
    {
     "name": "stdout",
     "output_type": "stream",
     "text": [
      "== Optimized Logical Plan ==\n",
      "Relation[empno#0,ename#1,job#2,mgr#3,hiredate#4,sal#5,comm#6,deptno#7] csv, Statistics(sizeInBytes=717.0 B, hints=none)\n",
      "\n",
      "== Physical Plan ==\n",
      "*(1) FileScan csv [empno#0,ename#1,job#2,mgr#3,hiredate#4,sal#5,comm#6,deptno#7] Batched: false, Format: CSV, Location: InMemoryFileIndex[hdfs://nn01.itversity.com:8020/user/rposam2020/data/emp.csv], PartitionFilters: [], PushedFilters: [], ReadSchema: struct<empno:string,ename:string,job:string,mgr:string,hiredate:string,sal:string,comm:string,dep...\n"
     ]
    }
   ],
   "source": [
    "print(emp._jdf.queryExecution().stringWithStats())"
   ]
  },
  {
   "cell_type": "code",
   "execution_count": 41,
   "metadata": {},
   "outputs": [],
   "source": [
    "spark.stop()"
   ]
  },
  {
   "cell_type": "code",
   "execution_count": null,
   "metadata": {},
   "outputs": [],
   "source": []
  }
 ],
 "metadata": {
  "kernelspec": {
   "display_name": "Pyspark 2",
   "language": "python",
   "name": "pyspark2"
  },
  "language_info": {
   "codemirror_mode": {
    "name": "ipython",
    "version": 3
   },
   "file_extension": ".py",
   "mimetype": "text/x-python",
   "name": "python",
   "nbconvert_exporter": "python",
   "pygments_lexer": "ipython3",
   "version": "3.6.8"
  }
 },
 "nbformat": 4,
 "nbformat_minor": 4
}
