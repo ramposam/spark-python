{
 "cells": [
  {
   "cell_type": "code",
   "execution_count": 1,
   "metadata": {},
   "outputs": [],
   "source": [
    "import numpy as np\n",
    "from array import *"
   ]
  },
  {
   "cell_type": "code",
   "execution_count": 17,
   "metadata": {},
   "outputs": [
    {
     "name": "stdout",
     "output_type": "stream",
     "text": [
      "10 20 = 30\n",
      "25 35 = 60\n",
      "0 0 = 0\n",
      "deptno: 10\n",
      "deptname: IT\n",
      "dept-details: ('Hyderabad', 'Telangana', '500050')\n",
      "deptno: 10\n",
      "deptname: IT\n",
      "location : Hyderabad\n",
      "state : Telangana\n",
      "pincode : 500050\n"
     ]
    }
   ],
   "source": [
    "# Functions in Python\n",
    "# Function parameters are called formal arguments\n",
    "# Calling arguments are called actual arguments\n",
    "# Acutal arguments are 4 types\n",
    "#   1.Positional arguments\n",
    "#   2.Keyword arguments\n",
    "#   3.Default arguments\n",
    "#   4.Variable length arguments\n",
    "# Normal function\n",
    "def add(x,y):\n",
    "    c = x+y\n",
    "    print(x,y,\"=\",c)\n",
    "    \n",
    "# Calling function using positional arguments\n",
    "add(10,20)\n",
    "\n",
    "# Calling function using keyword(using argument names) arguments\n",
    "add(y=35,x=25)\n",
    "\n",
    "# Function with default arguments\n",
    "def add(x=0,y=0):\n",
    "    c = x+y\n",
    "    print(x,y,\"=\",c)\n",
    "\n",
    "# Calling function using keyword(using argument names) arguments\n",
    "add()\n",
    "\n",
    "# Function with variable length arguments\n",
    "def dept(no,name,*details):\n",
    "    print(\"deptno:\",no)\n",
    "    print(\"deptname:\",name)\n",
    "    print(\"dept-details:\",details)\n",
    "\n",
    "# Calling function using variable length arguments\n",
    "dept(10,\"IT\",\"Hyderabad\",\"Telangana\",\"500050\")\n",
    "\n",
    "# Function with keyword variable length arguments(**kwargs)\n",
    "def dept(no,name,**details):\n",
    "    print(\"deptno:\",no)\n",
    "    print(\"deptname:\",name)\n",
    "    for k,v in details.items():\n",
    "        print(k,\":\",v)\n",
    "\n",
    "# Calling function using Keyword variable length arguments\n",
    "dept(10,\"IT\",location=\"Hyderabad\",state=\"Telangana\",pincode=\"500050\")"
   ]
  },
  {
   "cell_type": "code",
   "execution_count": 26,
   "metadata": {},
   "outputs": [
    {
     "name": "stdout",
     "output_type": "stream",
     "text": [
      "30\n"
     ]
    }
   ],
   "source": [
    "# function can also update global values\n",
    "def noValueReturn(x,y):\n",
    "    global tot \n",
    "    tot = x+y\n",
    "\n",
    "noValueReturn(10,20)\n",
    "print(tot)"
   ]
  },
  {
   "cell_type": "code",
   "execution_count": 44,
   "metadata": {},
   "outputs": [
    {
     "name": "stdout",
     "output_type": "stream",
     "text": [
      "10 IT Hyd 500050\n",
      "10 IT HitechCity 500050\n"
     ]
    }
   ],
   "source": [
    "# Classes have member variable and member methods\n",
    "# member variable are nothing but variable that declare inside class\n",
    "# member methods are nothing but functions\n",
    "class Dept:\n",
    "    def __init__(self):\n",
    "        self.no = 10\n",
    "        self.name = \"IT\"\n",
    "        self.loc = \"Hyd\"\n",
    "        self.pincode = 500050\n",
    "        \n",
    "dept = Dept()\n",
    "print(dept.no,dept.name,dept.loc,dept.pincode)\n",
    "\n",
    "# here __init__ is a constructor(implicitly this method invoked)\n",
    "# No constructor overloading supports\n",
    "class Dept:\n",
    "    # constructor called implicitly when object created\n",
    "    def __init__(self,no,name,loc,pincode):\n",
    "        self.name = name\n",
    "        self.no = no\n",
    "        self.loc = loc\n",
    "        self.pincode = pincode\n",
    "    # show methos needs to call explicitly    \n",
    "    def show(self):\n",
    "        print(self.no,self.name,self.loc,self.pincode)\n",
    "    \n",
    "dept = Dept(10,\"IT\",\"HitechCity\",500050)\n",
    "dept.show()"
   ]
  },
  {
   "cell_type": "code",
   "execution_count": 61,
   "metadata": {},
   "outputs": [
    {
     "name": "stdout",
     "output_type": "stream",
     "text": [
      "Department Informations.....\n",
      "   10 Information Technology Hyderabad\n",
      "--->.Employer Informations.....\n",
      "     1234 rposam Software Engineer\n"
     ]
    }
   ],
   "source": [
    "# Class inside class\n",
    "class Dept:\n",
    "    def __init__(self,no,name,loc):\n",
    "        self.no = no\n",
    "        self.name = name\n",
    "        self.loc = loc\n",
    "        self.employee = self.Employee()\n",
    "        \n",
    "    def show(self):        \n",
    "        print(\"Department Informations.....\")\n",
    "        print(\"  \",self.no,self.name,self.loc)\n",
    "        print(\"--->.Employer Informations.....\")\n",
    "        print(\"    \",self.employee.empno,self.employee.ename,self.employee.job)\n",
    "        \n",
    "        \n",
    "    class Employee:\n",
    "        def __init__(self):\n",
    "            self.empno = 1234\n",
    "            self.ename = \"rposam\"\n",
    "            self.job = \"Software Engineer\"\n",
    "            \n",
    "    \n",
    "    \n",
    "dept = Dept(10,\"Information Technology\",\"Hyderabad\")\n",
    "dept.show()"
   ]
  },
  {
   "cell_type": "code",
   "execution_count": 66,
   "metadata": {},
   "outputs": [
    {
     "name": "stdout",
     "output_type": "stream",
     "text": [
      "From A feature1\n",
      "From B feature2\n",
      "From B feature1\n",
      "From C feature1\n",
      "From D feature3\n",
      "From C feature1\n",
      "From A feature1\n",
      "From E feature4\n"
     ]
    }
   ],
   "source": [
    "# Inheritence(Multilevel,Multiple)\n",
    "class A:\n",
    "    def feature1(self):\n",
    "        print(\"From A feature1\")\n",
    "    \n",
    "class B:\n",
    "    def feature1(self):\n",
    "        print(\"From B feature1\")\n",
    "        \n",
    "    def feature2(self):\n",
    "        print(\"From B feature2\")\n",
    "\n",
    "class C(A):\n",
    "    def feature1(self):\n",
    "        print(\"From C feature1\")\n",
    "        \n",
    "class D(C):\n",
    "    def feature3(self):\n",
    "        print(\"From D feature3\")\n",
    "\n",
    "class E(A,B):\n",
    "    def feature4(self):\n",
    "        print(\"From E feature4\")\n",
    "    \n",
    "a = A()\n",
    "b = B()\n",
    "c = C()\n",
    "d = D()\n",
    "e = E()\n",
    "\n",
    "a.feature1()\n",
    "b.feature2()\n",
    "b.feature1()\n",
    "c.feature1()\n",
    "d.feature3()\n",
    "d.feature1()\n",
    "e.feature1()\n",
    "e.feature4()\n",
    "\n",
    "        "
   ]
  }
 ],
 "metadata": {
  "kernelspec": {
   "display_name": "Python 3",
   "language": "python",
   "name": "python3"
  },
  "language_info": {
   "codemirror_mode": {
    "name": "ipython",
    "version": 3
   },
   "file_extension": ".py",
   "mimetype": "text/x-python",
   "name": "python",
   "nbconvert_exporter": "python",
   "pygments_lexer": "ipython3",
   "version": "3.6.8"
  }
 },
 "nbformat": 4,
 "nbformat_minor": 4
}
