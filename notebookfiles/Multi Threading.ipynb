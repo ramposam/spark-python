{
 "cells": [
  {
   "cell_type": "code",
   "execution_count": 22,
   "metadata": {},
   "outputs": [
    {
     "name": "stdout",
     "output_type": "stream",
     "text": [
      "Reading file from: emp.csv\n",
      "*********Printing file data************\n",
      "    empno   ename        job     mgr    hiredate     sal    comm  deptno\n",
      "0    7369   SMITH      CLERK  7902.0  1980-12-17   800.0     NaN      20\n",
      "1    7499   ALLEN   SALESMAN  7698.0  1981-02-20  1600.0   300.0      30\n",
      "2    7521    WARD   SALESMAN  7698.0  1981-02-22  1250.0   500.0      30\n",
      "3    7566   JONES    MANAGER  7839.0  1981-04-02  2975.0     NaN      20\n",
      "4    7654  MARTIN   SALESMAN  7698.0  1981-09-28  1250.0  1400.0      30\n",
      "5    7698   BLAKE    MANAGER  7839.0  1981-05-01  2850.0     NaN      30\n",
      "6    7782   CLARK    MANAGER  7839.0  1981-06-09  2450.0     NaN      10\n",
      "7    7788   SCOTT    ANALYST  7566.0  1982-12-09  3000.0     NaN      20\n",
      "8    7839    KING  PRESIDENT     NaN  1981-11-17  5000.0     NaN      10\n",
      "9    7844  TURNER   SALESMAN  7698.0  1981-09-08  1500.0     0.0      30\n",
      "10   7876   ADAMS      CLERK  7788.0  1983-01-12  1100.0     NaN      20\n",
      "11   7900   JAMES      CLERK  7698.0  1981-12-03   950.0     NaN      30\n",
      "12   7902    FORD    ANALYST  7566.0  1981-12-03  3000.0     NaN      20\n",
      "13   7934  MILLER      CLERK  7782.0  1982-01-23  1300.0     NaN      10\n",
      "Load file completed: emp.csv\n",
      "Reading file from: dept.csv\n",
      "*********Printing file data************\n",
      "   10  ACCOUNTING NEW YORK\n",
      "0  20    RESEARCH   DALLAS\n",
      "1  30       SALES  CHICAGO\n",
      "2  40  OPERATIONS   BOSTON\n",
      "3  40       SALES   DALLAS\n",
      "Load file completed: dept.csv\n",
      "Total time taken for completion: 1.0175187587738037\n"
     ]
    }
   ],
   "source": [
    "import pandas as pd\n",
    "import os\n",
    "import threading \n",
    "import time\n",
    "path_1 = \"emp.csv\"\n",
    "path_2 = \"dept.csv\"\n",
    "\n",
    "def read_file(path):\n",
    "    print(\"Reading file from:\",path)\n",
    "    global df\n",
    "    df = pd.read_csv(path)\n",
    "    print(\"*********Printing file data************\")\n",
    "    print(df)\n",
    "    time.sleep(0.5)   \n",
    "    print(\"Load file completed:\",path)\n",
    "\n",
    "t = time.time()\n",
    "## these two funcation calls will be run as sequential\n",
    "read_file(path_1)\n",
    "read_file(path_2)\n",
    "print(\"Total time taken for completion:\",time.time()-t)\n",
    "    "
   ]
  },
  {
   "cell_type": "code",
   "execution_count": 23,
   "metadata": {},
   "outputs": [
    {
     "name": "stdout",
     "output_type": "stream",
     "text": [
      "Reading file from: emp.csv\n",
      "Reading file from:*********Printing file data************ dept.csv\n",
      "    empno   ename        job     mgr    hiredate     sal    comm  deptno\n",
      "0    7369   SMITH      CLERK  7902.0  1980-12-17   800.0     NaN      20\n",
      "1    7499   ALLEN   SALESMAN  7698.0  1981-02-20  1600.0   300.0      30\n",
      "2    7521    WARD   SALESMAN  7698.0  1981-02-22  1250.0   500.0      30\n",
      "3    7566   JONES    MANAGER  7839.0  1981-04-02  2975.0     NaN      20\n",
      "4    7654  MARTIN   SALESMAN  7698.0  1981-09-28  1250.0  1400.0      30\n",
      "5    7698   BLAKE    MANAGER  7839.0  1981-05-01  2850.0     NaN      30\n",
      "6    7782   CLARK    MANAGER  7839.0  1981-06-09  2450.0     NaN      10\n",
      "7    7788   SCOTT    ANALYST  7566.0  1982-12-09  3000.0     NaN      20\n",
      "8    7839    KING  PRESIDENT     NaN  1981-11-17  5000.0     NaN      10\n",
      "9    7844  TURNER   SALESMAN  7698.0  1981-09-08  1500.0     0.0      30\n",
      "10   7876   ADAMS      CLERK  7788.0  1983-01-12  1100.0     NaN      20\n",
      "11   7900   JAMES      CLERK  7698.0  1981-12-03   950.0     NaN      30\n",
      "12   7902    FORD    ANALYST  7566.0  1981-12-03  3000.0     NaN      20\n",
      "13   7934  MILLER      CLERK  7782.0  1982-01-23  1300.0     NaN      10\n",
      "\n",
      "*********Printing file data************\n",
      "   10  ACCOUNTING NEW YORK\n",
      "0  20    RESEARCH   DALLAS\n",
      "1  30       SALES  CHICAGO\n",
      "2  40  OPERATIONS   BOSTON\n",
      "3  40       SALES   DALLAS\n",
      "Load file completed: emp.csv\n",
      "Load file completed: dept.csv\n",
      "Total time taken for completion: 0.5175487995147705\n"
     ]
    }
   ],
   "source": [
    "t = time.time()\n",
    "## Creating two threads to run it in parallel if any one is idle\n",
    "t1=threading.Thread(target=read_file,args=(path_1,))\n",
    "t2=threading.Thread(target=read_file,args=(path_2,))\n",
    "\n",
    "##starting two threads\n",
    "t1.start()\n",
    "t2.start()\n",
    "\n",
    "## if first thread is idle then second thread starts executing\n",
    "t1.join()\n",
    "t2.join()\n",
    "print(\"Total time taken for completion:\",time.time()-t)\n"
   ]
  }
 ],
 "metadata": {
  "kernelspec": {
   "display_name": "Python 3",
   "language": "python",
   "name": "python3"
  },
  "language_info": {
   "codemirror_mode": {
    "name": "ipython",
    "version": 3
   },
   "file_extension": ".py",
   "mimetype": "text/x-python",
   "name": "python",
   "nbconvert_exporter": "python",
   "pygments_lexer": "ipython3",
   "version": "3.6.8"
  }
 },
 "nbformat": 4,
 "nbformat_minor": 4
}
