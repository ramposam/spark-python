{
 "cells": [
  {
   "cell_type": "code",
   "execution_count": null,
   "metadata": {},
   "outputs": [],
   "source": [
    "#create a namespace(like schema in RDBMS)\n",
    "create_namespace 'rposam'"
   ]
  },
  {
   "cell_type": "code",
   "execution_count": null,
   "metadata": {},
   "outputs": [],
   "source": [
    "#to drop a created namespace(only empty namespaes can be deleted)\n",
    "drop_namespace 'rposam'"
   ]
  },
  {
   "cell_type": "code",
   "execution_count": null,
   "metadata": {},
   "outputs": [],
   "source": [
    "#to see list of tables under the namespaces\n",
    "list_namespace_tables 'rposam'"
   ]
  },
  {
   "cell_type": "code",
   "execution_count": null,
   "metadata": {},
   "outputs": [],
   "source": [
    "#to create a table under namespace(like scehma.table) \n",
    "#table must have atleast one column family\n",
    "create 'rposam:dept'"
   ]
  },
  {
   "cell_type": "code",
   "execution_count": null,
   "metadata": {},
   "outputs": [],
   "source": [
    "#to create table with column family\n",
    "#column family is nothing but group of columns\n",
    "create 'rposam:dept','col_fam_int'"
   ]
  },
  {
   "cell_type": "code",
   "execution_count": null,
   "metadata": {},
   "outputs": [],
   "source": [
    "#to describe table\n",
    "describe 'rposam:dept'"
   ]
  },
  {
   "cell_type": "code",
   "execution_count": null,
   "metadata": {},
   "outputs": [],
   "source": [
    "#to insert a row into the table\n",
    "#format will be like (schema.tablename,rowkey,columnfaimly:column_name,value)\n",
    "#creating 4 rows for only column i.e deptno\n",
    "put 'rposam:dept',1,'col_fam_int:deptno',10\n",
    "put 'rposam:dept',2,'col_fam_int:deptno',20\n",
    "put 'rposam:dept',3,'col_fam_int:deptno',30\n",
    "put 'rposam:dept',4,'col_fam_int:deptno',40"
   ]
  },
  {
   "cell_type": "code",
   "execution_count": null,
   "metadata": {},
   "outputs": [],
   "source": [
    "#To add another column family to the table\n",
    "alter 'rposam:dept','col_fam_string'"
   ]
  },
  {
   "cell_type": "code",
   "execution_count": null,
   "metadata": {},
   "outputs": [],
   "source": [
    "#insert other column dname\n",
    "put 'rposam:dept',1,'col_fam_string:dname','ACCOUNTING'\n",
    "put 'rposam:dept',2,'col_fam_string:dname','RESEARCH'\n",
    "put 'rposam:dept',3,'col_fam_string:dname','SALES'\n",
    "put 'rposam:dept',4,'col_fam_string:dname','OPERATIONS'\n",
    "\n",
    "#insert location column with data\n",
    "put 'rposam:dept',1,'col_fam_string:loc','NEW YORK'\n",
    "put 'rposam:dept',2,'col_fam_string:loc','DALLAS'\n",
    "put 'rposam:dept',3,'col_fam_string:loc','CHICAGO'\n",
    "put 'rposam:dept',4,'col_fam_string:loc','BOSTON'"
   ]
  },
  {
   "cell_type": "code",
   "execution_count": null,
   "metadata": {},
   "outputs": [],
   "source": [
    "#to get each row values for all available columns\n",
    "get 'rposam:dept',1"
   ]
  },
  {
   "cell_type": "code",
   "execution_count": null,
   "metadata": {},
   "outputs": [],
   "source": [
    "#to get specfic columns of a row\n",
    "get 'rposam:dept',1,['col_fam_int:deptno','col_fam_string:dname']"
   ]
  },
  {
   "cell_type": "code",
   "execution_count": null,
   "metadata": {},
   "outputs": [],
   "source": [
    "#to get specific row columns or column families\n",
    "get 'rposam:dept',1,['col_fam_int:deptno','col_fam_string']"
   ]
  },
  {
   "cell_type": "code",
   "execution_count": null,
   "metadata": {},
   "outputs": [],
   "source": [
    "#Delete one rowkey value\n",
    "delete 'rposam:dept',1,\"col_fam_int:deptno\"\n",
    "delete 'rposam:dept',1,\"col_fam_string:dname\"\n",
    "delete 'rposam:dept',1,\"col_fam_string:loc\""
   ]
  },
  {
   "cell_type": "code",
   "execution_count": null,
   "metadata": {},
   "outputs": [],
   "source": [
    "#to delete all row values(single row at a time)\n",
    "deleteall 'rposam:dept',2\n",
    "deleteall 'rposam:dept',3"
   ]
  },
  {
   "cell_type": "code",
   "execution_count": null,
   "metadata": {},
   "outputs": [],
   "source": [
    "#To get all the rows of a single column or multiple columns\n",
    "scan 'rposam:dept',{COLUMNS => 'col_fam_int:deptno'}\n",
    "scan 'rposam:dept',{COLUMNS => ['col_fam_string:dname','col_fam_string:loc']}"
   ]
  },
  {
   "cell_type": "code",
   "execution_count": null,
   "metadata": {},
   "outputs": [],
   "source": [
    "#To get all the rows of a single column family or multiple column families\n",
    "scan 'rposam:dept',{COLUMNS => 'col_fam_int'}\n",
    "scan 'rposam:dept',{COLUMNS => ['col_fam_string','col_fam_string']}"
   ]
  },
  {
   "cell_type": "code",
   "execution_count": null,
   "metadata": {},
   "outputs": [],
   "source": [
    "#to get all columns and rows of columns family and one column of another column family\n",
    "scan 'rposam:dept',{COLUMNS => ['col_fam_int','col_fam_string:dname']}"
   ]
  },
  {
   "cell_type": "code",
   "execution_count": null,
   "metadata": {},
   "outputs": [],
   "source": [
    "#to drop a table first we need to disable and drop\n",
    "disable 'rposam:dept'\n",
    "drop 'rposam:dept'"
   ]
  },
  {
   "cell_type": "code",
   "execution_count": null,
   "metadata": {},
   "outputs": [],
   "source": [
    "#to create table in hive for which table already exists in hbase\n",
    "#you can only create it in hive not in spark-sql\n",
    "CREATE EXTERNAL TABLE rposam_db.hbase_dept(rownum int,deptno int, dname string,loc string)\n",
    "STORED BY 'org.apache.hadoop.hive.hbase.HBaseStorageHandler'\n",
    "WITH SERDEPROPERTIES(\"hbase.columns.mapping\"=\n",
    "                     \":key,col_fam_int:deptno,col_fam_string:dname,col_fam_string:loc\")\n",
    "TBLPROPERTIES(\"hbase.table.name\"=\"rposam:dept\");"
   ]
  },
  {
   "cell_type": "code",
   "execution_count": null,
   "metadata": {},
   "outputs": [],
   "source": [
    "#to create hive table as well as hbase table\n",
    "CREATE TABLE rposam_db.hbase_dept_temp(rownum int,deptno int, dname string,loc string)\n",
    "STORED BY 'org.apache.hadoop.hive.hbase.HBaseStorageHandler'\n",
    "WITH SERDEPROPERTIES(\"hbase.columns.mapping\"=\n",
    "                     \":key,col_fam_int:deptno,col_fam_string:dname,col_fam_string:loc\")\n",
    "TBLPROPERTIES(\"hbase.table.name\"=\"rposam:dept_temp\");"
   ]
  },
  {
   "cell_type": "code",
   "execution_count": null,
   "metadata": {},
   "outputs": [],
   "source": [
    "#if you drop table from hive it drops it from hbase also"
   ]
  }
 ],
 "metadata": {
  "kernelspec": {
   "display_name": "Pyspark 2",
   "language": "python",
   "name": "pyspark2"
  },
  "language_info": {
   "codemirror_mode": {
    "name": "ipython",
    "version": 3
   },
   "file_extension": ".py",
   "mimetype": "text/x-python",
   "name": "python",
   "nbconvert_exporter": "python",
   "pygments_lexer": "ipython3",
   "version": "3.6.8"
  }
 },
 "nbformat": 4,
 "nbformat_minor": 4
}
