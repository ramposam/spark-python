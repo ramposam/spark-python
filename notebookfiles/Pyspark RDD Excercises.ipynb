{
 "cells": [
  {
   "cell_type": "code",
   "execution_count": 1,
   "metadata": {},
   "outputs": [],
   "source": [
    "from pyspark.sql import SparkSession\n",
    "import pyspark.sql.functions as f"
   ]
  },
  {
   "cell_type": "code",
   "execution_count": 2,
   "metadata": {},
   "outputs": [],
   "source": [
    "spark =  SparkSession.builder \\\n",
    "     .master('local') \\\n",
    "     .appName(\"Pyspark RDD Practises\") \\\n",
    "     .getOrCreate()"
   ]
  },
  {
   "cell_type": "code",
   "execution_count": 3,
   "metadata": {},
   "outputs": [],
   "source": [
    "sc = spark.sparkContext"
   ]
  },
  {
   "cell_type": "code",
   "execution_count": 4,
   "metadata": {},
   "outputs": [],
   "source": [
    "file = sc.textFile(\"data/emp_huge.csv\",3)"
   ]
  },
  {
   "cell_type": "code",
   "execution_count": 5,
   "metadata": {},
   "outputs": [
    {
     "data": {
      "text/plain": [
       "pyspark.rdd.RDD"
      ]
     },
     "execution_count": 5,
     "metadata": {},
     "output_type": "execute_result"
    }
   ],
   "source": [
    "type(file)"
   ]
  },
  {
   "cell_type": "code",
   "execution_count": 6,
   "metadata": {},
   "outputs": [
    {
     "data": {
      "text/plain": [
       "3"
      ]
     },
     "execution_count": 6,
     "metadata": {},
     "output_type": "execute_result"
    }
   ],
   "source": [
    "file.getNumPartitions()"
   ]
  },
  {
   "cell_type": "code",
   "execution_count": 7,
   "metadata": {},
   "outputs": [
    {
     "data": {
      "text/plain": [
       "['36629,7698.0,BLAKE,MANAGER,7839.0,1981-05-01,2850.0,,30.0',\n",
       " '115800,7782.0,CLARK,MANAGER,7839.0,1981-06-09,2450.0,,10.0',\n",
       " '136449,7698.0,BLAKE,MANAGER,7839.0,1981-05-01,2850.0,,30.0',\n",
       " '146740,7782.0,CLARK,MANAGER,7839.0,1981-06-09,2450.0,,10.0',\n",
       " '230609,7499.0,ALLEN,SALESMAN,7698.0,1981-02-20,1600.0,300.0,30.0',\n",
       " '231301,7788.0,SCOTT,ANALYST,7566.0,1982-12-09,3000.0,,20.0',\n",
       " '291036,7654.0,MARTIN,SALESMAN,7698.0,1981-09-28,1250.0,1400.0,30.0',\n",
       " '308457,7844.0,TURNER,SALESMAN,7698.0,1981-09-08,1500.0,0.0,30.0',\n",
       " '348135,7900.0,JAMES,CLERK,7698.0,1981-12-03,950.0,,30.0',\n",
       " '413991,7900.0,JAMES,CLERK,7698.0,1981-12-03,950.0,,30.0',\n",
       " '430464,7782.0,CLARK,MANAGER,7839.0,1981-06-09,2450.0,,10.0',\n",
       " '445306,7839.0,KING,PRESIDENT,,1981-11-17,5000.0,,10.0',\n",
       " '463506,7839.0,KING,PRESIDENT,,1981-11-17,5000.0,,10.0',\n",
       " '516058,7654.0,MARTIN,SALESMAN,7698.0,1981-09-28,1250.0,1400.0,30.0',\n",
       " '517152,7782.0,CLARK,MANAGER,7839.0,1981-06-09,2450.0,,10.0',\n",
       " '532335,7934.0,MILLER,CLERK,7782.0,1982-01-23,1300.0,,10.0',\n",
       " '658485,7844.0,TURNER,SALESMAN,7698.0,1981-09-08,1500.0,0.0,30.0',\n",
       " '670051,7900.0,JAMES,CLERK,7698.0,1981-12-03,950.0,,30.0',\n",
       " '691912,7566.0,JONES,MANAGER,7839.0,1981-04-02,2975.0,,20.0',\n",
       " '750942,7844.0,TURNER,SALESMAN,7698.0,1981-09-08,1500.0,0.0,30.0',\n",
       " '777738,7844.0,TURNER,SALESMAN,7698.0,1981-09-08,1500.0,0.0,30.0',\n",
       " '816646,7900.0,JAMES,CLERK,7698.0,1981-12-03,950.0,,30.0',\n",
       " '833428,7788.0,SCOTT,ANALYST,7566.0,1982-12-09,3000.0,,20.0',\n",
       " '848845,7876.0,ADAMS,CLERK,7788.0,1983-01-12,1100.0,,20.0',\n",
       " '905067,7839.0,KING,PRESIDENT,,1981-11-17,5000.0,,10.0',\n",
       " '952128,7499.0,ALLEN,SALESMAN,7698.0,1981-02-20,1600.0,300.0,30.0',\n",
       " '955820,7900.0,JAMES,CLERK,7698.0,1981-12-03,950.0,,30.0',\n",
       " '959908,7900.0,JAMES,CLERK,7698.0,1981-12-03,950.0,,30.0',\n",
       " '975091,7654.0,MARTIN,SALESMAN,7698.0,1981-09-28,1250.0,1400.0,30.0',\n",
       " '978736,7844.0,TURNER,SALESMAN,7698.0,1981-09-08,1500.0,0.0,30.0',\n",
       " '1009361,7521.0,WARD,SALESMAN,7698.0,1981-02-22,1250.0,500.0,30.0',\n",
       " '1035911,7839.0,KING,PRESIDENT,,1981-11-17,5000.0,,10.0',\n",
       " '1041630,7499.0,ALLEN,SALESMAN,7698.0,1981-02-20,1600.0,300.0,30.0',\n",
       " '1067011,7369.0,SMITH,CLERK,7902.0,1980-12-17,800.0,,20.0',\n",
       " '1082585,7782.0,CLARK,MANAGER,7839.0,1981-06-09,2450.0,,10.0',\n",
       " '1082800,7900.0,JAMES,CLERK,7698.0,1981-12-03,950.0,,30.0',\n",
       " '1132159,7782.0,CLARK,MANAGER,7839.0,1981-06-09,2450.0,,10.0',\n",
       " '1135563,7839.0,KING,PRESIDENT,,1981-11-17,5000.0,,10.0',\n",
       " '1141259,7782.0,CLARK,MANAGER,7839.0,1981-06-09,2450.0,,10.0',\n",
       " '1147986,7934.0,MILLER,CLERK,7782.0,1982-01-23,1300.0,,10.0',\n",
       " '1180391,7839.0,KING,PRESIDENT,,1981-11-17,5000.0,,10.0',\n",
       " '1203363,7782.0,CLARK,MANAGER,7839.0,1981-06-09,2450.0,,10.0',\n",
       " '1204526,7788.0,SCOTT,ANALYST,7566.0,1982-12-09,3000.0,,20.0',\n",
       " '1212902,7900.0,JAMES,CLERK,7698.0,1981-12-03,950.0,,30.0',\n",
       " '1215553,7521.0,WARD,SALESMAN,7698.0,1981-02-22,1250.0,500.0,30.0',\n",
       " '1218424,7566.0,JONES,MANAGER,7839.0,1981-04-02,2975.0,,20.0',\n",
       " '1221203,7876.0,ADAMS,CLERK,7788.0,1983-01-12,1100.0,,20.0',\n",
       " '1262956,7499.0,ALLEN,SALESMAN,7698.0,1981-02-20,1600.0,300.0,30.0',\n",
       " '1287593,7902.0,FORD,ANALYST,7566.0,1981-12-03,3000.0,,20.0',\n",
       " '1292561,7876.0,ADAMS,CLERK,7788.0,1983-01-12,1100.0,,20.0',\n",
       " '1296141,7782.0,CLARK,MANAGER,7839.0,1981-06-09,2450.0,,10.0',\n",
       " '1311740,7844.0,TURNER,SALESMAN,7698.0,1981-09-08,1500.0,0.0,30.0']"
      ]
     },
     "execution_count": 7,
     "metadata": {},
     "output_type": "execute_result"
    }
   ],
   "source": [
    "file.sample(False,0.000035).collect()"
   ]
  },
  {
   "cell_type": "code",
   "execution_count": 8,
   "metadata": {},
   "outputs": [],
   "source": [
    "#Function return tuple if valid value else return None\n",
    "#if you are converting empty string to float then it gives error(couldn't convert string to float)\n",
    "def each_line_to_tuple(lines):\n",
    "    c = lines.split(',') \n",
    "    t = None\n",
    "    def convert_string_float(x):\n",
    "        try:\n",
    "            x = float(x)\n",
    "        except:\n",
    "            x = 0.00\n",
    "        return x\n",
    "    def convert_string_int(x):\n",
    "        try:\n",
    "            x = int(float(x))\n",
    "        except:\n",
    "            print(x)\n",
    "            x = 0\n",
    "        return x\n",
    "    try:\n",
    "        if c[1]!='empno':\n",
    "            t = (int(float(c[1])),c[2],c[3],convert_string_int(c[4]),c[5],float(c[6]),convert_string_float(c[7]),convert_string_int(c[8]))\n",
    "    except:\n",
    "        print(c)\n",
    "    return t"
   ]
  },
  {
   "cell_type": "code",
   "execution_count": 9,
   "metadata": {},
   "outputs": [
    {
     "data": {
      "text/plain": [
       "[(7499, 'ALLEN', 'SALESMAN', 7698, '1981-02-20', 1600.0, 300.0, 30),\n",
       " (7521, 'WARD', 'SALESMAN', 7698, '1981-02-22', 1250.0, 500.0, 30),\n",
       " (7566, 'JONES', 'MANAGER', 7839, '1981-04-02', 2975.0, 0.0, 20),\n",
       " (7654, 'MARTIN', 'SALESMAN', 7698, '1981-09-28', 1250.0, 1400.0, 30),\n",
       " (7698, 'BLAKE', 'MANAGER', 7839, '1981-05-01', 2850.0, 0.0, 30)]"
      ]
     },
     "execution_count": 9,
     "metadata": {},
     "output_type": "execute_result"
    }
   ],
   "source": [
    "#Convert each value in index to tuple and then remove None values from pipelined RDD\n",
    "file_map = file.map(each_line_to_tuple)\n",
    "filter_none = file_map.filter(lambda x:x!=None)\n",
    "filter_none.take(5)\n"
   ]
  },
  {
   "cell_type": "code",
   "execution_count": 10,
   "metadata": {},
   "outputs": [],
   "source": [
    "filter_30 = filter_none.filter(lambda row: row[7] == (30))"
   ]
  },
  {
   "cell_type": "code",
   "execution_count": 11,
   "metadata": {},
   "outputs": [
    {
     "data": {
      "text/plain": [
       "[(7499, 'ALLEN', 'SALESMAN', 7698, '1981-02-20', 1600.0, 300.0, 30),\n",
       " (7521, 'WARD', 'SALESMAN', 7698, '1981-02-22', 1250.0, 500.0, 30),\n",
       " (7654, 'MARTIN', 'SALESMAN', 7698, '1981-09-28', 1250.0, 1400.0, 30),\n",
       " (7698, 'BLAKE', 'MANAGER', 7839, '1981-05-01', 2850.0, 0.0, 30),\n",
       " (7844, 'TURNER', 'SALESMAN', 7698, '1981-09-08', 1500.0, 0.0, 30),\n",
       " (7900, 'JAMES', 'CLERK', 7698, '1981-12-03', 950.0, 0.0, 30),\n",
       " (7499, 'ALLEN', 'SALESMAN', 7698, '1981-02-20', 1600.0, 300.0, 30),\n",
       " (7521, 'WARD', 'SALESMAN', 7698, '1981-02-22', 1250.0, 500.0, 30),\n",
       " (7654, 'MARTIN', 'SALESMAN', 7698, '1981-09-28', 1250.0, 1400.0, 30),\n",
       " (7698, 'BLAKE', 'MANAGER', 7839, '1981-05-01', 2850.0, 0.0, 30)]"
      ]
     },
     "execution_count": 11,
     "metadata": {},
     "output_type": "execute_result"
    }
   ],
   "source": [
    "filter_30.take(10)"
   ]
  },
  {
   "cell_type": "code",
   "execution_count": 12,
   "metadata": {},
   "outputs": [],
   "source": [
    "df = spark.createDataFrame(filter_none)"
   ]
  },
  {
   "cell_type": "code",
   "execution_count": 13,
   "metadata": {},
   "outputs": [
    {
     "name": "stdout",
     "output_type": "stream",
     "text": [
      "root\n",
      " |-- _1: long (nullable = true)\n",
      " |-- _2: string (nullable = true)\n",
      " |-- _3: string (nullable = true)\n",
      " |-- _4: long (nullable = true)\n",
      " |-- _5: string (nullable = true)\n",
      " |-- _6: double (nullable = true)\n",
      " |-- _7: double (nullable = true)\n",
      " |-- _8: long (nullable = true)\n",
      "\n"
     ]
    }
   ],
   "source": [
    "df.printSchema()"
   ]
  },
  {
   "cell_type": "code",
   "execution_count": 14,
   "metadata": {},
   "outputs": [
    {
     "name": "stdout",
     "output_type": "stream",
     "text": [
      "+----+------+---------+----+----------+------+------+---+\n",
      "|  _1|    _2|       _3|  _4|        _5|    _6|    _7| _8|\n",
      "+----+------+---------+----+----------+------+------+---+\n",
      "|7499| ALLEN| SALESMAN|7698|1981-02-20|1600.0| 300.0| 30|\n",
      "|7521|  WARD| SALESMAN|7698|1981-02-22|1250.0| 500.0| 30|\n",
      "|7566| JONES|  MANAGER|7839|1981-04-02|2975.0|   0.0| 20|\n",
      "|7654|MARTIN| SALESMAN|7698|1981-09-28|1250.0|1400.0| 30|\n",
      "|7698| BLAKE|  MANAGER|7839|1981-05-01|2850.0|   0.0| 30|\n",
      "|7782| CLARK|  MANAGER|7839|1981-06-09|2450.0|   0.0| 10|\n",
      "|7788| SCOTT|  ANALYST|7566|1982-12-09|3000.0|   0.0| 20|\n",
      "|7839|  KING|PRESIDENT|   0|1981-11-17|5000.0|   0.0| 10|\n",
      "|7844|TURNER| SALESMAN|7698|1981-09-08|1500.0|   0.0| 30|\n",
      "|7876| ADAMS|    CLERK|7788|1983-01-12|1100.0|   0.0| 20|\n",
      "|7900| JAMES|    CLERK|7698|1981-12-03| 950.0|   0.0| 30|\n",
      "|7902|  FORD|  ANALYST|7566|1981-12-03|3000.0|   0.0| 20|\n",
      "|7934|MILLER|    CLERK|7782|1982-01-23|1300.0|   0.0| 10|\n",
      "|7369| SMITH|    CLERK|7902|1980-12-17| 800.0|   0.0| 20|\n",
      "|7499| ALLEN| SALESMAN|7698|1981-02-20|1600.0| 300.0| 30|\n",
      "|7521|  WARD| SALESMAN|7698|1981-02-22|1250.0| 500.0| 30|\n",
      "|7566| JONES|  MANAGER|7839|1981-04-02|2975.0|   0.0| 20|\n",
      "|7654|MARTIN| SALESMAN|7698|1981-09-28|1250.0|1400.0| 30|\n",
      "|7698| BLAKE|  MANAGER|7839|1981-05-01|2850.0|   0.0| 30|\n",
      "|7782| CLARK|  MANAGER|7839|1981-06-09|2450.0|   0.0| 10|\n",
      "+----+------+---------+----+----------+------+------+---+\n",
      "only showing top 20 rows\n",
      "\n"
     ]
    }
   ],
   "source": [
    "df.show()"
   ]
  },
  {
   "cell_type": "code",
   "execution_count": 15,
   "metadata": {},
   "outputs": [],
   "source": [
    "emp_rdd = sc.parallelize(filter_none.take(20),3)"
   ]
  },
  {
   "cell_type": "code",
   "execution_count": 16,
   "metadata": {},
   "outputs": [
    {
     "data": {
      "text/plain": [
       "[(30, 16350.0), (10, 11200.0), (20, 13850.0)]"
      ]
     },
     "execution_count": 16,
     "metadata": {},
     "output_type": "execute_result"
    }
   ],
   "source": [
    "#get total salary for each deptno\n",
    "emp_key_value = emp_rdd.map(lambda row:(row[7],row[5])).reduceByKey(lambda x,y:x+y)\n",
    "emp_key_value.collect()"
   ]
  },
  {
   "cell_type": "code",
   "execution_count": 20,
   "metadata": {},
   "outputs": [],
   "source": [
    "def partition_count(partition):\n",
    "    total_sal = 0.0\n",
    "    for row in partition:\n",
    "        total_sal += float(row[5])\n",
    "    yield  'Partition Total Sal:{0}'.format(total_sal)"
   ]
  },
  {
   "cell_type": "code",
   "execution_count": 18,
   "metadata": {},
   "outputs": [
    {
     "data": {
      "text/plain": [
       "[[(7499, 'ALLEN', 'SALESMAN', 7698, '1981-02-20', 1600.0, 300.0, 30),\n",
       "  (7521, 'WARD', 'SALESMAN', 7698, '1981-02-22', 1250.0, 500.0, 30),\n",
       "  (7566, 'JONES', 'MANAGER', 7839, '1981-04-02', 2975.0, 0.0, 20),\n",
       "  (7654, 'MARTIN', 'SALESMAN', 7698, '1981-09-28', 1250.0, 1400.0, 30),\n",
       "  (7698, 'BLAKE', 'MANAGER', 7839, '1981-05-01', 2850.0, 0.0, 30),\n",
       "  (7782, 'CLARK', 'MANAGER', 7839, '1981-06-09', 2450.0, 0.0, 10)],\n",
       " [(7788, 'SCOTT', 'ANALYST', 7566, '1982-12-09', 3000.0, 0.0, 20),\n",
       "  (7839, 'KING', 'PRESIDENT', 0, '1981-11-17', 5000.0, 0.0, 10),\n",
       "  (7844, 'TURNER', 'SALESMAN', 7698, '1981-09-08', 1500.0, 0.0, 30),\n",
       "  (7876, 'ADAMS', 'CLERK', 7788, '1983-01-12', 1100.0, 0.0, 20),\n",
       "  (7900, 'JAMES', 'CLERK', 7698, '1981-12-03', 950.0, 0.0, 30),\n",
       "  (7902, 'FORD', 'ANALYST', 7566, '1981-12-03', 3000.0, 0.0, 20)],\n",
       " [(7934, 'MILLER', 'CLERK', 7782, '1982-01-23', 1300.0, 0.0, 10),\n",
       "  (7369, 'SMITH', 'CLERK', 7902, '1980-12-17', 800.0, 0.0, 20),\n",
       "  (7499, 'ALLEN', 'SALESMAN', 7698, '1981-02-20', 1600.0, 300.0, 30),\n",
       "  (7521, 'WARD', 'SALESMAN', 7698, '1981-02-22', 1250.0, 500.0, 30),\n",
       "  (7566, 'JONES', 'MANAGER', 7839, '1981-04-02', 2975.0, 0.0, 20),\n",
       "  (7654, 'MARTIN', 'SALESMAN', 7698, '1981-09-28', 1250.0, 1400.0, 30),\n",
       "  (7698, 'BLAKE', 'MANAGER', 7839, '1981-05-01', 2850.0, 0.0, 30),\n",
       "  (7782, 'CLARK', 'MANAGER', 7839, '1981-06-09', 2450.0, 0.0, 10)]]"
      ]
     },
     "execution_count": 18,
     "metadata": {},
     "output_type": "execute_result"
    }
   ],
   "source": [
    "emp_rdd.glom().collect()"
   ]
  },
  {
   "cell_type": "code",
   "execution_count": 21,
   "metadata": {},
   "outputs": [
    {
     "data": {
      "text/plain": [
       "['Partition Total Sal:12375.0',\n",
       " 'Partition Total Sal:14550.0',\n",
       " 'Partition Total Sal:14475.0']"
      ]
     },
     "execution_count": 21,
     "metadata": {},
     "output_type": "execute_result"
    }
   ],
   "source": [
    "each_part_count = emp_rdd.mapPartitions(partition_count)\n",
    "each_part_count.collect()"
   ]
  },
  {
   "cell_type": "code",
   "execution_count": 22,
   "metadata": {},
   "outputs": [],
   "source": [
    "def partition_with_idx_count(index,partition):\n",
    "    total_sal = 0.0\n",
    "    for row in partition:\n",
    "        total_sal += float(row[5])\n",
    "    yield  'Partition {0} Total Sal:{1}'.format(index,total_sal)"
   ]
  },
  {
   "cell_type": "code",
   "execution_count": 23,
   "metadata": {},
   "outputs": [
    {
     "data": {
      "text/plain": [
       "['Partition 0 Total Sal:12375.0',\n",
       " 'Partition 1 Total Sal:14550.0',\n",
       " 'Partition 2 Total Sal:14475.0']"
      ]
     },
     "execution_count": 23,
     "metadata": {},
     "output_type": "execute_result"
    }
   ],
   "source": [
    "each_part_count = emp_rdd.mapPartitionsWithIndex(partition_with_idx_count)\n",
    "each_part_count.collect()"
   ]
  },
  {
   "cell_type": "code",
   "execution_count": 24,
   "metadata": {},
   "outputs": [],
   "source": [
    "emp_rdd_distinct = emp_rdd.distinct()"
   ]
  },
  {
   "cell_type": "code",
   "execution_count": 25,
   "metadata": {},
   "outputs": [
    {
     "data": {
      "text/plain": [
       "[(7782, 'CLARK', 'MANAGER', 7839, '1981-06-09', 2450.0, 0.0, 10),\n",
       " (7934, 'MILLER', 'CLERK', 7782, '1982-01-23', 1300.0, 0.0, 10),\n",
       " (7499, 'ALLEN', 'SALESMAN', 7698, '1981-02-20', 1600.0, 300.0, 30),\n",
       " (7844, 'TURNER', 'SALESMAN', 7698, '1981-09-08', 1500.0, 0.0, 30),\n",
       " (7902, 'FORD', 'ANALYST', 7566, '1981-12-03', 3000.0, 0.0, 20),\n",
       " (7521, 'WARD', 'SALESMAN', 7698, '1981-02-22', 1250.0, 500.0, 30),\n",
       " (7566, 'JONES', 'MANAGER', 7839, '1981-04-02', 2975.0, 0.0, 20),\n",
       " (7698, 'BLAKE', 'MANAGER', 7839, '1981-05-01', 2850.0, 0.0, 30),\n",
       " (7788, 'SCOTT', 'ANALYST', 7566, '1982-12-09', 3000.0, 0.0, 20),\n",
       " (7876, 'ADAMS', 'CLERK', 7788, '1983-01-12', 1100.0, 0.0, 20),\n",
       " (7839, 'KING', 'PRESIDENT', 0, '1981-11-17', 5000.0, 0.0, 10),\n",
       " (7654, 'MARTIN', 'SALESMAN', 7698, '1981-09-28', 1250.0, 1400.0, 30),\n",
       " (7900, 'JAMES', 'CLERK', 7698, '1981-12-03', 950.0, 0.0, 30),\n",
       " (7369, 'SMITH', 'CLERK', 7902, '1980-12-17', 800.0, 0.0, 20)]"
      ]
     },
     "execution_count": 25,
     "metadata": {},
     "output_type": "execute_result"
    }
   ],
   "source": [
    "emp_rdd.intersection(emp_rdd_distinct).collect()"
   ]
  },
  {
   "cell_type": "code",
   "execution_count": 26,
   "metadata": {},
   "outputs": [
    {
     "data": {
      "text/plain": [
       "UnionRDD[39] at union at NativeMethodAccessorImpl.java:0"
      ]
     },
     "execution_count": 26,
     "metadata": {},
     "output_type": "execute_result"
    }
   ],
   "source": [
    "emp_rdd.union(emp_rdd_distinct)"
   ]
  },
  {
   "cell_type": "code",
   "execution_count": 27,
   "metadata": {},
   "outputs": [
    {
     "data": {
      "text/plain": [
       "[(30, <pyspark.resultiterable.ResultIterable at 0x7f9d40ee3198>),\n",
       " (10, <pyspark.resultiterable.ResultIterable at 0x7f9d40ee3748>),\n",
       " (20, <pyspark.resultiterable.ResultIterable at 0x7f9d40f33c18>)]"
      ]
     },
     "execution_count": 27,
     "metadata": {},
     "output_type": "execute_result"
    }
   ],
   "source": [
    "emp_rdd.map(lambda row:(row[7],row)).groupByKey().collect()"
   ]
  },
  {
   "cell_type": "code",
   "execution_count": 28,
   "metadata": {},
   "outputs": [
    {
     "data": {
      "text/plain": [
       "[(30, 16350.0), (10, 11200.0), (20, 13850.0)]"
      ]
     },
     "execution_count": 28,
     "metadata": {},
     "output_type": "execute_result"
    }
   ],
   "source": [
    "#Each deptno total sum using reduceByKey\n",
    "emp_rdd.map(lambda row: (row[7],row[5])).reduceByKey(lambda total,ele:total+ele).collect()"
   ]
  },
  {
   "cell_type": "code",
   "execution_count": 29,
   "metadata": {},
   "outputs": [],
   "source": [
    "spark.stop()"
   ]
  },
  {
   "cell_type": "code",
   "execution_count": null,
   "metadata": {},
   "outputs": [],
   "source": []
  }
 ],
 "metadata": {
  "kernelspec": {
   "display_name": "Pyspark 2",
   "language": "python",
   "name": "pyspark2"
  },
  "language_info": {
   "codemirror_mode": {
    "name": "ipython",
    "version": 3
   },
   "file_extension": ".py",
   "mimetype": "text/x-python",
   "name": "python",
   "nbconvert_exporter": "python",
   "pygments_lexer": "ipython3",
   "version": "3.6.8"
  }
 },
 "nbformat": 4,
 "nbformat_minor": 4
}
