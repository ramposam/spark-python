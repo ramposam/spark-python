{
 "cells": [
  {
   "cell_type": "code",
   "execution_count": 1,
   "metadata": {},
   "outputs": [],
   "source": [
    "import pandas as pd\n",
    "from pyspark.sql import SparkSession\n",
    "from pyspark.context import SparkContext\n",
    "from pyspark.sql.types import StructType, StructField, StringType\n",
    "import os"
   ]
  },
  {
   "cell_type": "code",
   "execution_count": 2,
   "metadata": {},
   "outputs": [],
   "source": [
    "#Spark Session using local(Standalone)\n",
    "spark = SparkSession.builder \\\n",
    "     .master(\"local\") \\\n",
    "     .appName(\"Pyspark SQL\") \\\n",
    "     .config(\"spark.ui.port\", \"50032\") \\\n",
    "     .getOrCreate()"
   ]
  },
  {
   "cell_type": "code",
   "execution_count": 32,
   "metadata": {},
   "outputs": [],
   "source": [
    "df = spark.read.json(\"data/emp.json\")"
   ]
  },
  {
   "cell_type": "code",
   "execution_count": null,
   "metadata": {},
   "outputs": [],
   "source": [
    "emp_l = []"
   ]
  },
  {
   "cell_type": "code",
   "execution_count": 45,
   "metadata": {},
   "outputs": [],
   "source": [
    "def convert_empdf_collection(df):\n",
    "    l = []\n",
    "    for row in df.collect():\n",
    "        for i in range(0,len(row.empno)):\n",
    "            l.append(\n",
    "                (row.empno[i],\n",
    "                 row.ename[i],\n",
    "                 row.job[i],\n",
    "                 row.mgr[i],\n",
    "                 row.hiredate[i],\n",
    "                 row.sal[i],\n",
    "                 row.comm[i],\n",
    "                 row.deptno[i])\n",
    "            )\n",
    "    return l"
   ]
  },
  {
   "cell_type": "code",
   "execution_count": 46,
   "metadata": {},
   "outputs": [
    {
     "name": "stdout",
     "output_type": "stream",
     "text": [
      "+-----+------+---------+------+----------+------+------+------+\n",
      "|empno| ename|      job|   mgr|  hiredate|   sal|  comm|deptno|\n",
      "+-----+------+---------+------+----------+------+------+------+\n",
      "| 7369| SMITH|    CLERK|7902.0|1980-12-17| 800.0|  null|    20|\n",
      "| 7499| ALLEN| SALESMAN|7698.0|1981-02-20|1600.0| 300.0|    30|\n",
      "| 7876| ADAMS|    CLERK|7788.0|1983-01-12|1100.0|  null|    20|\n",
      "| 7900| JAMES|    CLERK|7698.0|1981-12-03| 950.0|  null|    30|\n",
      "| 7902|  FORD|  ANALYST|7566.0|1981-12-03|3000.0|  null|    20|\n",
      "| 7934|MILLER|    CLERK|7782.0|1982-01-23|1300.0|  null|    10|\n",
      "| 7521|  WARD| SALESMAN|7698.0|1981-02-22|1250.0| 500.0|    30|\n",
      "| 7566| JONES|  MANAGER|7839.0|1981-04-02|2975.0|  null|    20|\n",
      "| 7654|MARTIN| SALESMAN|7698.0|1981-09-28|1250.0|1400.0|    30|\n",
      "| 7698| BLAKE|  MANAGER|7839.0|1981-05-01|2850.0|  null|    30|\n",
      "| 7782| CLARK|  MANAGER|7839.0|1981-06-09|2450.0|  null|    10|\n",
      "| 7788| SCOTT|  ANALYST|7566.0|1982-12-09|3000.0|  null|    20|\n",
      "| 7839|  KING|PRESIDENT|  null|1981-11-17|5000.0|  null|    10|\n",
      "| 7844|TURNER| SALESMAN|7698.0|1981-09-08|1500.0|   0.0|    30|\n",
      "+-----+------+---------+------+----------+------+------+------+\n",
      "\n"
     ]
    }
   ],
   "source": [
    "emp_t = convert_empdf_collection(df)\n",
    "emp = spark.createDataFrame(emp_t,(\"empno\",\"ename\",\"job\",\"mgr\",\"hiredate\",\"sal\",\"comm\",\"deptno\"))\n",
    "emp.show()"
   ]
  },
  {
   "cell_type": "code",
   "execution_count": 52,
   "metadata": {},
   "outputs": [
    {
     "name": "stdout",
     "output_type": "stream",
     "text": [
      "+-----+-----+-------+------+----------+------+----+------+\n",
      "|empno|ename|    job|   mgr|  hiredate|   sal|comm|deptno|\n",
      "+-----+-----+-------+------+----------+------+----+------+\n",
      "| 7369|SMITH|  CLERK|7902.0|1980-12-17| 800.0|null|    20|\n",
      "| 7876|ADAMS|  CLERK|7788.0|1983-01-12|1100.0|null|    20|\n",
      "| 7902| FORD|ANALYST|7566.0|1981-12-03|3000.0|null|    20|\n",
      "| 7566|JONES|MANAGER|7839.0|1981-04-02|2975.0|null|    20|\n",
      "| 7788|SCOTT|ANALYST|7566.0|1982-12-09|3000.0|null|    20|\n",
      "+-----+-----+-------+------+----------+------+----+------+\n",
      "\n"
     ]
    }
   ],
   "source": [
    "emp[emp.deptno == 20].show()"
   ]
  }
 ],
 "metadata": {
  "kernelspec": {
   "display_name": "Pyspark 2",
   "language": "python",
   "name": "pyspark2"
  },
  "language_info": {
   "codemirror_mode": {
    "name": "ipython",
    "version": 3
   },
   "file_extension": ".py",
   "mimetype": "text/x-python",
   "name": "python",
   "nbconvert_exporter": "python",
   "pygments_lexer": "ipython3",
   "version": "3.6.8"
  }
 },
 "nbformat": 4,
 "nbformat_minor": 4
}
