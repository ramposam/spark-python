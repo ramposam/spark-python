{
 "cells": [
  {
   "cell_type": "code",
   "execution_count": 1,
   "metadata": {},
   "outputs": [
    {
     "name": "stdout",
     "output_type": "stream",
     "text": [
      "+-----+------+---------+----+-------------------+------+-------+------+\n",
      "|empno| ename|      job| mgr|           hiredate|   sal|   comm|deptno|\n",
      "+-----+------+---------+----+-------------------+------+-------+------+\n",
      "| 7369| SMITH|    CLERK|7902|1980-12-17 00:00:00| 800.0|   null|    20|\n",
      "| 7499| ALLEN| SALESMAN|7698|1981-02-20 00:00:00|1600.0| 300.00|    30|\n",
      "| 7521|  WARD| SALESMAN|7698|1981-02-22 00:00:00|1250.0| 500.00|    30|\n",
      "| 7566| JONES|  MANAGER|7839|1981-04-02 00:00:00|2975.0|   null|    20|\n",
      "| 7654|MARTIN| SALESMAN|7698|1981-09-28 00:00:00|1250.0|1400.00|    30|\n",
      "| 7698| BLAKE|  MANAGER|7839|1981-05-01 00:00:00|2850.0|   null|    30|\n",
      "| 7782| CLARK|  MANAGER|7839|1981-06-09 00:00:00|2450.0|   null|    10|\n",
      "| 7788| SCOTT|  ANALYST|7566|1982-12-09 00:00:00|3000.0|   null|    20|\n",
      "| 7839|  KING|PRESIDENT|null|1981-11-17 00:00:00|5000.0|   null|    10|\n",
      "| 7844|TURNER| SALESMAN|7698|1981-09-08 00:00:00|1500.0|   0.00|    30|\n",
      "| 7876| ADAMS|    CLERK|7788|1983-01-12 00:00:00|1100.0|   null|    20|\n",
      "| 7900| JAMES|    CLERK|7698|1981-12-03 00:00:00| 950.0|   null|    30|\n",
      "| 7902|  FORD|  ANALYST|7566|1981-12-03 00:00:00|3000.0|   null|    20|\n",
      "| 7934|MILLER|    CLERK|7782|1982-01-23 00:00:00|1300.0|   null|    10|\n",
      "+-----+------+---------+----+-------------------+------+-------+------+\n",
      "\n"
     ]
    },
    {
     "data": {
      "text/plain": [
       "emp_df: Unit = ()\n"
      ]
     },
     "metadata": {},
     "output_type": "display_data",
     "source": "user"
    }
   ],
   "source": [
    "val emp_df = spark.read.format(\"csv\")\n",
    "  .option(\"delimiter\",\",\").option(\"quote\",\"\")\n",
    "  .option(\"header\", \"true\")\n",
    "  .option(\"inferSchema\", \"true\")\n",
    "  .load(\"file:///home/rposam2020/emp.csv\").show\n"
   ]
  },
  {
   "cell_type": "code",
   "execution_count": 6,
   "metadata": {},
   "outputs": [
    {
     "name": "stdout",
     "output_type": "stream",
     "text": [
      "+-----+------+---------+----+----------+------+-------+------+\n",
      "|empno| ename|      job| mgr|  hiredate|   sal|   comm|deptno|\n",
      "+-----+------+---------+----+----------+------+-------+------+\n",
      "| 7369| SMITH|    CLERK|7902|1980-12-17| 800.0|   null|    20|\n",
      "| 7499| ALLEN| SALESMAN|7698|1981-02-20|1600.0| 300.00|    30|\n",
      "| 7521|  WARD| SALESMAN|7698|1981-02-22|1250.0| 500.00|    30|\n",
      "| 7566| JONES|  MANAGER|7839|1981-04-02|2975.0|   null|    20|\n",
      "| 7654|MARTIN| SALESMAN|7698|1981-09-28|1250.0|1400.00|    30|\n",
      "| 7698| BLAKE|  MANAGER|7839|1981-05-01|2850.0|   null|    30|\n",
      "| 7782| CLARK|  MANAGER|7839|1981-06-09|2450.0|   null|    10|\n",
      "| 7788| SCOTT|  ANALYST|7566|1982-12-09|3000.0|   null|    20|\n",
      "| 7839|  KING|PRESIDENT|null|1981-11-17|5000.0|   null|    10|\n",
      "| 7844|TURNER| SALESMAN|7698|1981-09-08|1500.0|   0.00|    30|\n",
      "| 7876| ADAMS|    CLERK|7788|1983-01-12|1100.0|   null|    20|\n",
      "| 7900| JAMES|    CLERK|7698|1981-12-03| 950.0|   null|    30|\n",
      "| 7902|  FORD|  ANALYST|7566|1981-12-03|3000.0|   null|    20|\n",
      "| 7934|MILLER|    CLERK|7782|1982-01-23|1300.0|   null|    10|\n",
      "+-----+------+---------+----+----------+------+-------+------+\n",
      "\n"
     ]
    },
    {
     "data": {
      "text/plain": [
       "empSchema = StructType(StructField(empno,IntegerType,true), StructField(ename,StringType,true), StructField(job,StringType,true), StructField(mgr,StringType,true), StructField(hiredate,StringType,true), StructField(sal,DoubleType,true), StructField(comm,StringType,true), StructField(deptno,StringType,true))\n",
       "emp_file = [empno: int, ename: string ... 6 more fields]\n"
      ]
     },
     "metadata": {},
     "output_type": "display_data",
     "source": "user"
    },
    {
     "data": {
      "text/plain": [
       "warning: there was one deprecation warning; re-run with -deprecation for details\n"
      ]
     },
     "metadata": {},
     "output_type": "display_data",
     "source": "user"
    },
    {
     "data": {
      "text/plain": [
       "[empno: int, ename: string ... 6 more fields]"
      ]
     },
     "execution_count": 6,
     "metadata": {},
     "output_type": "execute_result"
    }
   ],
   "source": [
    "import org.apache.spark.sql.types._\n",
    "\n",
    "val empSchema = new StructType()\n",
    "  .add(\"empno\",IntegerType,true)\n",
    "  .add(\"ename\",StringType,true)\n",
    "  .add(\"job\",StringType,true)\n",
    "  .add(\"mgr\",StringType,true)\n",
    "  .add(\"hiredate\",StringType,true)\n",
    "  .add(\"sal\",DoubleType,true)\n",
    "  .add(\"comm\",StringType,true)\n",
    "  .add(\"deptno\",StringType,true)\n",
    "\n",
    "val emp_file = spark.read.format(\"csv\")\n",
    "  .option(\"delimiter\",\",\").option(\"quote\",\"\")\n",
    "  .option(\"header\", \"true\")\n",
    "   .option(\"mode\", \"PERMISSIVE\")\n",
    "  .schema(empSchema)\n",
    "  .load(\"file:///home/rposam2020/emp.csv\")\n",
    "\n",
    "emp_file.registerTempTable(\"empTemp\")\n",
    "\n",
    "spark.sql(\"select * from empTemp\").show\n"
   ]
  },
  {
   "cell_type": "code",
   "execution_count": null,
   "metadata": {},
   "outputs": [],
   "source": [
    "spark.read.csv?\n",
    "\n"
   ]
  },
  {
   "cell_type": "code",
   "execution_count": null,
   "metadata": {},
   "outputs": [],
   "source": []
  },
  {
   "cell_type": "code",
   "execution_count": null,
   "metadata": {},
   "outputs": [],
   "source": []
  },
  {
   "cell_type": "code",
   "execution_count": null,
   "metadata": {},
   "outputs": [],
   "source": []
  },
  {
   "cell_type": "code",
   "execution_count": null,
   "metadata": {},
   "outputs": [],
   "source": []
  },
  {
   "cell_type": "code",
   "execution_count": null,
   "metadata": {},
   "outputs": [],
   "source": []
  },
  {
   "cell_type": "code",
   "execution_count": null,
   "metadata": {},
   "outputs": [],
   "source": []
  },
  {
   "cell_type": "code",
   "execution_count": null,
   "metadata": {},
   "outputs": [],
   "source": []
  }
 ],
 "metadata": {
  "kernelspec": {
   "display_name": "Apache Toree - Scala",
   "language": "scala",
   "name": "apache_toree_scala"
  },
  "language_info": {
   "codemirror_mode": "text/x-scala",
   "file_extension": ".scala",
   "mimetype": "text/x-scala",
   "name": "scala",
   "pygments_lexer": "scala",
   "version": "2.11.12"
  }
 },
 "nbformat": 4,
 "nbformat_minor": 4
}
