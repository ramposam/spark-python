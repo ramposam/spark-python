{
 "cells": [
  {
   "cell_type": "code",
   "execution_count": 62,
   "metadata": {},
   "outputs": [],
   "source": [
    "# import necessary packages\n",
    "\n",
    "from pyspark import SparkContext\n",
    "from pyspark.streaming import StreamingContext\n",
    "from pyspark.sql import SQLContext\n",
    "from pyspark.sql.functions import desc\n",
    "from urllib.request import urlopen\n",
    "import json\n",
    "import requests\n",
    "import pandas as pd\n"
   ]
  },
  {
   "cell_type": "code",
   "execution_count": 2,
   "metadata": {},
   "outputs": [],
   "source": [
    "\n",
    "# we create an instance of SparkContext. we can run this only once since it initiates the entry point and runs \n",
    "#the operations inside the executors on worker nodes. if you face any issue, just restart the kernel and run it again.\n",
    "sc = SparkContext()"
   ]
  },
  {
   "cell_type": "code",
   "execution_count": 3,
   "metadata": {},
   "outputs": [],
   "source": [
    "# we initiate the StreamingContext with 10 second batch interval. next we initiate our sqlcontext\n",
    "ssc = StreamingContext(sc, 10 )\n",
    "sqlContext = SQLContext(sc)"
   ]
  },
  {
   "cell_type": "code",
   "execution_count": 136,
   "metadata": {},
   "outputs": [],
   "source": [
    "l=[]"
   ]
  },
  {
   "cell_type": "code",
   "execution_count": 137,
   "metadata": {},
   "outputs": [
    {
     "name": "stdout",
     "output_type": "stream",
     "text": [
      "{'results': [{'user': {'gender': 'female', 'name': {'title': 'ms', 'first': 'stella', 'last': 'cooper'}, 'location': {'street': '6100 dominion road', 'city': 'blenheim', 'state': 'taranaki', 'zip': 79954}, 'email': 'stella.cooper@example.com', 'username': 'redcat373', 'password': 'jenny', 'salt': 'bN38xMOl', 'md5': 'a259e4bbdb3b0cc0477ad22101b5804c', 'sha1': 'd898923a36b039a0416f11b1f1b1e5a71a8cfadc', 'sha256': 'b4b609559df84e9185ac241533adb09204ea544accd95fa8d12f5149b8444821', 'registered': 1419821329, 'dob': 968430406, 'phone': '(160)-517-2928', 'cell': '(931)-335-1304', 'picture': {'large': 'https://randomuser.me/api/portraits/women/32.jpg', 'medium': 'https://randomuser.me/api/portraits/med/women/32.jpg', 'thumbnail': 'https://randomuser.me/api/portraits/thumb/women/32.jpg'}}}], 'nationality': 'NZ', 'seed': '81b9ebd7f265cbe90c', 'version': '0.8'}\n",
      "\n",
      "{'results': [{'user': {'gender': 'female', 'name': {'title': 'mademoiselle', 'first': 'inès', 'last': 'leroux'}, 'location': {'street': '4316 boulevard de la duchère', 'city': 'villars-tiercelin', 'state': 'schaffhausen', 'zip': 5109}, 'email': 'inès.leroux@example.com', 'username': 'smallpeacock815', 'password': 'snowbird', 'salt': 'xhth5XOF', 'md5': 'a19a5c403b3fe15cf618bc42091e4e45', 'sha1': 'e7d2de9865026830eeab6998bd709d09df01a1e4', 'sha256': 'cc903f44253e84bd318b18b6b3bda6661e2b567dc32646b67b44f61b3057acd4', 'registered': 1091915074, 'dob': 200070912, 'phone': '(494)-659-6352', 'cell': '(827)-159-0944', 'AVS': '756.XDLH.PFPF.89', 'picture': {'large': 'https://randomuser.me/api/portraits/women/28.jpg', 'medium': 'https://randomuser.me/api/portraits/med/women/28.jpg', 'thumbnail': 'https://randomuser.me/api/portraits/thumb/women/28.jpg'}}}], 'nationality': 'CH', 'seed': '9531b0255b78aebb03', 'version': '0.8'}\n",
      "\n",
      "{'results': [{'user': {'gender': 'male', 'name': {'title': 'mr', 'first': 'samuel', 'last': 'soler'}, 'location': {'street': '2357 paseo de zorrilla', 'city': 'torrevieja', 'state': 'cantabria', 'zip': 79526}, 'email': 'samuel.soler@example.com', 'username': 'whitebutterfly144', 'password': 'zorro1', 'salt': 'R7yLEpjC', 'md5': '137e882a91690a07a5908b8c0c90d60d', 'sha1': 'b457623fd926afa52ab6e36edde90fa3995dca40', 'sha256': '8d6684a426bb0b8453472968ac3e848d6657a2952c3a8bb02fa045896e5578d3', 'registered': 1243966173, 'dob': 98039118, 'phone': '937-056-530', 'cell': '667-255-512', 'DNI': '18935486-Q', 'picture': {'large': 'https://randomuser.me/api/portraits/men/65.jpg', 'medium': 'https://randomuser.me/api/portraits/med/men/65.jpg', 'thumbnail': 'https://randomuser.me/api/portraits/thumb/men/65.jpg'}}}], 'nationality': 'ES', 'seed': 'faae0879c06d737c05', 'version': '0.8'}\n",
      "\n",
      "{'results': [{'user': {'gender': 'female', 'name': {'title': 'mrs', 'first': 'elsa', 'last': 'vincent'}, 'location': {'street': '9070 rue victor-hugo', 'city': 'metz', 'state': 'corse-du-sud', 'zip': 57097}, 'email': 'elsa.vincent@example.com', 'username': 'tinygoose605', 'password': 'crew', 'salt': 'zJRWbwgH', 'md5': '70d7a6b5e4074f99f1215198dbc25907', 'sha1': '64f817a7da7698129f291ad0a1b3ce6b65e12902', 'sha256': '4e20a102f3a2c55b0d38b13404e8e99d932ecc5ae4f75d6e9762af8076f469f4', 'registered': 1254636405, 'dob': 587336954, 'phone': '01-60-37-68-43', 'cell': '06-88-44-59-52', 'INSEE': '2880884765531 70', 'picture': {'large': 'https://randomuser.me/api/portraits/women/42.jpg', 'medium': 'https://randomuser.me/api/portraits/med/women/42.jpg', 'thumbnail': 'https://randomuser.me/api/portraits/thumb/women/42.jpg'}}}], 'nationality': 'FR', 'seed': 'cb1deb16e798c49e07', 'version': '0.8'}\n",
      "\n",
      "{'results': [{'user': {'gender': 'female', 'name': {'title': 'madame', 'first': 'lana', 'last': 'vidal'}, 'location': {'street': '4384 avenue goerges clémenceau', 'city': 'bettens', 'state': 'bern', 'zip': 9220}, 'email': 'lana.vidal@example.com', 'username': 'heavydog182', 'password': 'blue123', 'salt': 'jcoA80Ux', 'md5': '96a785936a6e3c0df54da2f6c72dca81', 'sha1': '4d9da1e10029469c92b8c17b22f7c14a5f907eae', 'sha256': '5e990255e8fc208308fa5e07a2f553c83a3fd69c61498bf36b23e2df007cc9d5', 'registered': 1350872718, 'dob': 864354363, 'phone': '(338)-222-9478', 'cell': '(874)-103-6693', 'AVS': '756.BLRC.JNRT.02', 'picture': {'large': 'https://randomuser.me/api/portraits/women/39.jpg', 'medium': 'https://randomuser.me/api/portraits/med/women/39.jpg', 'thumbnail': 'https://randomuser.me/api/portraits/thumb/women/39.jpg'}}}], 'nationality': 'CH', 'seed': 'bd511f5e56552b4d03', 'version': '0.8'}\n",
      "\n",
      "{'results': [{'user': {'gender': 'female', 'name': {'title': 'ms', 'first': 'nicky', 'last': 'lowe'}, 'location': {'street': '3718 grange road', 'city': 'liverpool', 'state': 'greater manchester', 'zip': 'D48 3HN'}, 'email': 'nicky.lowe@example.com', 'username': 'smallsnake333', 'password': 'johngalt', 'salt': 'DWS776Kr', 'md5': '237cb95f6e2f53d3ce3f167ae3433dd4', 'sha1': '4254c1dacff1f61fa3c35255968bbfadbb08871e', 'sha256': 'abb930b4e5dbad792cf1540d9622830862b77193207e399f6ec203b8fb212487', 'registered': 1372973317, 'dob': 186839089, 'phone': '01516 118048', 'cell': '0790-576-424', 'NINO': 'GJ 20 04 69 G', 'picture': {'large': 'https://randomuser.me/api/portraits/women/68.jpg', 'medium': 'https://randomuser.me/api/portraits/med/women/68.jpg', 'thumbnail': 'https://randomuser.me/api/portraits/thumb/women/68.jpg'}}}], 'nationality': 'GB', 'seed': '9ff4869399d520c308', 'version': '0.8'}\n",
      "\n",
      "{'results': [{'user': {'gender': 'male', 'name': {'title': 'mr', 'first': 'eric', 'last': 'bowman'}, 'location': {'street': '2495 george street', 'city': 'wolverhampton', 'state': 'clwyd', 'zip': 'MP4 2US'}, 'email': 'eric.bowman@example.com', 'username': 'ticklishbear250', 'password': 'isabella', 'salt': 'NnGJDFA1', 'md5': '9e5c6f72f4cfa587b128f629cb64f7b7', 'sha1': 'ca4370e56643dad9880ded4bc9c873d53c5465f7', 'sha256': '5aaab1a5e20fd3e9bf2f37b6f1c0f08840a6f7b2156e0a77a39acbe9aa836996', 'registered': 1321700452, 'dob': 1282937918, 'phone': '01039 416826', 'cell': '0725-627-170', 'NINO': 'NK 12 10 86 Z', 'picture': {'large': 'https://randomuser.me/api/portraits/men/25.jpg', 'medium': 'https://randomuser.me/api/portraits/med/men/25.jpg', 'thumbnail': 'https://randomuser.me/api/portraits/thumb/men/25.jpg'}}}], 'nationality': 'GB', 'seed': '2bbb8382c95e78e008', 'version': '0.8'}\n",
      "\n",
      "{'results': [{'user': {'gender': 'female', 'name': {'title': 'miss', 'first': 'alyssia', 'last': 'martin'}, 'location': {'street': '8670 rue abel-hovelacque', 'city': 'boulogne-billancourt', 'state': 'savoie', 'zip': 32668}, 'email': 'alyssia.martin@example.com', 'username': 'heavybird939', 'password': 'wright', 'salt': 'VBF5dYh3', 'md5': 'b78ad458c9da748cc9ceaa76a75d7695', 'sha1': '1200412d87495f8cc84f0595e4f3f7aeef41bdaf', 'sha256': '5d2bdc10584985b7e5795a2f38b75f526d9e2ff788d137d2278b0cd5345a27d7', 'registered': 1021180668, 'dob': 499622469, 'phone': '05-82-90-14-54', 'cell': '06-38-25-47-25', 'INSEE': '2851098638625 35', 'picture': {'large': 'https://randomuser.me/api/portraits/women/7.jpg', 'medium': 'https://randomuser.me/api/portraits/med/women/7.jpg', 'thumbnail': 'https://randomuser.me/api/portraits/thumb/women/7.jpg'}}}], 'nationality': 'FR', 'seed': '3807b45c20a73d8807', 'version': '0.8'}\n",
      "\n",
      "{'results': [{'user': {'gender': 'female', 'name': {'title': 'mademoiselle', 'first': 'kelya', 'last': 'thomas'}, 'location': {'street': '5427 rue du château', 'city': 'cheseaux-sur-lausanne', 'state': 'nidwalden', 'zip': 6983}, 'email': 'kelya.thomas@example.com', 'username': 'yellowbear601', 'password': 'madcat', 'salt': 'G76h6nit', 'md5': '6ae9244441d42132feb3fc7e29eba24f', 'sha1': 'de177c770a6d8798e84e0a1586846c0a7e8281c0', 'sha256': '97ef71fad47a0ad12aecf4c075d495cdd8dd0e16b16dee548efb323f04ee83b2', 'registered': 1160914015, 'dob': 518351039, 'phone': '(601)-115-3724', 'cell': '(153)-752-0896', 'AVS': '756.CIBI.GOSZ.33', 'picture': {'large': 'https://randomuser.me/api/portraits/women/84.jpg', 'medium': 'https://randomuser.me/api/portraits/med/women/84.jpg', 'thumbnail': 'https://randomuser.me/api/portraits/thumb/women/84.jpg'}}}], 'nationality': 'CH', 'seed': 'd5566ac826bacb8e03', 'version': '0.8'}\n",
      "\n"
     ]
    }
   ],
   "source": [
    "for i in range(1,10):\n",
    "    url = \"https://randomuser.me/api/0.8\"\n",
    "    response = urlopen(url)\n",
    "    data = response.read()\n",
    "    json_data = json.loads(data)\n",
    "    print(json_data)\n",
    "    print()\n",
    "    l.append(json_data)"
   ]
  },
  {
   "cell_type": "code",
   "execution_count": 140,
   "metadata": {},
   "outputs": [],
   "source": [
    "df = pd.DataFrame(l)\n",
    "df.to_json(\"output/datafromurl.json\")"
   ]
  },
  {
   "cell_type": "code",
   "execution_count": 147,
   "metadata": {},
   "outputs": [
    {
     "data": {
      "text/html": [
       "<div>\n",
       "<style scoped>\n",
       "    .dataframe tbody tr th:only-of-type {\n",
       "        vertical-align: middle;\n",
       "    }\n",
       "\n",
       "    .dataframe tbody tr th {\n",
       "        vertical-align: top;\n",
       "    }\n",
       "\n",
       "    .dataframe thead th {\n",
       "        text-align: right;\n",
       "    }\n",
       "</style>\n",
       "<table border=\"1\" class=\"dataframe\">\n",
       "  <thead>\n",
       "    <tr style=\"text-align: right;\">\n",
       "      <th></th>\n",
       "      <th>results</th>\n",
       "      <th>nationality</th>\n",
       "      <th>seed</th>\n",
       "      <th>version</th>\n",
       "    </tr>\n",
       "  </thead>\n",
       "  <tbody>\n",
       "    <tr>\n",
       "      <th>0</th>\n",
       "      <td>[{'user': {'gender': 'female', 'name': {'title...</td>\n",
       "      <td>NZ</td>\n",
       "      <td>81b9ebd7f265cbe90c</td>\n",
       "      <td>0.8</td>\n",
       "    </tr>\n",
       "    <tr>\n",
       "      <th>1</th>\n",
       "      <td>[{'user': {'gender': 'female', 'name': {'title...</td>\n",
       "      <td>CH</td>\n",
       "      <td>9531b0255b78aebb03</td>\n",
       "      <td>0.8</td>\n",
       "    </tr>\n",
       "    <tr>\n",
       "      <th>2</th>\n",
       "      <td>[{'user': {'gender': 'male', 'name': {'title':...</td>\n",
       "      <td>ES</td>\n",
       "      <td>faae0879c06d737c05</td>\n",
       "      <td>0.8</td>\n",
       "    </tr>\n",
       "    <tr>\n",
       "      <th>3</th>\n",
       "      <td>[{'user': {'gender': 'female', 'name': {'title...</td>\n",
       "      <td>FR</td>\n",
       "      <td>cb1deb16e798c49e07</td>\n",
       "      <td>0.8</td>\n",
       "    </tr>\n",
       "    <tr>\n",
       "      <th>4</th>\n",
       "      <td>[{'user': {'gender': 'female', 'name': {'title...</td>\n",
       "      <td>CH</td>\n",
       "      <td>bd511f5e56552b4d03</td>\n",
       "      <td>0.8</td>\n",
       "    </tr>\n",
       "    <tr>\n",
       "      <th>5</th>\n",
       "      <td>[{'user': {'gender': 'female', 'name': {'title...</td>\n",
       "      <td>GB</td>\n",
       "      <td>9ff4869399d520c308</td>\n",
       "      <td>0.8</td>\n",
       "    </tr>\n",
       "    <tr>\n",
       "      <th>6</th>\n",
       "      <td>[{'user': {'gender': 'male', 'name': {'title':...</td>\n",
       "      <td>GB</td>\n",
       "      <td>2bbb8382c95e78e008</td>\n",
       "      <td>0.8</td>\n",
       "    </tr>\n",
       "    <tr>\n",
       "      <th>7</th>\n",
       "      <td>[{'user': {'gender': 'female', 'name': {'title...</td>\n",
       "      <td>FR</td>\n",
       "      <td>3807b45c20a73d8807</td>\n",
       "      <td>0.8</td>\n",
       "    </tr>\n",
       "    <tr>\n",
       "      <th>8</th>\n",
       "      <td>[{'user': {'gender': 'female', 'name': {'title...</td>\n",
       "      <td>CH</td>\n",
       "      <td>d5566ac826bacb8e03</td>\n",
       "      <td>0.8</td>\n",
       "    </tr>\n",
       "  </tbody>\n",
       "</table>\n",
       "</div>"
      ],
      "text/plain": [
       "                                             results nationality  \\\n",
       "0  [{'user': {'gender': 'female', 'name': {'title...          NZ   \n",
       "1  [{'user': {'gender': 'female', 'name': {'title...          CH   \n",
       "2  [{'user': {'gender': 'male', 'name': {'title':...          ES   \n",
       "3  [{'user': {'gender': 'female', 'name': {'title...          FR   \n",
       "4  [{'user': {'gender': 'female', 'name': {'title...          CH   \n",
       "5  [{'user': {'gender': 'female', 'name': {'title...          GB   \n",
       "6  [{'user': {'gender': 'male', 'name': {'title':...          GB   \n",
       "7  [{'user': {'gender': 'female', 'name': {'title...          FR   \n",
       "8  [{'user': {'gender': 'female', 'name': {'title...          CH   \n",
       "\n",
       "                 seed version  \n",
       "0  81b9ebd7f265cbe90c     0.8  \n",
       "1  9531b0255b78aebb03     0.8  \n",
       "2  faae0879c06d737c05     0.8  \n",
       "3  cb1deb16e798c49e07     0.8  \n",
       "4  bd511f5e56552b4d03     0.8  \n",
       "5  9ff4869399d520c308     0.8  \n",
       "6  2bbb8382c95e78e008     0.8  \n",
       "7  3807b45c20a73d8807     0.8  \n",
       "8  d5566ac826bacb8e03     0.8  "
      ]
     },
     "execution_count": 147,
     "metadata": {},
     "output_type": "execute_result"
    }
   ],
   "source": [
    "df"
   ]
  },
  {
   "cell_type": "code",
   "execution_count": 158,
   "metadata": {},
   "outputs": [
    {
     "data": {
      "text/plain": [
       "[{'user': {'gender': 'female',\n",
       "   'name': {'title': 'ms', 'first': 'stella', 'last': 'cooper'},\n",
       "   'location': {'street': '6100 dominion road',\n",
       "    'city': 'blenheim',\n",
       "    'state': 'taranaki',\n",
       "    'zip': 79954},\n",
       "   'email': 'stella.cooper@example.com',\n",
       "   'username': 'redcat373',\n",
       "   'password': 'jenny',\n",
       "   'salt': 'bN38xMOl',\n",
       "   'md5': 'a259e4bbdb3b0cc0477ad22101b5804c',\n",
       "   'sha1': 'd898923a36b039a0416f11b1f1b1e5a71a8cfadc',\n",
       "   'sha256': 'b4b609559df84e9185ac241533adb09204ea544accd95fa8d12f5149b8444821',\n",
       "   'registered': 1419821329,\n",
       "   'dob': 968430406,\n",
       "   'phone': '(160)-517-2928',\n",
       "   'cell': '(931)-335-1304',\n",
       "   'picture': {'large': 'https://randomuser.me/api/portraits/women/32.jpg',\n",
       "    'medium': 'https://randomuser.me/api/portraits/med/women/32.jpg',\n",
       "    'thumbnail': 'https://randomuser.me/api/portraits/thumb/women/32.jpg'}}}]"
      ]
     },
     "execution_count": 158,
     "metadata": {},
     "output_type": "execute_result"
    }
   ],
   "source": [
    "df.results[0]"
   ]
  }
 ],
 "metadata": {
  "kernelspec": {
   "display_name": "Pyspark 2",
   "language": "python",
   "name": "pyspark2"
  },
  "language_info": {
   "codemirror_mode": {
    "name": "ipython",
    "version": 3
   },
   "file_extension": ".py",
   "mimetype": "text/x-python",
   "name": "python",
   "nbconvert_exporter": "python",
   "pygments_lexer": "ipython3",
   "version": "3.6.8"
  }
 },
 "nbformat": 4,
 "nbformat_minor": 4
}
