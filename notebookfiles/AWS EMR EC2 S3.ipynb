{
 "cells": [
  {
   "cell_type": "markdown",
   "metadata": {},
   "source": [
    "### AWS\n",
    "    . EMR\n",
    "    . EC2\n",
    "    . S3"
   ]
  },
  {
   "cell_type": "markdown",
   "metadata": {},
   "source": [
    "### EMR Creation\n",
    "    Elastic Map Reduce is a managed cluster platform that simplifies running big data framework such as spark,hadoop on AWS to process,analyze data\n",
    "    . General configuration\n",
    "          i) Launch Mode/Step execution\n",
    "    . Software Configuration\n",
    "          i) Predefined software package(hadoop and hive, Spark,hadoop,hive,etc..)\n",
    "    . Hardware configuration\n",
    "          i) Instance Type(m3.large,m4.large,etc..)\n",
    "          ii) No of instances (1 master and 2 cores)\n",
    "    . Secutiy and Access\n",
    "          i) EC2 Key pair(to log in cluster)\n",
    "  #### To run/submit any spark/hive jobs we use Steps"
   ]
  },
  {
   "cell_type": "markdown",
   "metadata": {},
   "source": [
    "### EC2\n",
    "    EC2 stands for Elastic compute cloud\n",
    "    EC2 is web service which provides security and resizable compute capacity in the cloud\n",
    "    . Ease in scaling (up/down)\n",
    "    . Pay only what we use\n",
    "    . Integrate to several others services\n",
    "##### EC2 Creation using AWS\n",
    "        . Choosing an AMI(amazon Machin image). it is list of softwares/application in aws marketplace\n",
    "            . Predefined AMI(bundle of relates softwares as a package)\n",
    "            . Custome AMI\n",
    "        . Choosing an instance type(size of Hardware/Hardware specification)\n",
    "            . Compute optimized(Hadoop)\n",
    "            . Memory Optimized(Spark)\n",
    "            . GPU Optimized(Gaming)\n",
    "            . Storage Optimized(HDFS)\n",
    "            . General Purpose\n",
    "        . Configure instances(stop/terminating services). Billing Options\n",
    "            . Spot(Bidding)\n",
    "            . Reserve(Pay in Advance)\n",
    "            . On-Demand(Pay what you use)\n",
    "        . Adding storage(Adding addittion storage to the ec2 instance)\n",
    "            . Volume Types\n",
    "        . Adding Tags (Easy to maintain all the instances with meaning full names(purpose) like Adminstration,billing,HR,Research,etc..)\n",
    "            . when thousands of instances are running easy to identify using Tag\n",
    "        . Configure security groups(inbound/outbound rules)\n",
    "        . Review\n",
    "    "
   ]
  },
  {
   "cell_type": "markdown",
   "metadata": {},
   "source": [
    "### S3\n",
    "    S3 stands for Simple storage Service\n",
    "    S3 provide easy access,security and fault tolerant\n",
    "    S3 is a object storage and it stores multiple versions of each object/bucket"
   ]
  }
 ],
 "metadata": {
  "kernelspec": {
   "display_name": "Pyspark 2",
   "language": "python",
   "name": "pyspark2"
  },
  "language_info": {
   "codemirror_mode": {
    "name": "ipython",
    "version": 3
   },
   "file_extension": ".py",
   "mimetype": "text/x-python",
   "name": "python",
   "nbconvert_exporter": "python",
   "pygments_lexer": "ipython3",
   "version": "3.6.8"
  }
 },
 "nbformat": 4,
 "nbformat_minor": 4
}
